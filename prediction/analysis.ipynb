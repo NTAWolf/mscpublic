{
 "cells": [
  {
   "cell_type": "code",
   "execution_count": null,
   "metadata": {
    "ExecuteTime": {
     "end_time": "2016-05-31T08:51:17.105326",
     "start_time": "2016-05-31T08:51:15.707363"
    },
    "collapsed": true,
    "run_control": {
     "frozen": false,
     "read_only": false
    }
   },
   "outputs": [],
   "source": [
    "import os\n",
    "\n",
    "import pandas as pd\n",
    "import numpy as np\n",
    "import seaborn as sns\n",
    "import statsmodels.api as sm\n",
    "%matplotlib inline\n",
    "\n",
    "\n",
    "import tbtools.dev as tbdev\n",
    "\n",
    "import utils.prediction as upr\n",
    "import utils.data as ud\n",
    "import utils.plotting as up"
   ]
  },
  {
   "cell_type": "markdown",
   "metadata": {},
   "source": [
    "## Fetch data, clean it up"
   ]
  },
  {
   "cell_type": "code",
   "execution_count": null,
   "metadata": {
    "ExecuteTime": {
     "end_time": "2016-05-31T08:51:18.375423",
     "start_time": "2016-05-31T08:51:18.272859"
    },
    "collapsed": false,
    "run_control": {
     "frozen": false,
     "read_only": false
    }
   },
   "outputs": [],
   "source": [
    "results = upr.PersistentResultsAggregator(path=os.path.join(ud.paths.Paths.cache, 'v3results'))"
   ]
  },
  {
   "cell_type": "code",
   "execution_count": null,
   "metadata": {
    "ExecuteTime": {
     "end_time": "2016-05-31T08:51:23.169584",
     "start_time": "2016-05-31T08:51:23.155942"
    },
    "collapsed": true,
    "run_control": {
     "frozen": false,
     "read_only": false
    }
   },
   "outputs": [],
   "source": [
    "df = results.to_df()"
   ]
  },
  {
   "cell_type": "code",
   "execution_count": null,
   "metadata": {
    "ExecuteTime": {
     "end_time": "2016-05-31T08:51:27.130069",
     "start_time": "2016-05-31T08:51:27.123118"
    },
    "collapsed": true,
    "run_control": {
     "frozen": false,
     "read_only": false
    }
   },
   "outputs": [],
   "source": [
    "def extract_int(df, tomatch):\n",
    "    return df.index.str.findall('{}(\\d+)'.format(tomatch)).map(lambda x: x[0]).astype(int)\n",
    "\n",
    "def extract_str(df, tomatch):\n",
    "    return df.index.str.findall('({})'.format(tomatch)).map(lambda x: x[0]).astype(str)"
   ]
  },
  {
   "cell_type": "code",
   "execution_count": null,
   "metadata": {
    "ExecuteTime": {
     "end_time": "2016-05-31T08:51:28.409260",
     "start_time": "2016-05-31T08:51:28.380707"
    },
    "collapsed": false,
    "run_control": {
     "frozen": false,
     "read_only": false
    }
   },
   "outputs": [],
   "source": [
    "df['model'] = extract_str(df, '^\\w\\w')\n",
    "df['line'] = extract_int(df, 'Line')\n",
    "df['lag'] = extract_int(df, 'Lag=')\n",
    "df = df.reset_index().drop( ('index', ''), axis=1)"
   ]
  },
  {
   "cell_type": "markdown",
   "metadata": {
    "heading_collapsed": true
   },
   "source": [
    "## Use simple comparisons to find which model/baseline is better for what lag"
   ]
  },
  {
   "cell_type": "markdown",
   "metadata": {
    "hidden": true
   },
   "source": [
    "#### RMSE\n",
    "\n",
    ":/"
   ]
  },
  {
   "cell_type": "code",
   "execution_count": null,
   "metadata": {
    "ExecuteTime": {
     "end_time": "2016-05-23T11:12:28.572231",
     "start_time": "2016-05-23T11:12:28.382366"
    },
    "collapsed": true,
    "hidden": true,
    "run_control": {
     "frozen": false,
     "read_only": false
    }
   },
   "outputs": [],
   "source": [
    "r = df[[('rmse', 'train_cv_mean'), ('rmse', 'train_cv_sem'), ('model', ''), ('line', ''), ('lag', '')]]\n",
    "for k, gr in r.groupby(['line', 'lag']):\n",
    "    gr = gr.set_index('model')\n",
    "    gr['lo'] = gr[('rmse', 'train_cv_mean')] - 1.96*gr[('rmse', 'train_cv_sem')]\n",
    "    gr['hi'] = gr[('rmse', 'train_cv_mean')] + 1.96*gr[('rmse', 'train_cv_sem')]\n",
    "    best = gr[('rmse', 'train_cv_mean')].argmin()\n",
    "    contenders = gr.index[(gr['lo'] < gr['hi'][best])]\n",
    "    print(k)\n",
    "    for i in contenders:\n",
    "        print('\\t', i, '{:.2} {:.2} {:.2}'.format(gr['lo'][i], \n",
    "                                                  gr[('rmse', 'train_cv_mean')][i], \n",
    "                                                  gr['hi'][i]))\n",
    "        \n"
   ]
  },
  {
   "cell_type": "code",
   "execution_count": null,
   "metadata": {
    "ExecuteTime": {
     "end_time": "2016-05-23T11:17:08.887976",
     "start_time": "2016-05-23T11:17:08.688286"
    },
    "collapsed": true,
    "hidden": true,
    "run_control": {
     "frozen": false,
     "read_only": false
    }
   },
   "outputs": [],
   "source": [
    "r = df[[('within_80%', 'train_cv_mean'), ('within_80%', 'train_cv_sem'), ('model', ''), ('line', ''), ('lag', '')]]\n",
    "for k, gr in r.groupby(['line', 'lag']):\n",
    "    gr = gr.set_index('model')\n",
    "    gr['lo'] = gr[('within_80%', 'train_cv_mean')] - 1.96*gr[('within_80%', 'train_cv_sem')]\n",
    "    gr['hi'] = gr[('within_80%', 'train_cv_mean')] + 1.96*gr[('within_80%', 'train_cv_sem')]\n",
    "    best = gr[('within_80%', 'train_cv_mean')].argmin()\n",
    "    contenders = gr.index[(gr['lo'] < gr['hi'][best])]\n",
    "    print(k)\n",
    "    for i in contenders:\n",
    "        print('\\t', i, '{:.2} {:.2} {:.2}'.format(gr['lo'][i], \n",
    "                                                  gr[('within_80%', 'train_cv_mean')][i], \n",
    "                                                  gr['hi'][i]))\n",
    "        \n"
   ]
  },
  {
   "cell_type": "markdown",
   "metadata": {
    "heading_collapsed": true
   },
   "source": [
    "## Train CV Standard error of the mean plots"
   ]
  },
  {
   "cell_type": "markdown",
   "metadata": {
    "heading_collapsed": true,
    "hidden": true
   },
   "source": [
    "#### code for semplot"
   ]
  },
  {
   "cell_type": "code",
   "execution_count": null,
   "metadata": {
    "ExecuteTime": {
     "end_time": "2016-05-25T15:47:01.146878",
     "start_time": "2016-05-25T15:47:01.112644"
    },
    "collapsed": false,
    "hidden": true,
    "run_control": {
     "frozen": false,
     "read_only": false
    },
    "scrolled": false
   },
   "outputs": [],
   "source": [
    "def semplot(line, vals, figsize=(6,6), save=True):\n",
    "    col = iter(sns.color_palette('colorblind'))\n",
    "    ax = None\n",
    "    jit = -.75\n",
    "    for k, gr in df[df.line == line].groupby(['model']):\n",
    "        c = next(col)\n",
    "        gr = gr.copy()\n",
    "        gr['lag'] += jit\n",
    "        with sns.axes_style('whitegrid'):\n",
    "            ax = gr.sort_values('lag').plot('lag', (vals, 'train_cv_mean'), marker='o',\n",
    "                                       label=k, color=c, ax=ax, figsize=figsize)\n",
    "            sns.plt.vlines(x=df['lag']+jit,\n",
    "                ymin=gr[(vals, 'train_cv_mean')] - 1.96*gr[(vals, 'train_cv_sem')],\n",
    "                ymax=gr[(vals, 'train_cv_mean')] + 1.96*gr[(vals, 'train_cv_sem')], \n",
    "                           color=c, hold=True)\n",
    "        jit += .5\n",
    "    sns.plt.ylim((np.floor( (df[(vals, 'train_cv_mean')] - 1.96*df[(vals, 'train_cv_sem')]).min() ),\n",
    "                  np.ceil( (df[(vals, 'train_cv_mean')] + 1.96*df[(vals, 'train_cv_sem')]).max() )))\n",
    "    sns.plt.xlim((-2, 64))\n",
    "    sns.plt.legend(loc='upper left')\n",
    "    name = 'RMSE' if vals=='rmse' else '80th percentile'\n",
    "    sns.plt.ylabel('{} Line {}'.format(name, line))\n",
    "#     up.lim_expand(ax, 1.1)\n",
    "    ax.set_xticks(df.lag.unique())\n",
    "    if save:\n",
    "        # quick fix:\n",
    "        if '%' in vals and '80' in vals:\n",
    "            vals = 'w80'\n",
    "        p = 'results/{}_sem_l{}.png'.format(vals, line)\n",
    "        up.save_fig('w21/' + p, target='week')\n",
    "        up.save_fig(p)"
   ]
  },
  {
   "cell_type": "markdown",
   "metadata": {
    "heading_collapsed": true,
    "hidden": true
   },
   "source": [
    "#### rmse"
   ]
  },
  {
   "cell_type": "code",
   "execution_count": null,
   "metadata": {
    "ExecuteTime": {
     "end_time": "2016-05-23T12:18:57.911324",
     "start_time": "2016-05-23T12:18:57.440065"
    },
    "collapsed": false,
    "hidden": true,
    "run_control": {
     "frozen": false,
     "read_only": false
    }
   },
   "outputs": [],
   "source": [
    "semplot(1, 'rmse')"
   ]
  },
  {
   "cell_type": "code",
   "execution_count": null,
   "metadata": {
    "ExecuteTime": {
     "end_time": "2016-05-23T12:18:59.924692",
     "start_time": "2016-05-23T12:18:59.462011"
    },
    "collapsed": false,
    "hidden": true,
    "run_control": {
     "frozen": false,
     "read_only": false
    }
   },
   "outputs": [],
   "source": [
    "semplot(2, 'rmse')"
   ]
  },
  {
   "cell_type": "markdown",
   "metadata": {
    "heading_collapsed": true,
    "hidden": true
   },
   "source": [
    "#### 80th"
   ]
  },
  {
   "cell_type": "code",
   "execution_count": null,
   "metadata": {
    "ExecuteTime": {
     "end_time": "2016-05-25T15:46:36.405168",
     "start_time": "2016-05-25T15:46:35.926246"
    },
    "collapsed": false,
    "hidden": true,
    "run_control": {
     "frozen": false,
     "read_only": false
    }
   },
   "outputs": [],
   "source": [
    "semplot(1, 'within_80%')"
   ]
  },
  {
   "cell_type": "code",
   "execution_count": null,
   "metadata": {
    "ExecuteTime": {
     "end_time": "2016-05-25T15:44:19.860094",
     "start_time": "2016-05-25T15:44:19.376030"
    },
    "collapsed": false,
    "hidden": true,
    "run_control": {
     "frozen": false,
     "read_only": false
    }
   },
   "outputs": [],
   "source": [
    "semplot(2, 'within_80%')"
   ]
  },
  {
   "cell_type": "markdown",
   "metadata": {
    "heading_collapsed": true
   },
   "source": [
    "## traincv/train/val plots"
   ]
  },
  {
   "cell_type": "markdown",
   "metadata": {
    "heading_collapsed": true,
    "hidden": true
   },
   "source": [
    "#### code"
   ]
  },
  {
   "cell_type": "code",
   "execution_count": null,
   "metadata": {
    "ExecuteTime": {
     "end_time": "2016-05-23T22:31:19.660078",
     "start_time": "2016-05-23T22:31:19.165852"
    },
    "collapsed": false,
    "hidden": true,
    "run_control": {
     "frozen": false,
     "read_only": false
    }
   },
   "outputs": [],
   "source": [
    "df2 = df.stack().bfill().reset_index(level=1)\n",
    "df2 = df2.rename(columns={'level_1': 'split'})\n",
    "df2 = df2[df2.split != '']\n",
    "df2 = df2[df2.split != 'train_cv_sem']\n",
    "\n",
    "df2 = df2[df2.split.isin(('train','val', 'train_cv_mean'))]\n",
    "\n",
    "df2['model'] = df2.model.map({'LR':'Linear regression', \n",
    "                             'RF':'Random forest', \n",
    "                             'BM':'Baseline: Mean', \n",
    "                             'BC': 'Baseline: Last C'}.__getitem__)"
   ]
  },
  {
   "cell_type": "code",
   "execution_count": null,
   "metadata": {
    "ExecuteTime": {
     "end_time": "2016-05-23T22:35:52.704289",
     "start_time": "2016-05-23T22:35:52.687523"
    },
    "collapsed": true,
    "hidden": true,
    "run_control": {
     "frozen": false,
     "read_only": false
    }
   },
   "outputs": [],
   "source": [
    "def plotme(metric):\n",
    "    \n",
    "    with sns.plotting_context(\"notebook\", font_scale=1.25):\n",
    "        fg = sns.factorplot(x='lag', y=metric, hue='model',\n",
    "                       col='split', row='line',\n",
    "                       data=df2, palette='colorblind',\n",
    "                       margin_titles=True, ylim=(0,None), scale=.5,\n",
    "                       legend_out=True)\n",
    "\n",
    "        jitscale = 12\n",
    "\n",
    "        for ax, line in zip((fg.facet_axis(0,1), fg.facet_axis(1,1)), (1,2)):\n",
    "            jit = -2/jitscale + 1/(2*jitscale)\n",
    "            colors = iter(sns.color_palette('colorblind'))\n",
    "            for model, gr in df[df.line==line].groupby('model'):\n",
    "                c = next(colors)\n",
    "                gr = gr.sort_values('lag')\n",
    "                sem = gr[(metric, 'train_cv_sem')]\n",
    "                mea = gr[(metric, 'train_cv_mean')]\n",
    "                mi = mea - 1.96*sem\n",
    "                ma = mea + 1.96*sem\n",
    "\n",
    "                ax.vlines(x=np.arange(len(gr)) + jit,\n",
    "                            ymin=mi,\n",
    "                            ymax=ma,\n",
    "                             color=c)\n",
    "                jit += 1/jitscale\n",
    "    "
   ]
  },
  {
   "cell_type": "markdown",
   "metadata": {
    "heading_collapsed": true,
    "hidden": true
   },
   "source": [
    "#### rmse"
   ]
  },
  {
   "cell_type": "code",
   "execution_count": null,
   "metadata": {
    "ExecuteTime": {
     "end_time": "2016-05-23T22:35:55.912916",
     "start_time": "2016-05-23T22:35:53.813776"
    },
    "collapsed": false,
    "hidden": true,
    "run_control": {
     "frozen": false,
     "read_only": false
    }
   },
   "outputs": [],
   "source": [
    "plotme('rmse')\n",
    "up.save_fig('w21/results/rmse_train_cv_val.png', target='week')\n",
    "up.save_fig('results/rmse_train_cv_val.png')"
   ]
  },
  {
   "cell_type": "markdown",
   "metadata": {
    "heading_collapsed": true,
    "hidden": true
   },
   "source": [
    "#### 80th\n"
   ]
  },
  {
   "cell_type": "code",
   "execution_count": null,
   "metadata": {
    "ExecuteTime": {
     "end_time": "2016-05-23T22:36:08.492905",
     "start_time": "2016-05-23T22:36:06.311641"
    },
    "collapsed": false,
    "hidden": true,
    "run_control": {
     "frozen": false,
     "read_only": false
    }
   },
   "outputs": [],
   "source": [
    "plotme('within_80%')\n",
    "\n",
    "up.save_fig('w21/results/w80_train_cv_val.png', target='week')\n",
    "up.save_fig('results/w80_train_cv_val.png')"
   ]
  },
  {
   "cell_type": "markdown",
   "metadata": {
    "heading_collapsed": true
   },
   "source": [
    "## test/special plots"
   ]
  },
  {
   "cell_type": "markdown",
   "metadata": {
    "hidden": true
   },
   "source": [
    "#### code"
   ]
  },
  {
   "cell_type": "code",
   "execution_count": null,
   "metadata": {
    "ExecuteTime": {
     "end_time": "2016-05-23T22:29:39.977259",
     "start_time": "2016-05-23T22:29:39.311309"
    },
    "collapsed": false,
    "hidden": true,
    "run_control": {
     "frozen": false,
     "read_only": false
    }
   },
   "outputs": [],
   "source": [
    "df3 = df.stack().bfill().reset_index(level=1)\n",
    "df3 = df3.rename(columns={'level_1': 'split'})\n",
    "df3 = df3[df3.split != '']\n",
    "df3 = df3[df3.split != 'train_cv_sem']\n",
    "\n",
    "df3 = df3[df3.split.isin(('test','special'))]\n",
    "\n",
    "df3['model'] = df3.model.map({'LR':'Linear regression', \n",
    "                             'RF':'Random forest', \n",
    "                             'BM':'Baseline: Mean', \n",
    "                             'BC': 'Baseline: Last C'}.__getitem__)"
   ]
  },
  {
   "cell_type": "code",
   "execution_count": null,
   "metadata": {
    "ExecuteTime": {
     "end_time": "2016-05-23T22:36:54.482059",
     "start_time": "2016-05-23T22:36:54.472033"
    },
    "collapsed": true,
    "hidden": true,
    "run_control": {
     "frozen": false,
     "read_only": false
    }
   },
   "outputs": [],
   "source": [
    "def plotme2(metric):\n",
    "    with sns.plotting_context(\"notebook\", font_scale=1.25):\n",
    "\n",
    "        fg = sns.factorplot(x='lag', y=metric, hue='model',\n",
    "                       col='split', row='line',\n",
    "                       data=df3, palette='colorblind',\n",
    "                       margin_titles=True, ylim=(0,None), scale=.5)\n",
    "        fg.set(ylim=(0,None))\n"
   ]
  },
  {
   "cell_type": "markdown",
   "metadata": {
    "heading_collapsed": true,
    "hidden": true
   },
   "source": [
    "#### rmse and w80"
   ]
  },
  {
   "cell_type": "code",
   "execution_count": null,
   "metadata": {
    "ExecuteTime": {
     "end_time": "2016-05-23T22:36:58.326961",
     "start_time": "2016-05-23T22:36:56.891834"
    },
    "collapsed": false,
    "hidden": true,
    "run_control": {
     "frozen": false,
     "read_only": false
    }
   },
   "outputs": [],
   "source": [
    "plotme2('rmse')\n",
    "up.save_fig('w21/results/rmse_test_special.png', target='week')\n",
    "up.save_fig('results/rmse_test_special.png')"
   ]
  },
  {
   "cell_type": "code",
   "execution_count": null,
   "metadata": {
    "ExecuteTime": {
     "end_time": "2016-05-23T22:37:02.686365",
     "start_time": "2016-05-23T22:37:01.220731"
    },
    "collapsed": false,
    "hidden": true,
    "run_control": {
     "frozen": false,
     "read_only": false
    }
   },
   "outputs": [],
   "source": [
    "plotme2('within_80%')\n",
    "up.save_fig('w21/results/w80_test_special.png', target='week')\n",
    "up.save_fig('results/w80_test_special.png')"
   ]
  },
  {
   "cell_type": "markdown",
   "metadata": {
    "heading_collapsed": true
   },
   "source": [
    "# What did the models include??\n",
    "\n",
    "oh, I didn't save the models."
   ]
  },
  {
   "cell_type": "code",
   "execution_count": null,
   "metadata": {
    "ExecuteTime": {
     "end_time": "2016-05-23T12:21:03.086540",
     "start_time": "2016-05-23T12:21:03.075529"
    },
    "collapsed": false,
    "hidden": true,
    "run_control": {
     "frozen": false,
     "read_only": false
    }
   },
   "outputs": [],
   "source": [
    "results.results['RF Line1 Lag=10 min']"
   ]
  },
  {
   "cell_type": "markdown",
   "metadata": {},
   "source": [
    "# What do the residuals look like?"
   ]
  },
  {
   "cell_type": "code",
   "execution_count": null,
   "metadata": {
    "ExecuteTime": {
     "end_time": "2016-05-31T08:54:08.295586",
     "start_time": "2016-05-31T08:54:08.274755"
    },
    "collapsed": false,
    "run_control": {
     "frozen": false,
     "read_only": false
    }
   },
   "outputs": [],
   "source": [
    "keys = pd.Series(list(results.results.keys()))\n",
    "dd = pd.DataFrame({'key':keys,\n",
    "              'model':keys.str.findall('^(\\w\\w)').map(lambda x: x[0]),\n",
    "              'line':keys.str.findall('Line([12])').map(lambda x: x[0]).astype(int),\n",
    "              'lag':keys.str.findall('Lag=(\\d+) min').map(lambda x: x[0]).astype(int)})"
   ]
  },
  {
   "cell_type": "code",
   "execution_count": null,
   "metadata": {
    "ExecuteTime": {
     "end_time": "2016-05-31T08:54:09.516749",
     "start_time": "2016-05-31T08:54:09.513780"
    },
    "collapsed": true,
    "run_control": {
     "frozen": false,
     "read_only": false
    }
   },
   "outputs": [],
   "source": [
    "from scipy import stats"
   ]
  },
  {
   "cell_type": "code",
   "execution_count": null,
   "metadata": {
    "ExecuteTime": {
     "end_time": "2016-05-31T08:54:13.905976",
     "start_time": "2016-05-31T08:54:13.508831"
    },
    "collapsed": false,
    "run_control": {
     "frozen": false,
     "read_only": false
    }
   },
   "outputs": [],
   "source": [
    "res = {}\n",
    "for model in dd.model:\n",
    "    res[model] = {}\n",
    "    for line in (1,2):\n",
    "        norm = np.zeros((dd.lag.nunique(), 4), dtype=float)\n",
    "        for i, lag in enumerate(dd.lag.unique()):\n",
    "            rr = results.results['{} Line{} Lag={} min'.format(model, line, lag)]['residuals']\n",
    "            for j, split in enumerate(rr.keys()):\n",
    "                norm[i,j] = stats.shapiro(rr[split].values)[1]\n",
    "        res[model][line] = norm"
   ]
  },
  {
   "cell_type": "code",
   "execution_count": null,
   "metadata": {
    "ExecuteTime": {
     "end_time": "2016-05-31T08:54:23.451585",
     "start_time": "2016-05-31T08:54:23.433343"
    },
    "collapsed": false,
    "run_control": {
     "frozen": false,
     "read_only": false
    }
   },
   "outputs": [],
   "source": [
    "pp = {}\n",
    "for line in (1,2):\n",
    "    pan = {}\n",
    "    for model in res.keys():\n",
    "        ff = pd.DataFrame(res[model][line])\n",
    "        ff.columns = list(rr.keys())\n",
    "        ff.columns.name = 'split'\n",
    "        ff.index = dd.lag.unique()\n",
    "        ff.index.name = 'lag'\n",
    "        ff = ff.sort_index()\n",
    "        pan[model] = ff\n",
    "    pp[line] = pan\n",
    "pp = pd.Panel4D(pp)\n",
    "pp"
   ]
  },
  {
   "cell_type": "code",
   "execution_count": null,
   "metadata": {
    "ExecuteTime": {
     "end_time": "2016-05-31T14:02:58.382597",
     "start_time": "2016-05-31T14:02:58.242223"
    },
    "collapsed": false,
    "run_control": {
     "frozen": false,
     "read_only": false
    },
    "scrolled": false
   },
   "outputs": [],
   "source": [
    "def _plotwithstd(ax, xlabel, ylabel, x, y, zeroline=True):\n",
    "    s = (pd.Series(y.values, index=x).sort_index()\n",
    "         .rolling(len(y)//10, center=True)) # len(y)//10\n",
    "    mean = s.mean().dropna()\n",
    "    std = (s.std().dropna()\n",
    "           .rolling(10, center=True, min_periods=3)\n",
    "           .mean().dropna())\n",
    "\n",
    "    ax.scatter(x, y, alpha=.1, marker=',')\n",
    "    ax.plot(mean.index.values, mean.values, color='r', label='mean')\n",
    "    ax.plot(std.index.values, std.values, color='k', linewidth=3.5)\n",
    "    ax.plot(std.index.values, std.values, color='w', label='std', linewidth=2)\n",
    "    ax.set_xlabel(xlabel)\n",
    "    ax.set_ylabel(ylabel)\n",
    "    ax.grid(True, color='#DDDDDD')\n",
    "    ax.set_ylim((-15, 20))\n",
    "\n",
    "def plotstuff(model, line, \n",
    "              splits=('train', 'val', 'test', 'special'),\n",
    "              lags = (5,10,15,20,30,45,60),\n",
    "              figsize=(16, (4+4)*16)):\n",
    "    with tbdev.Notify('Yipeee!'):\n",
    "\n",
    "        plotpermodel = 4+4\n",
    "        targetcolor = 'r'\n",
    "        stdcolor = 'm'\n",
    "        \n",
    "        with sns.axes_style('white'):\n",
    "            fig, axs = sns.plt.subplots(len(lags)*plotpermodel,len(splits), figsize=figsize)\n",
    "        # rows\n",
    "        dg = dd[(dd.model==model) & (dd.line==line) & (dd.lag.isin(lags))].sort_values('lag')\n",
    "        for i, (k, lag) in enumerate(zip(dg.key, dg.lag)):                \n",
    "            rr = results.results[k]['residuals']\n",
    "            # columns: splits\n",
    "            i*=plotpermodel\n",
    "            dms = ud.design_matrices.get_by_settings('2 min', line, lag, '2 min', 10, '2 min')\n",
    "            for j, split in enumerate(splits):\n",
    "                dt = rr[split]\n",
    "                resid = dt\n",
    "                pred = dms[split]['y'] - dt \n",
    "                ax = dt.hist(ax=axs[i,j], normed=True, range=(-15,15), bins=30)\n",
    "                sm.qqplot(dt, ax=axs[i+1,j], line='q')        \n",
    "                ax.set_xlabel('')\n",
    "                ax.set_ylabel('')\n",
    "                ax.set_title('{}{} | split = {} | lag = {} | n={}'.format(\n",
    "                        model, line, split, lag, len(dt)))\n",
    "                ax = axs[i+1,j]\n",
    "                ax.set_xlabel('')\n",
    "                ax.set_ylabel('')\n",
    "                \n",
    "                ax = axs[i+2,j]\n",
    "                ax.acorr(resid, usevlines=True, maxlags=10+(lag-5)*.7)\n",
    "                \n",
    "                with sns.axes_style('whitegrid'):\n",
    "                                \n",
    "                    _plotwithstd(axs[i+3,j], 'Predicted value', 'Residuals', pred, dt)\n",
    "\n",
    "                    h = (dt.index.values - dt.index.to_series().dt.floor('D')).dt.total_seconds() / 3600\n",
    "                    _plotwithstd(axs[i+4,j], 'Hours since midnight', 'Residuals', h, dt)\n",
    "\n",
    "\n",
    "                    x = dms[split]['x']\n",
    "                    ccol = [c for c in x if c.startswith('C ')][0]\n",
    "                    dccol = [c for c in x if c.startswith('Δ')][0]\n",
    "                    rcol = [c for c in x if c.startswith('R ')][0]\n",
    "                    for m, col in enumerate((ccol, dccol, rcol)):\n",
    "                        _plotwithstd(axs[i+5+m,j], col, 'Residuals', x[col], resid)                       \n",
    "\n",
    "\n",
    "        fig.tight_layout()"
   ]
  },
  {
   "cell_type": "markdown",
   "metadata": {},
   "source": [
    "### LR"
   ]
  },
  {
   "cell_type": "markdown",
   "metadata": {},
   "source": [
    "#### line 1"
   ]
  },
  {
   "cell_type": "code",
   "execution_count": null,
   "metadata": {
    "ExecuteTime": {
     "end_time": "2016-05-31T14:03:49.276051",
     "start_time": "2016-05-31T14:02:59.727574"
    },
    "collapsed": false
   },
   "outputs": [],
   "source": [
    "plotstuff('LR', 1)"
   ]
  },
  {
   "cell_type": "markdown",
   "metadata": {
    "heading_collapsed": true
   },
   "source": [
    "#### line 2"
   ]
  },
  {
   "cell_type": "code",
   "execution_count": null,
   "metadata": {
    "ExecuteTime": {
     "end_time": "2016-05-31T13:30:50.870232",
     "start_time": "2016-05-31T13:30:00.665342"
    },
    "collapsed": false,
    "hidden": true,
    "scrolled": false
   },
   "outputs": [],
   "source": [
    "plotstuff('LR', 2)"
   ]
  },
  {
   "cell_type": "markdown",
   "metadata": {},
   "source": [
    "### RF"
   ]
  },
  {
   "cell_type": "markdown",
   "metadata": {},
   "source": [
    "#### line 1"
   ]
  },
  {
   "cell_type": "code",
   "execution_count": null,
   "metadata": {
    "ExecuteTime": {
     "end_time": "2016-05-31T17:24:26.605989",
     "start_time": "2016-05-31T17:23:37.080616"
    },
    "collapsed": false
   },
   "outputs": [],
   "source": [
    "plotstuff('RF', 1)"
   ]
  },
  {
   "cell_type": "markdown",
   "metadata": {
    "heading_collapsed": true
   },
   "source": [
    "#### line 2"
   ]
  },
  {
   "cell_type": "code",
   "execution_count": null,
   "metadata": {
    "ExecuteTime": {
     "end_time": "2016-05-31T17:27:21.087124",
     "start_time": "2016-05-31T17:26:31.184003"
    },
    "collapsed": false,
    "hidden": true
   },
   "outputs": [],
   "source": [
    "plotstuff('RF', 2)"
   ]
  },
  {
   "cell_type": "markdown",
   "metadata": {
    "heading_collapsed": true
   },
   "source": [
    "### BM"
   ]
  },
  {
   "cell_type": "markdown",
   "metadata": {
    "heading_collapsed": true,
    "hidden": true
   },
   "source": [
    "#### Line 1"
   ]
  },
  {
   "cell_type": "code",
   "execution_count": null,
   "metadata": {
    "ExecuteTime": {
     "end_time": "2016-05-31T17:49:06.279421",
     "start_time": "2016-05-31T17:48:17.542259"
    },
    "collapsed": false,
    "hidden": true
   },
   "outputs": [],
   "source": [
    "plotstuff('BM', 1)"
   ]
  },
  {
   "cell_type": "markdown",
   "metadata": {},
   "source": [
    "###  For report"
   ]
  },
  {
   "cell_type": "code",
   "execution_count": null,
   "metadata": {
    "ExecuteTime": {
     "end_time": "2016-05-31T14:48:06.987772",
     "start_time": "2016-05-31T14:48:03.043290"
    },
    "collapsed": false
   },
   "outputs": [],
   "source": [
    "plotstuff('LR', 1, splits=('train', 'val'), lags=(45,),\n",
    "          figsize=(8,12.5))\n",
    "\n",
    "up.save_fig('results/linregeval.png', pad=.5)"
   ]
  },
  {
   "cell_type": "markdown",
   "metadata": {},
   "source": [
    "## Try to build a hist/qqplot for each model, across all the data"
   ]
  },
  {
   "cell_type": "code",
   "execution_count": null,
   "metadata": {
    "ExecuteTime": {
     "end_time": "2016-05-24T17:48:05.929907",
     "start_time": "2016-05-24T17:48:04.034183"
    },
    "collapsed": false,
    "run_control": {
     "frozen": false,
     "read_only": false
    },
    "scrolled": false
   },
   "outputs": [],
   "source": [
    "models = ('LR', 'RF', 'BC', 'BM')\n",
    "splits = (\n",
    "#             'train', \n",
    "            'val',\n",
    "            'test',\n",
    "            'special',\n",
    ")\n",
    "\n",
    "with sns.axes_style('white'):\n",
    "    fig, axs = sns.plt.subplots(4,2, figsize=(8,10))#, sharex=True)#, sharey=True)\n",
    "\n",
    "rr = results.results\n",
    "\n",
    "for i, model in enumerate(models):\n",
    "    keys = [x for x in rr.keys() if model == x[:2]]\n",
    "    dat = pd.concat([pd.Series(rr[k]['residuals'][split]) for k in keys for split in splits])\n",
    "    ax = axs[i,0]\n",
    "    dat.hist(ax=ax, range=(-15,15), bins=30)\n",
    "    sm.qqplot(dat, ax=axs[i,1], line='q')\n",
    "    ax.set_title('model = {} (splits {})'.format(model, splits))\n",
    "\n",
    "fig.tight_layout()\n",
    "                \n",
    "# fig.text(0.5, 0.04, 'Theoretical quantiles', ha='center', va='center')\n",
    "# fig.text(0.06, 0.5, 'Fraction', ha='center', va='center', rotation='vertical')\n"
   ]
  },
  {
   "cell_type": "markdown",
   "metadata": {},
   "source": [
    "# "
   ]
  }
 ],
 "metadata": {
  "kernelspec": {
   "display_name": "Python 3",
   "language": "python",
   "name": "python3"
  },
  "language_info": {
   "codemirror_mode": {
    "name": "ipython",
    "version": 3
   },
   "file_extension": ".py",
   "mimetype": "text/x-python",
   "name": "python",
   "nbconvert_exporter": "python",
   "pygments_lexer": "ipython3",
   "version": "3.5.1"
  }
 },
 "nbformat": 4,
 "nbformat_minor": 0
}
