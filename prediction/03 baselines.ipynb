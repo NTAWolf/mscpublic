{
 "cells": [
  {
   "cell_type": "code",
   "execution_count": null,
   "metadata": {
    "ExecuteTime": {
     "end_time": "2016-05-22T18:36:53.883749",
     "start_time": "2016-05-22T18:36:53.124179"
    },
    "collapsed": true,
    "run_control": {
     "frozen": false,
     "read_only": false
    }
   },
   "outputs": [],
   "source": [
    "import functools\n",
    "import os\n",
    "\n",
    "import utils.data as ud\n",
    "import utils.prediction as upr\n",
    "\n",
    "import tbtools.dev as tbdev\n",
    "import tbtools.panda as tbpd\n",
    "import tbtools.iter as tbiter\n",
    "\n",
    "import numpy as np\n",
    "import pandas as pd\n",
    "import statsmodels.api as sm\n",
    "import seaborn as sns\n",
    "%matplotlib inline"
   ]
  },
  {
   "cell_type": "markdown",
   "metadata": {},
   "source": [
    "### Setup"
   ]
  },
  {
   "cell_type": "code",
   "execution_count": null,
   "metadata": {
    "ExecuteTime": {
     "end_time": "2016-05-22T18:36:54.658913",
     "start_time": "2016-05-22T18:36:54.597517"
    },
    "collapsed": false,
    "run_control": {
     "frozen": false,
     "read_only": false
    }
   },
   "outputs": [],
   "source": [
    "results = upr.PersistentResultsAggregator(path=os.path.join(ud.paths.Paths.cache, 'v3results'))"
   ]
  },
  {
   "cell_type": "markdown",
   "metadata": {},
   "source": [
    "## Line 1 "
   ]
  },
  {
   "cell_type": "code",
   "execution_count": null,
   "metadata": {
    "ExecuteTime": {
     "end_time": "2016-05-22T18:36:57.873598",
     "start_time": "2016-05-22T18:36:57.869603"
    },
    "collapsed": true,
    "run_control": {
     "frozen": false,
     "read_only": false
    }
   },
   "outputs": [],
   "source": [
    "getdata = functools.partial(ud.design_matrices.get_by_settings,\n",
    "                                sample_step='2 min', \n",
    "                                line=1, dcwindow='2 min', \n",
    "                                rn=10, boawindow='2 min',\n",
    "                                add_intercept=True,\n",
    "                                return_dicts=True)"
   ]
  },
  {
   "cell_type": "code",
   "execution_count": null,
   "metadata": {
    "ExecuteTime": {
     "end_time": "2016-05-22T18:37:41.690259",
     "start_time": "2016-05-22T18:37:38.717122"
    },
    "collapsed": false,
    "run_control": {
     "frozen": false,
     "read_only": false
    }
   },
   "outputs": [],
   "source": [
    "for lag in tbiter.IProgressBar((5, 10, 15, 20, 30, 45, 60)):\n",
    "    lag = '{} min'.format(lag)\n",
    "    print(lag)\n",
    "    data = getdata(lag=lag)\n",
    "    results.update_data(data)\n",
    "    name = 'BM Line1 Lag={}'.format(lag)\n",
    "    results.append(name,upr.model_builder_builder('bm'))"
   ]
  },
  {
   "cell_type": "code",
   "execution_count": null,
   "metadata": {
    "ExecuteTime": {
     "end_time": "2016-05-22T18:37:56.885371",
     "start_time": "2016-05-22T18:37:53.812528"
    },
    "collapsed": false
   },
   "outputs": [],
   "source": [
    "for lag in tbiter.IProgressBar((5, 10, 15, 20, 30, 45, 60)):\n",
    "    lag = '{} min'.format(lag)\n",
    "    print(lag)\n",
    "    data = getdata(lag=lag)\n",
    "    results.update_data(data)\n",
    "    name = 'BC Line1 Lag={}'.format(lag)\n",
    "    results.append(name,upr.model_builder_builder('bc'))"
   ]
  },
  {
   "cell_type": "markdown",
   "metadata": {},
   "source": [
    "## Line 2"
   ]
  },
  {
   "cell_type": "code",
   "execution_count": null,
   "metadata": {
    "ExecuteTime": {
     "end_time": "2016-05-22T18:38:00.082358",
     "start_time": "2016-05-22T18:38:00.075359"
    },
    "collapsed": true,
    "run_control": {
     "frozen": false,
     "read_only": false
    }
   },
   "outputs": [],
   "source": [
    "getdata = functools.partial(ud.design_matrices.get_by_settings,\n",
    "                                sample_step='2 min', \n",
    "                                line=2, dcwindow='2 min', \n",
    "                                rn=10, boawindow='2 min',\n",
    "                                add_intercept=True,\n",
    "                                return_dicts=True)"
   ]
  },
  {
   "cell_type": "code",
   "execution_count": null,
   "metadata": {
    "ExecuteTime": {
     "end_time": "2016-05-22T18:38:35.779421",
     "start_time": "2016-05-22T18:38:32.701005"
    },
    "collapsed": false,
    "run_control": {
     "frozen": false,
     "read_only": false
    }
   },
   "outputs": [],
   "source": [
    "for lag in tbiter.IProgressBar((5, 10, 15, 20, 30, 45, 60)):\n",
    "    lag = '{} min'.format(lag)\n",
    "    print(lag)\n",
    "    data = getdata(lag=lag)\n",
    "    results.update_data(data)\n",
    "    name = 'BM Line2 Lag={}'.format(lag)\n",
    "    results.append(name, upr.model_builder_builder('bm'))"
   ]
  },
  {
   "cell_type": "code",
   "execution_count": null,
   "metadata": {
    "ExecuteTime": {
     "end_time": "2016-05-22T18:39:03.909674",
     "start_time": "2016-05-22T18:39:00.713572"
    },
    "collapsed": false,
    "run_control": {
     "frozen": false,
     "read_only": false
    }
   },
   "outputs": [],
   "source": [
    "for lag in tbiter.IProgressBar((5, 10, 15, 20, 30, 45, 60)):\n",
    "    lag = '{} min'.format(lag)\n",
    "    print(lag)\n",
    "    data = getdata(lag=lag)\n",
    "    results.update_data(data)\n",
    "    name = 'BC Line2 Lag={}'.format(lag)\n",
    "    results.append(name, upr.model_builder_builder('bc'))"
   ]
  }
 ],
 "metadata": {
  "kernelspec": {
   "display_name": "Python 3",
   "language": "python",
   "name": "python3"
  },
  "language_info": {
   "codemirror_mode": {
    "name": "ipython",
    "version": 3
   },
   "file_extension": ".py",
   "mimetype": "text/x-python",
   "name": "python",
   "nbconvert_exporter": "python",
   "pygments_lexer": "ipython3",
   "version": "3.5.1"
  }
 },
 "nbformat": 4,
 "nbformat_minor": 0
}
