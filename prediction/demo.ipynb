{
 "cells": [
  {
   "cell_type": "code",
   "execution_count": null,
   "metadata": {
    "ExecuteTime": {
     "end_time": "2016-05-05T22:22:30.851659",
     "start_time": "2016-05-05T22:22:30.177529"
    },
    "collapsed": false
   },
   "outputs": [],
   "source": [
    "import utils.data as ud\n",
    "import tbtools.dev as tbdev\n",
    "import tbtools.panda as tbpd\n",
    "\n",
    "import seaborn as sns\n",
    "%matplotlib inline"
   ]
  },
  {
   "cell_type": "code",
   "execution_count": null,
   "metadata": {
    "ExecuteTime": {
     "end_time": "2016-05-05T22:40:14.873746",
     "start_time": "2016-05-05T22:40:14.856815"
    },
    "collapsed": false
   },
   "outputs": [],
   "source": [
    "ud = tbdev.reload(ud)"
   ]
  },
  {
   "cell_type": "code",
   "execution_count": null,
   "metadata": {
    "ExecuteTime": {
     "end_time": "2016-05-05T22:40:15.791269",
     "start_time": "2016-05-05T22:40:15.742534"
    },
    "collapsed": false,
    "run_control": {
     "frozen": false,
     "read_only": false
    }
   },
   "outputs": [],
   "source": [
    "df = ud.design_matrices.get_by_settings(sample_step='2 min', split='train', \n",
    "                                        lag='5 min', dcwindow='2 min', \n",
    "                                        rn=10, boawindow='2 min')"
   ]
  },
  {
   "cell_type": "code",
   "execution_count": null,
   "metadata": {
    "ExecuteTime": {
     "end_time": "2016-05-05T22:42:30.404351",
     "start_time": "2016-05-05T22:42:30.398504"
    },
    "collapsed": false
   },
   "outputs": [],
   "source": [
    "df.columns"
   ]
  },
  {
   "cell_type": "code",
   "execution_count": null,
   "metadata": {
    "ExecuteTime": {
     "end_time": "2016-05-05T22:43:30.079018",
     "start_time": "2016-05-05T22:43:29.755646"
    },
    "collapsed": false
   },
   "outputs": [],
   "source": [
    "tbpd.hist2d('y', 'R N=10 L=5 min', data=df, integer_aligned_bins=True)"
   ]
  }
 ],
 "metadata": {
  "kernelspec": {
   "display_name": "Python 3",
   "language": "python",
   "name": "python3"
  },
  "language_info": {
   "codemirror_mode": {
    "name": "ipython",
    "version": 3
   },
   "file_extension": ".py",
   "mimetype": "text/x-python",
   "name": "python",
   "nbconvert_exporter": "python",
   "pygments_lexer": "ipython3",
   "version": "3.5.1"
  }
 },
 "nbformat": 4,
 "nbformat_minor": 0
}
