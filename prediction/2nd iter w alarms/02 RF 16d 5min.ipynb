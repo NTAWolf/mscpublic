{
 "cells": [
  {
   "cell_type": "code",
   "execution_count": null,
   "metadata": {
    "ExecuteTime": {
     "end_time": "2016-05-11T14:05:42.173125",
     "start_time": "2016-05-11T14:05:42.167191"
    },
    "collapsed": true,
    "run_control": {
     "frozen": false,
     "read_only": false
    }
   },
   "outputs": [],
   "source": [
    "import utils.data as ud\n",
    "import seaborn as sns\n",
    "%matplotlib inline\n",
    "\n",
    "import pandas as pd\n",
    "import numpy as np\n",
    "import sklearn.ensemble as ske\n",
    "\n",
    "import tbtools.dev as tbdev\n",
    "\n",
    "import utils.plotting as up\n",
    "\n",
    "import utils.evaluation.modelling.fit as mf"
   ]
  },
  {
   "cell_type": "markdown",
   "metadata": {
    "heading_collapsed": true
   },
   "source": [
    "# Line 1\n",
    "\n",
    "\n",
    "100 trees\n",
    "\n",
    "    tr 0.92\n",
    "    val 3.12\n",
    "    te 2.39\n",
    "    \n",
    "80%\n",
    "\n",
    "    tr 1.06\n",
    "    val 3.86\n",
    "    te 2.89\n",
    "    "
   ]
  },
  {
   "cell_type": "code",
   "execution_count": null,
   "metadata": {
    "ExecuteTime": {
     "end_time": "2016-05-11T14:05:44.085936",
     "start_time": "2016-05-11T14:05:43.785319"
    },
    "collapsed": false,
    "hidden": true,
    "run_control": {
     "frozen": false,
     "read_only": false
    }
   },
   "outputs": [],
   "source": [
    "train, val, test = ud.design_matrices.get_by_settings(\n",
    "                        sample_step='2 min',\n",
    "                        split='all',\n",
    "                        line=1,\n",
    "                        lag='5 min',\n",
    "                        dcwindow='2 min',\n",
    "                        rn=10,\n",
    "                        boawindow='2 min')"
   ]
  },
  {
   "cell_type": "markdown",
   "metadata": {
    "heading_collapsed": true,
    "hidden": true
   },
   "source": [
    "## Finding the minimum number of trees\n",
    "\n",
    "50."
   ]
  },
  {
   "cell_type": "code",
   "execution_count": null,
   "metadata": {
    "ExecuteTime": {
     "end_time": "2016-05-11T14:21:24.746015",
     "start_time": "2016-05-11T14:16:23.400975"
    },
    "collapsed": false,
    "hidden": true,
    "run_control": {
     "frozen": false,
     "read_only": false
    }
   },
   "outputs": [],
   "source": [
    "ras = []\n",
    "\n",
    "for i in range(20):\n",
    "    ra = mf.ResultsAggregator({'train':train, 'val':val, 'test':test},\n",
    "                              target_name='y')\n",
    "\n",
    "    features = [x for x in train if x!='y']\n",
    "\n",
    "    for k in 1, 2, 5, 10, 50, 75, 100, 250:#, 500, 1000:\n",
    "        rf = ske.RandomForestRegressor(n_estimators=k, n_jobs=-1)\n",
    "        rf = rf.fit(train[features], train['y'])\n",
    "        ra.append('rf_{:04}'.format(k), rf)\n",
    "        \n",
    "    ras.append(ra)"
   ]
  },
  {
   "cell_type": "code",
   "execution_count": null,
   "metadata": {
    "ExecuteTime": {
     "end_time": "2016-05-11T14:21:24.801724",
     "start_time": "2016-05-11T14:21:24.747348"
    },
    "collapsed": true,
    "hidden": true,
    "run_control": {
     "frozen": false,
     "read_only": false
    }
   },
   "outputs": [],
   "source": [
    "df = pd.concat([r.to_df()['rmse'].reset_index() for r in ras], ignore_index=True)\n",
    "df = df.set_index('index').unstack()\n",
    "df = df.reset_index()\n",
    "df.columns = ['split', 'model', 'rmse']"
   ]
  },
  {
   "cell_type": "code",
   "execution_count": null,
   "metadata": {
    "ExecuteTime": {
     "end_time": "2016-05-11T14:51:54.437684",
     "start_time": "2016-05-11T14:51:53.603193"
    },
    "collapsed": false,
    "hidden": true,
    "run_control": {
     "frozen": false,
     "read_only": false
    }
   },
   "outputs": [],
   "source": [
    "with sns.axes_style('whitegrid'):\n",
    "    sns.factorplot(x='model', y='rmse', hue='split', data=df,\n",
    "                  palette='colorblind', size=7, legend_out=False,\n",
    "                  facet_kws={'gridspec_kws':{}})\n",
    "up.save_fig('w19/rf_line1_rmses_20reps.png', target='week')\n",
    "up.save_fig('analysis/rf_line1_rmses_20reps.png')"
   ]
  },
  {
   "cell_type": "code",
   "execution_count": null,
   "metadata": {
    "ExecuteTime": {
     "end_time": "2016-05-11T14:24:06.849819",
     "start_time": "2016-05-11T14:24:06.020326"
    },
    "collapsed": false,
    "hidden": true,
    "run_control": {
     "frozen": false,
     "read_only": false
    }
   },
   "outputs": [],
   "source": [
    "with sns.axes_style('whitegrid'):\n",
    "    sns.factorplot(x='model', y='rmse', hue='split', data=df,\n",
    "                  palette='colorblind', size=7, legend_out=False,\n",
    "                  facet_kws={'gridspec_kws':{}})\n",
    "up.save_fig('w19/rf_line1_rmses_5reps.png', target='week')\n",
    "up.save_fig('analysis/rf_line1_rmses_5reps.png')"
   ]
  },
  {
   "cell_type": "markdown",
   "metadata": {
    "heading_collapsed": true,
    "hidden": true
   },
   "source": [
    "## Building and evaluating good RF model\n"
   ]
  },
  {
   "cell_type": "code",
   "execution_count": null,
   "metadata": {
    "ExecuteTime": {
     "end_time": "2016-05-11T10:20:00.568300",
     "start_time": "2016-05-11T10:19:04.921755"
    },
    "collapsed": false,
    "hidden": true,
    "run_control": {
     "frozen": false,
     "read_only": false
    }
   },
   "outputs": [],
   "source": [
    "ra = mf.ResultsAggregator({'train':train, 'val':val, 'test':test},\n",
    "                              target_name='y')\n",
    "\n",
    "features = [x for x in train if x!='y']\n",
    "\n",
    "fi = None\n",
    "\n",
    "k = 100\n",
    "for i in range(20):\n",
    "    rf = ske.RandomForestRegressor(n_estimators=k, n_jobs=-1)\n",
    "    rf = rf.fit(train[features], train['y'])\n",
    "    ra.append('rf_L1_{:04}_{}'.format(k, i), rf)\n",
    "    if fi is None:\n",
    "        fi = rf.feature_importances_\n",
    "    else:\n",
    "        fi += rf.feature_importances_\n",
    "df = ra.to_df()"
   ]
  },
  {
   "cell_type": "markdown",
   "metadata": {
    "heading_collapsed": true,
    "hidden": true
   },
   "source": [
    "#### Eval"
   ]
  },
  {
   "cell_type": "code",
   "execution_count": null,
   "metadata": {
    "ExecuteTime": {
     "end_time": "2016-05-11T10:55:19.715190",
     "start_time": "2016-05-11T10:55:19.698007"
    },
    "collapsed": false,
    "hidden": true
   },
   "outputs": [],
   "source": [
    "df2 = pd.concat([df.mean(), df.max() - df.mean()], axis=1)\n",
    "df2.round(2)"
   ]
  },
  {
   "cell_type": "code",
   "execution_count": null,
   "metadata": {
    "ExecuteTime": {
     "end_time": "2016-05-11T10:20:30.825942",
     "start_time": "2016-05-11T10:20:30.810712"
    },
    "collapsed": false,
    "hidden": true,
    "run_control": {
     "frozen": false,
     "read_only": false
    }
   },
   "outputs": [],
   "source": [
    "fidf = (pd.DataFrame({'feature':features, \n",
    "                   'importance':fi})\n",
    "          .sort_values('importance', ascending=False))\n",
    "fidf.head(10)"
   ]
  },
  {
   "cell_type": "code",
   "execution_count": null,
   "metadata": {
    "ExecuteTime": {
     "end_time": "2016-05-11T10:33:38.165227",
     "start_time": "2016-05-11T10:33:38.159128"
    },
    "collapsed": false,
    "hidden": true
   },
   "outputs": [],
   "source": [
    "b = fidf.head(10).copy()\n",
    "b['importance'] /= 20\n",
    "print(b.to_latex())"
   ]
  },
  {
   "cell_type": "markdown",
   "metadata": {
    "heading_collapsed": true,
    "hidden": true
   },
   "source": [
    "#### Heatmap plots"
   ]
  },
  {
   "cell_type": "code",
   "execution_count": null,
   "metadata": {
    "ExecuteTime": {
     "end_time": "2016-05-10T13:56:53.229498",
     "start_time": "2016-05-10T13:56:50.422673"
    },
    "collapsed": false,
    "hidden": true,
    "run_control": {
     "frozen": false,
     "read_only": false
    }
   },
   "outputs": [],
   "source": [
    "for s in train,val,test:\n",
    "    mf.plot_fit(s['y'], rf.predict(s[features]))"
   ]
  },
  {
   "cell_type": "markdown",
   "metadata": {
    "heading_collapsed": true
   },
   "source": [
    "#  Line 2\n",
    "\n",
    "100 trees\n",
    "\n",
    "    tr 0.90\n",
    "    va 2.54\n",
    "    te 2.38\n",
    "    \n",
    "80%\n",
    "\n",
    "    tr 1.07\n",
    "    val 3.09\n",
    "    te 2.92\n"
   ]
  },
  {
   "cell_type": "code",
   "execution_count": null,
   "metadata": {
    "ExecuteTime": {
     "end_time": "2016-05-11T10:58:20.050278",
     "start_time": "2016-05-11T10:58:19.894058"
    },
    "collapsed": false,
    "hidden": true,
    "run_control": {
     "frozen": false,
     "read_only": false
    }
   },
   "outputs": [],
   "source": [
    "train, val, test = ud.design_matrices.get_by_settings(\n",
    "                        sample_step='2 min',\n",
    "                        split='all',\n",
    "                        line=2,\n",
    "                        lag='5 min',\n",
    "                        dcwindow='2 min',\n",
    "                        rn=10,\n",
    "                        boawindow='2 min')"
   ]
  },
  {
   "cell_type": "markdown",
   "metadata": {
    "heading_collapsed": true,
    "hidden": true
   },
   "source": [
    "## Finding the minimum number of trees\n",
    "\n",
    "Also 50"
   ]
  },
  {
   "cell_type": "code",
   "execution_count": null,
   "metadata": {
    "ExecuteTime": {
     "end_time": "2016-05-10T14:22:58.686782",
     "start_time": "2016-05-10T14:18:04.345020"
    },
    "collapsed": false,
    "hidden": true,
    "run_control": {
     "frozen": false,
     "read_only": false
    }
   },
   "outputs": [],
   "source": [
    "ras = []\n",
    "\n",
    "for i in range(5):\n",
    "    ra = mf.ResultsAggregator({'train':train, 'val':val, 'test':test},\n",
    "                              target_name='y')\n",
    "\n",
    "    features = [x for x in train if x!='y']\n",
    "\n",
    "    for k in 1, 2, 5, 10, 50, 75, 100, 250, 500, 1000:#, 1000, 2000:\n",
    "        rf = ske.RandomForestRegressor(n_estimators=k, n_jobs=-1)\n",
    "        rf = rf.fit(train[features], train['y'])\n",
    "        ra.append('rf_{:04}'.format(k), rf)\n",
    "        \n",
    "    ras.append(ra)"
   ]
  },
  {
   "cell_type": "code",
   "execution_count": null,
   "metadata": {
    "ExecuteTime": {
     "end_time": "2016-05-10T14:26:39.552999",
     "start_time": "2016-05-10T14:26:39.527511"
    },
    "collapsed": false,
    "hidden": true,
    "run_control": {
     "frozen": false,
     "read_only": false
    }
   },
   "outputs": [],
   "source": [
    "df = pd.concat([r.to_df()['rmse'].reset_index() for r in ras], ignore_index=True)\n",
    "df = df.set_index('index').unstack()\n",
    "df = df.reset_index()\n",
    "df.columns = ['split', 'model', 'rmse']"
   ]
  },
  {
   "cell_type": "code",
   "execution_count": null,
   "metadata": {
    "ExecuteTime": {
     "end_time": "2016-05-10T14:26:42.323976",
     "start_time": "2016-05-10T14:26:41.534136"
    },
    "collapsed": false,
    "hidden": true,
    "run_control": {
     "frozen": false,
     "read_only": false
    }
   },
   "outputs": [],
   "source": [
    "with sns.axes_style('whitegrid'):\n",
    "    sns.factorplot(x='model', y='rmse', hue='split', data=df,\n",
    "                  palette='colorblind', size=7, legend_out=False,\n",
    "                  facet_kws={'gridspec_kws':{}})\n",
    "up.save_fig('w19/rf_line2_rmses_5reps.png', target='week')"
   ]
  },
  {
   "cell_type": "markdown",
   "metadata": {
    "hidden": true
   },
   "source": [
    "## Building and evaluating good RF model\n"
   ]
  },
  {
   "cell_type": "code",
   "execution_count": null,
   "metadata": {
    "ExecuteTime": {
     "end_time": "2016-05-11T11:00:22.994204",
     "start_time": "2016-05-11T10:59:15.646024"
    },
    "collapsed": false,
    "hidden": true,
    "run_control": {
     "frozen": false,
     "read_only": false
    }
   },
   "outputs": [],
   "source": [
    "ra = mf.ResultsAggregator({'train':train, 'val':val, 'test':test},\n",
    "                              target_name='y')\n",
    "\n",
    "features = [x for x in train if x!='y']\n",
    "\n",
    "\n",
    "fi = None\n",
    "\n",
    "k = 100\n",
    "for i in range(20):\n",
    "    rf = ske.RandomForestRegressor(n_estimators=k, n_jobs=-1)\n",
    "    rf = rf.fit(train[features], train['y'])\n",
    "    ra.append('rf_L2_{:04}_{}'.format(k, i), rf)\n",
    "    if fi is None:\n",
    "        fi = rf.feature_importances_\n",
    "    else:\n",
    "        fi += rf.feature_importances_\n",
    "df = ra.to_df()\n",
    "\n",
    "# rf = ske.RandomForestRegressor(n_estimators=100, n_jobs=-1)\n",
    "# rf = rf.fit(train[features], train['y'])\n",
    "# ra.append('rf_L2_{:04}'.format(k), rf)\n",
    "# ra.to_df()"
   ]
  },
  {
   "cell_type": "code",
   "execution_count": null,
   "metadata": {
    "ExecuteTime": {
     "end_time": "2016-05-11T11:00:23.006784",
     "start_time": "2016-05-11T11:00:22.995554"
    },
    "collapsed": false,
    "hidden": true
   },
   "outputs": [],
   "source": [
    "df2 = pd.concat([df.mean(), df.max() - df.mean()], axis=1)\n",
    "df2.round(2)"
   ]
  },
  {
   "cell_type": "code",
   "execution_count": null,
   "metadata": {
    "ExecuteTime": {
     "end_time": "2016-05-11T11:00:23.022540",
     "start_time": "2016-05-11T11:00:23.007875"
    },
    "collapsed": false,
    "hidden": true
   },
   "outputs": [],
   "source": [
    "fidf = (pd.DataFrame({'feature':features, \n",
    "                   'importance':fi})\n",
    "          .sort_values('importance', ascending=False))\n",
    "fidf.head(10)"
   ]
  },
  {
   "cell_type": "code",
   "execution_count": null,
   "metadata": {
    "ExecuteTime": {
     "end_time": "2016-05-11T11:00:33.258459",
     "start_time": "2016-05-11T11:00:33.251666"
    },
    "collapsed": false,
    "hidden": true
   },
   "outputs": [],
   "source": [
    "b = fidf.head(10).copy()\n",
    "b['importance'] /= 20\n",
    "print(b.to_latex())"
   ]
  },
  {
   "cell_type": "code",
   "execution_count": null,
   "metadata": {
    "ExecuteTime": {
     "end_time": "2016-05-10T14:28:52.247638",
     "start_time": "2016-05-10T14:28:52.130103"
    },
    "collapsed": false,
    "hidden": true,
    "run_control": {
     "frozen": false,
     "read_only": false
    }
   },
   "outputs": [],
   "source": [
    "fi = (pd.DataFrame({'feature':features, \n",
    "                   'importance':rf.feature_importances_})\n",
    "          .sort_values('importance', ascending=False))\n",
    "fi.head(10)"
   ]
  },
  {
   "cell_type": "markdown",
   "metadata": {
    "heading_collapsed": true,
    "hidden": true
   },
   "source": [
    "#### Pred/res/target plots"
   ]
  },
  {
   "cell_type": "code",
   "execution_count": null,
   "metadata": {
    "ExecuteTime": {
     "end_time": "2016-05-10T14:29:11.794660",
     "start_time": "2016-05-10T14:29:09.260559"
    },
    "collapsed": false,
    "hidden": true,
    "run_control": {
     "frozen": false,
     "read_only": false
    }
   },
   "outputs": [],
   "source": [
    "for s in train,val,test:\n",
    "    mf.plot_fit(s['y'], rf.predict(s[features]))"
   ]
  },
  {
   "cell_type": "markdown",
   "metadata": {},
   "source": [
    "# "
   ]
  }
 ],
 "metadata": {
  "kernelspec": {
   "display_name": "Python 3",
   "language": "python",
   "name": "python3"
  },
  "language_info": {
   "codemirror_mode": {
    "name": "ipython",
    "version": 3
   },
   "file_extension": ".py",
   "mimetype": "text/x-python",
   "name": "python",
   "nbconvert_exporter": "python",
   "pygments_lexer": "ipython3",
   "version": "3.5.1"
  }
 },
 "nbformat": 4,
 "nbformat_minor": 0
}
