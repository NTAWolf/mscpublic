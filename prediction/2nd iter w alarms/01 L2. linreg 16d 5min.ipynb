{
 "cells": [
  {
   "cell_type": "code",
   "execution_count": null,
   "metadata": {
    "ExecuteTime": {
     "end_time": "2016-05-11T12:42:44.306226",
     "start_time": "2016-05-11T12:42:44.279580"
    },
    "collapsed": true,
    "run_control": {
     "frozen": false,
     "read_only": false
    }
   },
   "outputs": [],
   "source": [
    "import utils.data as ud\n",
    "import tbtools.dev as tbdev\n",
    "import tbtools.panda as tbpd\n",
    "import tbtools.iter as tbiter\n",
    "\n",
    "import numpy as np\n",
    "import pandas as pd\n",
    "\n",
    "import statsmodels.api as sm\n",
    "\n",
    "import seaborn as sns\n",
    "%matplotlib inline"
   ]
  },
  {
   "cell_type": "code",
   "execution_count": null,
   "metadata": {
    "ExecuteTime": {
     "end_time": "2016-05-11T12:42:44.636366",
     "start_time": "2016-05-11T12:42:44.633028"
    },
    "collapsed": true,
    "run_control": {
     "frozen": false,
     "read_only": false
    }
   },
   "outputs": [],
   "source": [
    "import utils.evaluation.modelling.statsmodels_linreg as slr\n",
    "import utils.evaluation.modelling.fit as uemf"
   ]
  },
  {
   "cell_type": "code",
   "execution_count": null,
   "metadata": {
    "ExecuteTime": {
     "end_time": "2016-05-11T12:42:46.221626",
     "start_time": "2016-05-11T12:42:45.628480"
    },
    "collapsed": false,
    "run_control": {
     "frozen": false,
     "read_only": false
    }
   },
   "outputs": [],
   "source": [
    "train, val, test = ud.design_matrices.get_by_settings(\n",
    "                        sample_step='2 min', split='all', \n",
    "                        line=2,\n",
    "                        lag='5 min', dcwindow='2 min', \n",
    "                        rn=10, boawindow='2 min',\n",
    "                        add_intercept=True)"
   ]
  },
  {
   "cell_type": "markdown",
   "metadata": {
    "heading_collapsed": true
   },
   "source": [
    "#### Small experiment with data transformation to 0;1 range. \n",
    "\n",
    "Do not use. It gives worse results."
   ]
  },
  {
   "cell_type": "code",
   "execution_count": null,
   "metadata": {
    "ExecuteTime": {
     "end_time": "2016-05-11T12:54:47.897730",
     "start_time": "2016-05-11T12:54:47.891879"
    },
    "collapsed": true,
    "hidden": true
   },
   "outputs": [],
   "source": [
    "def get_01_transform(data):\n",
    "    ma = data.max(axis=0)\n",
    "    mi = data.min(axis=0)\n",
    "    \n",
    "    sub = mi\n",
    "    div = ma - mi\n",
    "    div[div==0] = 1\n",
    "    \n",
    "    def transform(x):\n",
    "        return (x-sub[x.columns])/div[x.columns]\n",
    "\n",
    "    return transform"
   ]
  },
  {
   "cell_type": "code",
   "execution_count": null,
   "metadata": {
    "ExecuteTime": {
     "end_time": "2016-05-11T12:54:49.721598",
     "start_time": "2016-05-11T12:54:49.520483"
    },
    "collapsed": true,
    "hidden": true
   },
   "outputs": [],
   "source": [
    "x_transform = get_01_transform(train)"
   ]
  },
  {
   "cell_type": "markdown",
   "metadata": {
    "heading_collapsed": true
   },
   "source": [
    "## Extract knowledge"
   ]
  },
  {
   "cell_type": "markdown",
   "metadata": {
    "heading_collapsed": true,
    "hidden": true
   },
   "source": [
    "#### How many percent of reinspection entries are handled by the main entrances?"
   ]
  },
  {
   "cell_type": "code",
   "execution_count": null,
   "metadata": {
    "ExecuteTime": {
     "end_time": "2016-05-09T16:55:42.639351",
     "start_time": "2016-05-09T16:55:40.011283"
    },
    "collapsed": false,
    "hidden": true,
    "run_control": {
     "frozen": false,
     "read_only": false
    }
   },
   "outputs": [],
   "source": [
    "bbh = ud.enhanced.get('bbh')"
   ]
  },
  {
   "cell_type": "code",
   "execution_count": null,
   "metadata": {
    "ExecuteTime": {
     "end_time": "2016-05-09T16:57:55.126916",
     "start_time": "2016-05-09T16:57:55.115165"
    },
    "collapsed": false,
    "hidden": true,
    "run_control": {
     "frozen": false,
     "read_only": false
    }
   },
   "outputs": [],
   "source": [
    "bbh[bbh.reinspection_change == 1].Tx.value_counts()"
   ]
  },
  {
   "cell_type": "code",
   "execution_count": null,
   "metadata": {
    "ExecuteTime": {
     "end_time": "2016-05-09T16:58:58.946131",
     "start_time": "2016-05-09T16:58:58.942732"
    },
    "collapsed": false,
    "hidden": true,
    "run_control": {
     "frozen": false,
     "read_only": false
    }
   },
   "outputs": [],
   "source": [
    "n=22165+22151\n",
    "n/(853+374+n)"
   ]
  },
  {
   "cell_type": "markdown",
   "metadata": {
    "heading_collapsed": true,
    "hidden": true
   },
   "source": [
    "#### Generate table of top-10 alarms"
   ]
  },
  {
   "cell_type": "code",
   "execution_count": null,
   "metadata": {
    "ExecuteTime": {
     "end_time": "2016-05-09T16:25:04.350129",
     "start_time": "2016-05-09T16:25:04.347649"
    },
    "collapsed": true,
    "hidden": true,
    "run_control": {
     "frozen": false,
     "read_only": false
    }
   },
   "outputs": [],
   "source": [
    "alm = ud.raw.get('almhist')"
   ]
  },
  {
   "cell_type": "code",
   "execution_count": null,
   "metadata": {
    "ExecuteTime": {
     "end_time": "2016-05-09T16:34:45.044507",
     "start_time": "2016-05-09T16:34:45.032433"
    },
    "collapsed": false,
    "hidden": true,
    "run_control": {
     "frozen": false,
     "read_only": false
    }
   },
   "outputs": [],
   "source": [
    "s = alm.AlmNr.value_counts().head(10)\n",
    "\n",
    "s.name = 'Count'\n",
    "s = s.to_frame()\n",
    "s.index.name = 'AlmNr'\n",
    "print(s.to_latex())"
   ]
  },
  {
   "cell_type": "markdown",
   "metadata": {
    "heading_collapsed": true,
    "hidden": true
   },
   "source": [
    "#### Plot alarm type count distribution"
   ]
  },
  {
   "cell_type": "code",
   "execution_count": null,
   "metadata": {
    "ExecuteTime": {
     "end_time": "2016-05-09T16:29:44.511917",
     "start_time": "2016-05-09T16:29:44.509293"
    },
    "collapsed": true,
    "hidden": true,
    "run_control": {
     "frozen": false,
     "read_only": false
    }
   },
   "outputs": [],
   "source": [
    "import utils.plotting as up"
   ]
  },
  {
   "cell_type": "code",
   "execution_count": null,
   "metadata": {
    "ExecuteTime": {
     "end_time": "2016-05-09T16:31:02.144169",
     "start_time": "2016-05-09T16:31:01.873656"
    },
    "collapsed": false,
    "hidden": true,
    "run_control": {
     "frozen": false,
     "read_only": false
    },
    "scrolled": true
   },
   "outputs": [],
   "source": [
    "ax = alm.AlmNr.value_counts().reset_index().plot(y='AlmNr', marker='.', linewidth=.75)\n",
    "ax.set_xlabel('index')\n",
    "ax.set_ylabel('Occurrence count')\n",
    "up.save_fig('w19/almcount_powerlaw.png', target='week')"
   ]
  },
  {
   "cell_type": "markdown",
   "metadata": {},
   "source": [
    "## Code: reduce"
   ]
  },
  {
   "cell_type": "code",
   "execution_count": null,
   "metadata": {
    "ExecuteTime": {
     "end_time": "2016-05-11T13:01:44.137621",
     "start_time": "2016-05-11T13:01:44.128155"
    },
    "collapsed": true
   },
   "outputs": [],
   "source": [
    "uemf = tbdev.reload(uemf)"
   ]
  },
  {
   "cell_type": "code",
   "execution_count": null,
   "metadata": {
    "ExecuteTime": {
     "end_time": "2016-05-11T13:06:17.962786",
     "start_time": "2016-05-11T13:06:17.950973"
    },
    "collapsed": false
   },
   "outputs": [],
   "source": [
    "results = uemf.ResultsAggregator({'train':train, 'val':val, 'test':test},\n",
    "                                 target_name='y',\n",
    "                                 prediction_modifier=np.square)\n",
    "\n",
    "def reduce(subset, name, plot_fit=True):\n",
    "    model, feats = uemf.smlr_fit_reduce(subset, train)\n",
    "    results.append(name, model=model, feature_subset=feats)\n",
    "    if plot_fit:\n",
    "        results.plot_residuals(name)"
   ]
  },
  {
   "cell_type": "markdown",
   "metadata": {},
   "source": [
    "## Most sensemaking model\n",
    "\n",
    "Start reduction only with alarms that occur at least once."
   ]
  },
  {
   "cell_type": "code",
   "execution_count": null,
   "metadata": {
    "ExecuteTime": {
     "end_time": "2016-05-11T13:07:57.615237",
     "start_time": "2016-05-11T13:06:26.470748"
    },
    "collapsed": false,
    "run_control": {
     "frozen": false,
     "read_only": false
    }
   },
   "outputs": [],
   "source": [
    "with tbdev.Notify():\n",
    "    subset = train.columns[(train != 0).sum() > 0]\n",
    "    subset = [x for x in subset if x != 'y']\n",
    "    reduce(subset, 'L2 final')"
   ]
  },
  {
   "cell_type": "code",
   "execution_count": null,
   "metadata": {
    "ExecuteTime": {
     "end_time": "2016-05-11T13:04:46.290550",
     "start_time": "2016-05-11T13:04:45.841950"
    },
    "collapsed": false
   },
   "outputs": [],
   "source": [
    "resid = results.results['L2 final']['residuals']['train']\n",
    "\n",
    "pd.Series(resid).hist(bins=36)\n",
    "sm.qqplot(resid, line='q');"
   ]
  },
  {
   "cell_type": "code",
   "execution_count": null,
   "metadata": {
    "ExecuteTime": {
     "end_time": "2016-05-11T13:08:01.195075",
     "start_time": "2016-05-11T13:08:01.176880"
    },
    "collapsed": false
   },
   "outputs": [],
   "source": [
    "results.to_df().round(2)"
   ]
  },
  {
   "cell_type": "code",
   "execution_count": null,
   "metadata": {
    "ExecuteTime": {
     "end_time": "2016-05-11T12:44:43.778347",
     "start_time": "2016-05-11T12:44:43.718467"
    },
    "collapsed": false
   },
   "outputs": [],
   "source": [
    "results.results['L2 final']['model'].summary()"
   ]
  },
  {
   "cell_type": "code",
   "execution_count": null,
   "metadata": {
    "ExecuteTime": {
     "end_time": "2016-05-11T12:44:44.463464",
     "start_time": "2016-05-11T12:44:44.459368"
    },
    "collapsed": false
   },
   "outputs": [],
   "source": [
    "results.results['L2 final']['subset']"
   ]
  }
 ],
 "metadata": {
  "kernelspec": {
   "display_name": "Python 3",
   "language": "python",
   "name": "python3"
  },
  "language_info": {
   "codemirror_mode": {
    "name": "ipython",
    "version": 3
   },
   "file_extension": ".py",
   "mimetype": "text/x-python",
   "name": "python",
   "nbconvert_exporter": "python",
   "pygments_lexer": "ipython3",
   "version": "3.5.1"
  }
 },
 "nbformat": 4,
 "nbformat_minor": 0
}
