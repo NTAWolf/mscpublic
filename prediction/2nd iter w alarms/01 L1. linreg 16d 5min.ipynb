{
 "cells": [
  {
   "cell_type": "code",
   "execution_count": null,
   "metadata": {
    "ExecuteTime": {
     "end_time": "2016-05-11T11:09:27.277554",
     "start_time": "2016-05-11T11:09:27.271201"
    },
    "collapsed": true,
    "run_control": {
     "frozen": false,
     "read_only": false
    }
   },
   "outputs": [],
   "source": [
    "import utils.data as ud\n",
    "import tbtools.dev as tbdev\n",
    "import tbtools.panda as tbpd\n",
    "import tbtools.iter as tbiter\n",
    "\n",
    "import numpy as np\n",
    "import pandas as pd\n",
    "\n",
    "import statsmodels.api as sm\n",
    "\n",
    "import seaborn as sns\n",
    "%matplotlib inline"
   ]
  },
  {
   "cell_type": "code",
   "execution_count": null,
   "metadata": {
    "ExecuteTime": {
     "end_time": "2016-05-11T11:08:13.975286",
     "start_time": "2016-05-11T11:08:13.886646"
    },
    "collapsed": true,
    "run_control": {
     "frozen": false,
     "read_only": false
    }
   },
   "outputs": [],
   "source": [
    "import utils.evaluation.modelling.statsmodels_linreg as slr\n",
    "import utils.evaluation.modelling.fit as uemf"
   ]
  },
  {
   "cell_type": "code",
   "execution_count": null,
   "metadata": {
    "ExecuteTime": {
     "end_time": "2016-05-11T11:08:15.418464",
     "start_time": "2016-05-11T11:08:14.761733"
    },
    "collapsed": false,
    "run_control": {
     "frozen": false,
     "read_only": false
    }
   },
   "outputs": [],
   "source": [
    "train, val, test = ud.design_matrices.get_by_settings(\n",
    "                        sample_step='2 min', split='all', \n",
    "                        line=1,\n",
    "                        lag='5 min', dcwindow='2 min', \n",
    "                        rn=10, boawindow='2 min',\n",
    "                        add_intercept=True)"
   ]
  },
  {
   "cell_type": "markdown",
   "metadata": {
    "heading_collapsed": true
   },
   "source": [
    "### What happens if I prune features with very few nonzero elems?"
   ]
  },
  {
   "cell_type": "code",
   "execution_count": null,
   "metadata": {
    "ExecuteTime": {
     "end_time": "2016-05-08T17:04:42.414114",
     "start_time": "2016-05-08T17:04:30.510818"
    },
    "collapsed": false,
    "hidden": true,
    "run_control": {
     "frozen": false,
     "read_only": false
    }
   },
   "outputs": [],
   "source": [
    "df = []\n",
    "\n",
    "for n_nonzeros in sorted((train != 0).sum().unique()):\n",
    "#     print(n_nonzeros)\n",
    "    x = train.drop('y', axis=1)\n",
    "    x = x[x.columns[(x != 0).sum() >= n_nonzeros]]\n",
    "#     numcols = [c for c in x if not c.startswith('alm')]\n",
    "#     x[numcols] = x[numcols] - x[numcols].mean()\n",
    "#     x[numcols] = x[numcols]/x[numcols].std()\n",
    "    res = sm.OLS(np.sqrt(train['y']), x).fit()\n",
    "    _rmse = np.sqrt(np.mean(np.square(train['y'] - np.square(res.predict(x)))))\n",
    "    df.append(pd.Series({'n_nonzeros':n_nonzeros,\n",
    "               'rsquared_adj':res.rsquared_adj,\n",
    "               'sqrt_mse_total':np.sqrt(res.mse_total),\n",
    "                'rmse':_rmse,\n",
    "               'n_features':x.shape[1]}, name=n_nonzeros))\n",
    "    \n",
    "df = pd.concat(df, axis=1).T\n"
   ]
  },
  {
   "cell_type": "code",
   "execution_count": null,
   "metadata": {
    "ExecuteTime": {
     "end_time": "2016-05-08T17:04:43.519079",
     "start_time": "2016-05-08T17:04:43.310031"
    },
    "collapsed": false,
    "hidden": true,
    "run_control": {
     "frozen": false,
     "read_only": false
    }
   },
   "outputs": [],
   "source": [
    "df.plot(x='n_features', y='rmse', marker='.', linewidth=0)"
   ]
  },
  {
   "cell_type": "code",
   "execution_count": null,
   "metadata": {
    "ExecuteTime": {
     "end_time": "2016-05-08T17:04:49.127636",
     "start_time": "2016-05-08T17:04:48.945881"
    },
    "collapsed": false,
    "hidden": true,
    "run_control": {
     "frozen": false,
     "read_only": false
    }
   },
   "outputs": [],
   "source": [
    "df.plot.scatter(x='n_nonzeros', y='rmse')"
   ]
  },
  {
   "cell_type": "code",
   "execution_count": null,
   "metadata": {
    "ExecuteTime": {
     "end_time": "2016-05-08T17:06:16.048243",
     "start_time": "2016-05-08T17:06:15.650732"
    },
    "collapsed": false,
    "hidden": true,
    "run_control": {
     "frozen": false,
     "read_only": false
    }
   },
   "outputs": [],
   "source": [
    "df[df.n_nonzeros < 40].plot(x='n_nonzeros', y='rmse', marker='.', linewidth=0)\n",
    "df[4000 < df.n_nonzeros].plot(x='n_nonzeros', y='rmse', marker='.', linewidth=0)"
   ]
  },
  {
   "cell_type": "code",
   "execution_count": null,
   "metadata": {
    "ExecuteTime": {
     "end_time": "2016-05-08T16:55:20.476438",
     "start_time": "2016-05-08T16:55:20.440786"
    },
    "collapsed": true,
    "hidden": true,
    "run_control": {
     "frozen": false,
     "read_only": false
    }
   },
   "outputs": [],
   "source": [
    "import tbtools.dev as tbdev\n",
    "tbdev.notify()"
   ]
  },
  {
   "cell_type": "markdown",
   "metadata": {
    "heading_collapsed": true
   },
   "source": [
    "### Code: Remove least significant term"
   ]
  },
  {
   "cell_type": "code",
   "execution_count": null,
   "metadata": {
    "ExecuteTime": {
     "end_time": "2016-05-11T12:36:32.807029",
     "start_time": "2016-05-11T12:36:32.802113"
    },
    "collapsed": true,
    "hidden": true,
    "run_control": {
     "frozen": false,
     "read_only": false
    }
   },
   "outputs": [],
   "source": [
    "results = uemf.ResultsAggregator({'train':train, 'val':val, 'test':test},\n",
    "                                 target_name='y',\n",
    "                                 prediction_modifier=np.square)\n",
    "\n",
    "def reduce(subset, name, plot_fit=True):\n",
    "    model, feats = uemf.smlr_fit_reduce(subset, train)\n",
    "    results.append(name, model=model, feature_subset=feats)\n",
    "    if plot_fit:\n",
    "        results.plot_residuals(name)"
   ]
  },
  {
   "cell_type": "markdown",
   "metadata": {
    "heading_collapsed": true
   },
   "source": [
    "### Predicting the mean"
   ]
  },
  {
   "cell_type": "code",
   "execution_count": null,
   "metadata": {
    "ExecuteTime": {
     "end_time": "2016-05-11T12:36:36.982306",
     "start_time": "2016-05-11T12:36:35.546869"
    },
    "collapsed": false,
    "hidden": true,
    "run_control": {
     "frozen": false,
     "read_only": false
    }
   },
   "outputs": [],
   "source": [
    "subset = ['intercept']\n",
    "reduce(subset, 'only intercept')"
   ]
  },
  {
   "cell_type": "markdown",
   "metadata": {
    "heading_collapsed": true,
    "hidden": true
   },
   "source": [
    "#### Prediction is last $C$"
   ]
  },
  {
   "cell_type": "code",
   "execution_count": null,
   "metadata": {
    "ExecuteTime": {
     "end_time": "2016-05-09T17:21:07.970574",
     "start_time": "2016-05-09T17:21:07.962793"
    },
    "collapsed": false,
    "hidden": true,
    "run_control": {
     "frozen": false,
     "read_only": false
    }
   },
   "outputs": [],
   "source": [
    "results['predicting C L=5'] = {\n",
    "    'RMSE test': slr.rmse(test['y'] - test['C L=5 min']),\n",
    "    'RMSE train': slr.rmse(train['y'] - train['C L=5 min']),\n",
    "    'RMSE val': slr.rmse(val['y'] - val['C L=5 min']),\n",
    "    'columns': [],\n",
    "    'model': None\n",
    "}"
   ]
  },
  {
   "cell_type": "markdown",
   "metadata": {
    "heading_collapsed": true
   },
   "source": [
    "### Without alarms"
   ]
  },
  {
   "cell_type": "code",
   "execution_count": null,
   "metadata": {
    "ExecuteTime": {
     "end_time": "2016-05-11T12:36:40.411133",
     "start_time": "2016-05-11T12:36:38.850846"
    },
    "collapsed": false,
    "hidden": true,
    "run_control": {
     "frozen": false,
     "read_only": false
    }
   },
   "outputs": [],
   "source": [
    "subset = [x for x in train.columns if x!='y' and x!='line' and not x.startswith('alm')]\n",
    "reduce(subset, 'without alarms')"
   ]
  },
  {
   "cell_type": "markdown",
   "metadata": {
    "heading_collapsed": true
   },
   "source": [
    "### With alarms"
   ]
  },
  {
   "cell_type": "code",
   "execution_count": null,
   "metadata": {
    "ExecuteTime": {
     "end_time": "2016-05-09T17:27:13.301798",
     "start_time": "2016-05-09T17:21:38.501872"
    },
    "collapsed": false,
    "hidden": true,
    "run_control": {
     "frozen": false,
     "read_only": false
    },
    "scrolled": false
   },
   "outputs": [],
   "source": [
    "independents = [x for x in train.columns if x!='y' and x!='line']\n",
    "smlr(independents, 'with alarms')"
   ]
  },
  {
   "cell_type": "code",
   "execution_count": null,
   "metadata": {
    "ExecuteTime": {
     "end_time": "2016-05-06T16:48:41.439142",
     "start_time": "2016-05-06T16:48:41.435232"
    },
    "collapsed": false,
    "hidden": true,
    "run_control": {
     "frozen": false,
     "read_only": false
    }
   },
   "outputs": [],
   "source": [
    "results['with alarms']"
   ]
  },
  {
   "cell_type": "code",
   "execution_count": null,
   "metadata": {
    "ExecuteTime": {
     "end_time": "2016-05-06T16:08:06.668954",
     "start_time": "2016-05-06T16:08:06.650328"
    },
    "collapsed": false,
    "hidden": true,
    "run_control": {
     "frozen": false,
     "read_only": false
    }
   },
   "outputs": [],
   "source": [
    "resid = train['y'] - np.square(m.predict(x))\n",
    "slr.rmse(resid)"
   ]
  },
  {
   "cell_type": "markdown",
   "metadata": {
    "ExecuteTime": {
     "end_time": "2016-05-08T12:25:06.693540",
     "start_time": "2016-05-08T12:25:06.689592"
    },
    "heading_collapsed": true
   },
   "source": [
    "### With alarms, minus alarms occuring fewer than $n$ times in the training data\n",
    "\n",
    "$n \\in {1,10,25,50,75,100,1000}$"
   ]
  },
  {
   "cell_type": "code",
   "execution_count": null,
   "metadata": {
    "ExecuteTime": {
     "end_time": "2016-05-08T17:26:02.417710",
     "start_time": "2016-05-08T17:24:03.796959"
    },
    "collapsed": false,
    "hidden": true,
    "run_control": {
     "frozen": false,
     "read_only": false
    },
    "scrolled": false
   },
   "outputs": [],
   "source": [
    "for n in (1,5,10,25,50,75,100,1000):\n",
    "    print(n)\n",
    "    subset = [x for x in train.columns if x!='y' and ((train[x] > 0).sum() >= n)]\n",
    "    smlr(subset, 'with {:04}+ alarms'.format(n))"
   ]
  },
  {
   "cell_type": "code",
   "execution_count": null,
   "metadata": {
    "ExecuteTime": {
     "end_time": "2016-05-08T17:26:02.451181",
     "start_time": "2016-05-08T17:26:02.418930"
    },
    "collapsed": true,
    "hidden": true,
    "run_control": {
     "frozen": false,
     "read_only": false
    }
   },
   "outputs": [],
   "source": [
    "tbdev.notify()"
   ]
  },
  {
   "cell_type": "markdown",
   "metadata": {
    "heading_collapsed": true
   },
   "source": [
    "# eval sm\n",
    "\n",
    "We get the best performance when we do reduction on a set where all the alarms occur at least once.\n"
   ]
  },
  {
   "cell_type": "code",
   "execution_count": null,
   "metadata": {
    "ExecuteTime": {
     "end_time": "2016-05-08T20:08:22.744602",
     "start_time": "2016-05-08T20:08:22.721012"
    },
    "collapsed": false,
    "hidden": true,
    "run_control": {
     "frozen": false,
     "read_only": false
    }
   },
   "outputs": [],
   "source": [
    "df2 = pd.DataFrame(results).T.drop(['columns', 'model'], axis=1).sort_values('RMSE train')\n",
    "df2"
   ]
  },
  {
   "cell_type": "code",
   "execution_count": null,
   "metadata": {
    "ExecuteTime": {
     "end_time": "2016-05-08T20:18:33.681361",
     "start_time": "2016-05-08T20:18:33.472574"
    },
    "collapsed": false,
    "hidden": true,
    "run_control": {
     "frozen": false,
     "read_only": false
    }
   },
   "outputs": [],
   "source": [
    "df2.plot()"
   ]
  },
  {
   "cell_type": "markdown",
   "metadata": {},
   "source": [
    "# Most sensemaking model\n",
    "\n",
    "Start reduction only with alarms that occur at least once."
   ]
  },
  {
   "cell_type": "code",
   "execution_count": null,
   "metadata": {
    "ExecuteTime": {
     "end_time": "2016-05-11T12:38:19.639900",
     "start_time": "2016-05-11T12:37:01.999272"
    },
    "collapsed": false,
    "run_control": {
     "frozen": false,
     "read_only": false
    }
   },
   "outputs": [],
   "source": [
    "subset = train.columns[(train != 0).sum() > 0]\n",
    "subset = [x for x in subset if x != 'y']\n",
    "reduce(subset, 'L1 final')"
   ]
  },
  {
   "cell_type": "code",
   "execution_count": null,
   "metadata": {
    "ExecuteTime": {
     "end_time": "2016-05-11T12:39:25.087540",
     "start_time": "2016-05-11T12:39:24.647192"
    },
    "collapsed": false,
    "run_control": {
     "frozen": false,
     "read_only": false
    }
   },
   "outputs": [],
   "source": [
    "resid = results.results['L1 final']['residuals']['train']\n",
    "\n",
    "pd.Series(resid).hist(bins=36)\n",
    "sm.qqplot(resid, line='q');"
   ]
  },
  {
   "cell_type": "code",
   "execution_count": null,
   "metadata": {
    "ExecuteTime": {
     "end_time": "2016-05-11T12:39:16.167401",
     "start_time": "2016-05-11T12:39:16.152074"
    },
    "collapsed": false,
    "run_control": {
     "frozen": false,
     "read_only": false
    }
   },
   "outputs": [],
   "source": [
    "results.to_df().round(2)"
   ]
  },
  {
   "cell_type": "code",
   "execution_count": null,
   "metadata": {
    "ExecuteTime": {
     "end_time": "2016-05-11T12:39:33.803509",
     "start_time": "2016-05-11T12:39:33.581711"
    },
    "collapsed": false,
    "run_control": {
     "frozen": false,
     "read_only": false
    },
    "scrolled": false
   },
   "outputs": [],
   "source": [
    "results.results['L1 final']['model'].summary()"
   ]
  },
  {
   "cell_type": "code",
   "execution_count": null,
   "metadata": {
    "ExecuteTime": {
     "end_time": "2016-05-11T12:39:39.792325",
     "start_time": "2016-05-11T12:39:39.788224"
    },
    "collapsed": false,
    "run_control": {
     "frozen": false,
     "read_only": false
    }
   },
   "outputs": [],
   "source": [
    "results.results['L1 final']['subset']"
   ]
  }
 ],
 "metadata": {
  "kernelspec": {
   "display_name": "Python 3",
   "language": "python",
   "name": "python3"
  },
  "language_info": {
   "codemirror_mode": {
    "name": "ipython",
    "version": 3
   },
   "file_extension": ".py",
   "mimetype": "text/x-python",
   "name": "python",
   "nbconvert_exporter": "python",
   "pygments_lexer": "ipython3",
   "version": "3.5.1"
  }
 },
 "nbformat": 4,
 "nbformat_minor": 0
}
