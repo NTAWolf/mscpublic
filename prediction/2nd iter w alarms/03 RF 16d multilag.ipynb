{
 "cells": [
  {
   "cell_type": "code",
   "execution_count": null,
   "metadata": {
    "ExecuteTime": {
     "end_time": "2016-05-13T08:34:28.031712",
     "start_time": "2016-05-13T08:34:25.479822"
    },
    "collapsed": true,
    "run_control": {
     "frozen": false,
     "read_only": false
    }
   },
   "outputs": [],
   "source": [
    "import seaborn as sns\n",
    "%matplotlib inline\n",
    "\n",
    "import pandas as pd\n",
    "import numpy as np\n",
    "import sklearn.ensemble as ske\n",
    "\n",
    "import tbtools.dev as tbdev\n",
    "import tbtools.iter as tbiter\n",
    "import tbtools.strings as tbstr\n",
    "\n",
    "import utils.data as ud\n",
    "import utils.plotting as up\n",
    "import utils.evaluation.modelling.fit as mf\n",
    "\n",
    "import os\n",
    "import itertools\n",
    "import pickle"
   ]
  },
  {
   "cell_type": "markdown",
   "metadata": {},
   "source": [
    "# Find out how well models perform with greater lags"
   ]
  },
  {
   "cell_type": "markdown",
   "metadata": {},
   "source": [
    "## Fetch data (if constructed)"
   ]
  },
  {
   "cell_type": "code",
   "execution_count": null,
   "metadata": {
    "ExecuteTime": {
     "end_time": "2016-05-13T09:55:18.150062",
     "start_time": "2016-05-13T09:55:18.125710"
    },
    "collapsed": false
   },
   "outputs": [],
   "source": [
    "path = os.path.join(ud.paths.Paths.cache, 'rf_results2.pickle')\n",
    "df = pd.read_pickle(path)"
   ]
  },
  {
   "cell_type": "markdown",
   "metadata": {
    "heading_collapsed": true
   },
   "source": [
    "## Construct data"
   ]
  },
  {
   "cell_type": "code",
   "execution_count": null,
   "metadata": {
    "ExecuteTime": {
     "end_time": "2016-05-12T16:03:56.696324",
     "start_time": "2016-05-12T16:03:56.670888"
    },
    "collapsed": true,
    "hidden": true
   },
   "outputs": [],
   "source": [
    "def runforline(line, ra):\n",
    "    for lag, dcwindow, boawindow, rn in \\\n",
    "    tbiter.IProgressBar(\n",
    "        itertools.product(LAGS, TWINDOWS, TWINDOWS, RN),\n",
    "        len(LAGS)*(len(TWINDOWS)**2)*len(RN)):\n",
    "\n",
    "        with tbstr.silence():\n",
    "            train, val, test = ud.design_matrices.get_by_settings(\n",
    "                sample_step='2 min',\n",
    "                split='all',\n",
    "                line=line,\n",
    "                lag=lag,\n",
    "                dcwindow=dcwindow,\n",
    "                rn=rn,\n",
    "                boawindow=boawindow)\n",
    "\n",
    "            features = [x for x in train if x!='y']\n",
    "            data = {'train':train, 'val':val, 'test':test}\n",
    "            ra.evaluation_sets = data\n",
    "\n",
    "            rf = ske.RandomForestRegressor(n_estimators=k, n_jobs=-1)\n",
    "            rf = rf.fit(train[features], train['y'])\n",
    "            ra.append(('rf Line{line} L={lag} dcw={dcwindow} '\n",
    "                       'boa={boawindow} rn={rn}').format(\n",
    "                        line=line, lag=lag, dcwindow=dcwindow,\n",
    "                        boawindow=boawindow, rn=rn), rf)"
   ]
  },
  {
   "cell_type": "code",
   "execution_count": null,
   "metadata": {
    "ExecuteTime": {
     "end_time": "2016-05-13T09:03:24.866643",
     "start_time": "2016-05-13T09:03:24.861102"
    },
    "collapsed": true,
    "hidden": true
   },
   "outputs": [],
   "source": [
    "def extract(field, df):\n",
    "    return df.index.str.findall('{}=(\\d+)'.format(field)).map(lambda x: x[0]).astype(int)"
   ]
  },
  {
   "cell_type": "markdown",
   "metadata": {
    "heading_collapsed": true,
    "hidden": true
   },
   "source": [
    "### 1st iteration"
   ]
  },
  {
   "cell_type": "code",
   "execution_count": null,
   "metadata": {
    "ExecuteTime": {
     "end_time": "2016-05-11T19:12:14.173891",
     "start_time": "2016-05-11T19:12:14.170946"
    },
    "collapsed": true,
    "hidden": true,
    "run_control": {
     "frozen": false,
     "read_only": false
    }
   },
   "outputs": [],
   "source": [
    "LAGS = ('5 min', '10 min', '15 min', '20 min')\n",
    "TWINDOWS = ('2 min', '3 min', '4 min')\n",
    "RN = (5, 10, 15, 20)\n",
    "k = 200"
   ]
  },
  {
   "cell_type": "markdown",
   "metadata": {
    "heading_collapsed": true,
    "hidden": true
   },
   "source": [
    "#### Line 1"
   ]
  },
  {
   "cell_type": "code",
   "execution_count": null,
   "metadata": {
    "ExecuteTime": {
     "end_time": "2016-05-11T19:11:34.665796",
     "start_time": "2016-05-11T18:57:36.866741"
    },
    "collapsed": false,
    "hidden": true,
    "run_control": {
     "frozen": false,
     "read_only": false
    }
   },
   "outputs": [],
   "source": [
    "ra1 = mf.ResultsAggregator({}, target_name='y')\n",
    "runforline(1, ra1)"
   ]
  },
  {
   "cell_type": "code",
   "execution_count": null,
   "metadata": {
    "ExecuteTime": {
     "end_time": "2016-05-11T19:12:18.100027",
     "start_time": "2016-05-11T19:12:18.096523"
    },
    "collapsed": true,
    "hidden": true
   },
   "outputs": [],
   "source": [
    "p1 = os.path.join(ud.paths.Paths.cache, 'rf_results_L1.pickle')"
   ]
  },
  {
   "cell_type": "code",
   "execution_count": null,
   "metadata": {
    "ExecuteTime": {
     "end_time": "2016-05-11T19:11:34.716045",
     "start_time": "2016-05-11T19:11:34.671536"
    },
    "collapsed": false,
    "hidden": true
   },
   "outputs": [],
   "source": [
    "# ra1.to_df().to_pickle(p1)"
   ]
  },
  {
   "cell_type": "code",
   "execution_count": null,
   "metadata": {
    "ExecuteTime": {
     "end_time": "2016-05-11T19:17:44.731254",
     "start_time": "2016-05-11T19:17:44.717411"
    },
    "collapsed": false,
    "hidden": true
   },
   "outputs": [],
   "source": [
    "df1 = pd.read_pickle(p1)\n",
    "\n",
    "df1['lag'] = extract('L', df1)\n",
    "df1['dcw'] = extract('dcw', df1)\n",
    "df1['boa'] = extract('boa', df1)\n",
    "df1['rn'] = extract('rn', df1)\n",
    "\n",
    "df1 = df1.reset_index().drop('index', axis=1)"
   ]
  },
  {
   "cell_type": "markdown",
   "metadata": {
    "heading_collapsed": true,
    "hidden": true
   },
   "source": [
    "#### Line 2"
   ]
  },
  {
   "cell_type": "code",
   "execution_count": null,
   "metadata": {
    "ExecuteTime": {
     "end_time": "2016-05-11T19:33:17.693729",
     "start_time": "2016-05-11T19:19:23.149511"
    },
    "collapsed": false,
    "hidden": true,
    "run_control": {
     "frozen": false,
     "read_only": false
    }
   },
   "outputs": [],
   "source": [
    "ra2 = mf.ResultsAggregator({}, target_name='y')\n",
    "runforline(1, ra2)"
   ]
  },
  {
   "cell_type": "code",
   "execution_count": null,
   "metadata": {
    "ExecuteTime": {
     "end_time": "2016-05-11T19:33:17.697161",
     "start_time": "2016-05-11T19:33:17.694985"
    },
    "collapsed": true,
    "hidden": true
   },
   "outputs": [],
   "source": [
    "p2 = os.path.join(ud.paths.Paths.cache, 'rf_results_L2.pickle')"
   ]
  },
  {
   "cell_type": "code",
   "execution_count": null,
   "metadata": {
    "ExecuteTime": {
     "end_time": "2016-05-11T19:38:36.223513",
     "start_time": "2016-05-11T19:38:36.204608"
    },
    "collapsed": false,
    "hidden": true
   },
   "outputs": [],
   "source": [
    "ra2.to_df().to_pickle(p2)"
   ]
  },
  {
   "cell_type": "code",
   "execution_count": null,
   "metadata": {
    "ExecuteTime": {
     "end_time": "2016-05-11T19:38:36.223513",
     "start_time": "2016-05-11T19:38:36.204608"
    },
    "collapsed": false,
    "hidden": true
   },
   "outputs": [],
   "source": [
    "df2 = pd.read_pickle(p2)\n",
    "\n",
    "df2['lag'] = extract('L', df2)\n",
    "df2['dcw'] = extract('dcw', df2)\n",
    "df2['boa'] = extract('boa', df2)\n",
    "df2['rn'] = extract('rn', df2)\n",
    "\n",
    "df2 = df2.reset_index().drop('index', axis=1)"
   ]
  },
  {
   "cell_type": "markdown",
   "metadata": {
    "hidden": true
   },
   "source": [
    "#### Merge"
   ]
  },
  {
   "cell_type": "code",
   "execution_count": null,
   "metadata": {
    "ExecuteTime": {
     "end_time": "2016-05-11T19:39:45.605384",
     "start_time": "2016-05-11T19:39:45.599621"
    },
    "collapsed": true,
    "hidden": true
   },
   "outputs": [],
   "source": [
    "df = pd.concat([df1.assign(line=1), df2.assign(line=2)], ignore_index=True, axis=0)"
   ]
  },
  {
   "cell_type": "code",
   "execution_count": null,
   "metadata": {
    "ExecuteTime": {
     "end_time": "2016-05-11T19:40:23.260593",
     "start_time": "2016-05-11T19:40:23.255662"
    },
    "collapsed": true,
    "hidden": true
   },
   "outputs": [],
   "source": [
    "path = os.path.join(ud.paths.Paths.cache, 'rf_results.pickle')"
   ]
  },
  {
   "cell_type": "code",
   "execution_count": null,
   "metadata": {
    "ExecuteTime": {
     "end_time": "2016-05-11T19:40:28.245527",
     "start_time": "2016-05-11T19:40:28.242592"
    },
    "collapsed": false,
    "hidden": true
   },
   "outputs": [],
   "source": [
    "# df.to_pickle(path)"
   ]
  },
  {
   "cell_type": "markdown",
   "metadata": {
    "heading_collapsed": true,
    "hidden": true
   },
   "source": [
    "### 2nd iteration: More data! Now also for L=30 min"
   ]
  },
  {
   "cell_type": "code",
   "execution_count": null,
   "metadata": {
    "ExecuteTime": {
     "end_time": "2016-05-12T16:33:38.147382",
     "start_time": "2016-05-12T16:33:38.144237"
    },
    "collapsed": true,
    "hidden": true
   },
   "outputs": [],
   "source": [
    "LAGS = ('30 min', '60 min')\n",
    "TWINDOWS = ('2 min', '3 min', '4 min')\n",
    "RN = (5, 10, 15, 20)\n",
    "k = 200"
   ]
  },
  {
   "cell_type": "code",
   "execution_count": null,
   "metadata": {
    "ExecuteTime": {
     "end_time": "2016-05-12T17:22:54.180507",
     "start_time": "2016-05-12T16:33:46.453045"
    },
    "collapsed": false,
    "hidden": true
   },
   "outputs": [],
   "source": [
    "ra_it2 = mf.ResultsAggregator({}, target_name='y')\n",
    "runforline(1, ra_it2)\n",
    "runforline(2, ra_it2)"
   ]
  },
  {
   "cell_type": "code",
   "execution_count": null,
   "metadata": {
    "ExecuteTime": {
     "end_time": "2016-05-12T17:27:09.917902",
     "start_time": "2016-05-12T17:27:09.912794"
    },
    "collapsed": true,
    "hidden": true
   },
   "outputs": [],
   "source": [
    "p_it2 = os.path.join(ud.paths.Paths.cache, 'rf_results_it2.pickle')"
   ]
  },
  {
   "cell_type": "code",
   "execution_count": null,
   "metadata": {
    "ExecuteTime": {
     "end_time": "2016-05-12T17:27:10.779315",
     "start_time": "2016-05-12T17:27:10.747914"
    },
    "collapsed": false,
    "hidden": true
   },
   "outputs": [],
   "source": [
    "ra_it2.to_df().to_pickle(p_it2)"
   ]
  },
  {
   "cell_type": "code",
   "execution_count": null,
   "metadata": {
    "ExecuteTime": {
     "end_time": "2016-05-12T17:27:11.870362",
     "start_time": "2016-05-12T17:27:11.826776"
    },
    "collapsed": false,
    "hidden": true
   },
   "outputs": [],
   "source": [
    "df_it2 = pd.read_pickle(p_it2)\n",
    "\n",
    "df_it2['lag'] = extract('L', df_it2)\n",
    "df_it2['dcw'] = extract('dcw', df_it2)\n",
    "df_it2['boa'] = extract('boa', df_it2)\n",
    "df_it2['rn'] = extract('rn', df_it2)\n",
    "df_it2['line'] = df_it2.index.str.findall('Line(\\d+)').map(lambda x: x[0]).astype(int)\n",
    "\n",
    "df_it2 = df_it2.reset_index().drop('index', axis=1)"
   ]
  },
  {
   "cell_type": "markdown",
   "metadata": {
    "heading_collapsed": true,
    "hidden": true
   },
   "source": [
    "#### Merge and store on disk"
   ]
  },
  {
   "cell_type": "code",
   "execution_count": null,
   "metadata": {
    "ExecuteTime": {
     "end_time": "2016-05-12T17:27:15.425208",
     "start_time": "2016-05-12T17:27:15.402699"
    },
    "collapsed": true,
    "hidden": true
   },
   "outputs": [],
   "source": [
    "path_it1 = os.path.join(ud.paths.Paths.cache, 'rf_results.pickle')\n",
    "df_it1 = pd.read_pickle(path_it1)"
   ]
  },
  {
   "cell_type": "code",
   "execution_count": null,
   "metadata": {
    "ExecuteTime": {
     "end_time": "2016-05-12T17:27:16.533389",
     "start_time": "2016-05-12T17:27:16.529892"
    },
    "collapsed": true,
    "hidden": true
   },
   "outputs": [],
   "source": [
    "df = pd.concat([df_it1, df_it2], ignore_index=True, axis=0)"
   ]
  },
  {
   "cell_type": "code",
   "execution_count": null,
   "metadata": {
    "ExecuteTime": {
     "end_time": "2016-05-12T17:27:19.717425",
     "start_time": "2016-05-12T17:27:19.709329"
    },
    "collapsed": true,
    "hidden": true
   },
   "outputs": [],
   "source": [
    "path_it2 = os.path.join(ud.paths.Paths.cache, 'rf_results2.pickle')"
   ]
  },
  {
   "cell_type": "code",
   "execution_count": null,
   "metadata": {
    "ExecuteTime": {
     "end_time": "2016-05-12T17:27:20.949107",
     "start_time": "2016-05-12T17:27:20.944205"
    },
    "collapsed": false,
    "hidden": true
   },
   "outputs": [],
   "source": [
    "df.to_pickle(path_it2)"
   ]
  },
  {
   "cell_type": "markdown",
   "metadata": {
    "heading_collapsed": true
   },
   "source": [
    "## So how well do they perform?\n",
    "\n",
    "Note: The following plot *is not* averages. The points are just not more distributed; `lag` explains almost all the variance. The effect of `bag-of-alarms window size` is minute. The effects of $R$ `window size` and $\\Delta C$ `window size` are nonexistent.\n"
   ]
  },
  {
   "cell_type": "code",
   "execution_count": null,
   "metadata": {
    "ExecuteTime": {
     "end_time": "2016-05-13T09:55:20.152349",
     "start_time": "2016-05-13T09:55:20.145884"
    },
    "collapsed": false,
    "hidden": true
   },
   "outputs": [],
   "source": [
    "dfx = df.drop(['rn', 'dcw'], axis=1)"
   ]
  },
  {
   "cell_type": "code",
   "execution_count": null,
   "metadata": {
    "ExecuteTime": {
     "end_time": "2016-05-12T13:30:44.792702",
     "start_time": "2016-05-12T13:30:44.789404"
    },
    "collapsed": true,
    "hidden": true
   },
   "outputs": [],
   "source": [
    "import utils.plotting as up"
   ]
  },
  {
   "cell_type": "code",
   "execution_count": null,
   "metadata": {
    "ExecuteTime": {
     "end_time": "2016-05-13T09:55:23.256604",
     "start_time": "2016-05-13T09:55:23.240428"
    },
    "collapsed": true,
    "hidden": true
   },
   "outputs": [],
   "source": [
    "def plotres(res, title, save=False):\n",
    "    for col, name in (('rmse','RMSE'), ('within_80%', 'RMSE 80th percentile')):\n",
    "        dfy = pd.melt(res2[col].reset_index(), ['lag'], \n",
    "                      var_name='split', value_name=name)\n",
    "        sns.factorplot(y=name, x='lag', hue='split', \n",
    "                       data=dfy, legend_out=True,\n",
    "                       kind='point', size=6)\n",
    "        if col=='rmse':\n",
    "            sns.plt.ylim((0, 6.0))\n",
    "        else:\n",
    "            sns.plt.ylim((0, 8))\n",
    "        if save:\n",
    "            figname = 'lag_effect_{title}_{name}.png'.format(title=title, name=name.replace(' ', '_'))\n",
    "            up.save_fig('analysis/results/'+figname)\n",
    "            up.save_fig('w19/'+figname, target='week')"
   ]
  },
  {
   "cell_type": "code",
   "execution_count": null,
   "metadata": {
    "ExecuteTime": {
     "end_time": "2016-05-13T09:57:14.239482",
     "start_time": "2016-05-13T09:57:12.746460"
    },
    "collapsed": false,
    "hidden": true
   },
   "outputs": [],
   "source": [
    "model='RF'\n",
    "res2 = dfx.drop(['boa', 'line'], axis=1).set_index('lag')\n",
    "plotres(res2, model, save=True)"
   ]
  },
  {
   "cell_type": "code",
   "execution_count": null,
   "metadata": {
    "ExecuteTime": {
     "end_time": "2016-05-12T17:27:39.631770",
     "start_time": "2016-05-12T17:27:38.039456"
    },
    "collapsed": true,
    "hidden": true
   },
   "outputs": [],
   "source": [
    "# res = dfx.drop(['boa', 'line'], axis=1).set_index('lag')\n",
    "\n",
    "# for col, name in (('rmse','RMSE'), ('within_80%', 'RMSE 80th percentile')):\n",
    "#     dfy = pd.melt(res[col].reset_index(), ['lag'], \n",
    "#                   var_name='split', value_name=name)\n",
    "#     sns.factorplot(y=name, x='lag', hue='split', \n",
    "#                    data=dfy, legend_out=True,\n",
    "#                    kind='point', size=6)\n",
    "#     figname = 'lag_effect_to60_{name}.png'.format(name=name.replace(' ', '_'))\n",
    "#     up.save_fig('analysis/results/'+figname)\n",
    "#     up.save_fig('w19/'+figname, target='week')"
   ]
  },
  {
   "cell_type": "markdown",
   "metadata": {
    "heading_collapsed": true
   },
   "source": [
    "## Parameter importance analysis\n",
    "rn and dcw changes are without consequence in the available data."
   ]
  },
  {
   "cell_type": "code",
   "execution_count": null,
   "metadata": {
    "ExecuteTime": {
     "end_time": "2016-05-13T10:21:27.447321",
     "start_time": "2016-05-13T10:21:27.425284"
    },
    "collapsed": true,
    "hidden": true
   },
   "outputs": [],
   "source": [
    "path = os.path.join(ud.paths.Paths.cache, 'rf_results.pickle')\n",
    "df = pd.read_pickle(path)"
   ]
  },
  {
   "cell_type": "code",
   "execution_count": null,
   "metadata": {
    "ExecuteTime": {
     "end_time": "2016-05-11T19:59:41.822594",
     "start_time": "2016-05-11T19:59:41.820345"
    },
    "collapsed": true,
    "hidden": true
   },
   "outputs": [],
   "source": [
    "import statsmodels.api as sm"
   ]
  },
  {
   "cell_type": "markdown",
   "metadata": {
    "heading_collapsed": true,
    "hidden": true
   },
   "source": [
    "#### Using OLS: We can see that OLS finds lag and boa to be most important."
   ]
  },
  {
   "cell_type": "code",
   "execution_count": null,
   "metadata": {
    "ExecuteTime": {
     "end_time": "2016-05-11T20:03:33.655009",
     "start_time": "2016-05-11T20:03:33.603848"
    },
    "collapsed": false,
    "hidden": true
   },
   "outputs": [],
   "source": [
    "x = df[[\n",
    "        'lag', \n",
    "#         'rn', \n",
    "        'boa', \n",
    "#         'dcw'\n",
    "    ]].copy()\n",
    "x = (x - x.mean()) / x.std()\n",
    "x['intercept'] = 1\n",
    "y = df[('rmse', 'val')]\n",
    "\n",
    "ols = sm.OLS(y, x).fit()\n",
    "ols.summary()"
   ]
  },
  {
   "cell_type": "code",
   "execution_count": null,
   "metadata": {
    "ExecuteTime": {
     "end_time": "2016-05-12T11:33:49.438885",
     "start_time": "2016-05-12T11:33:49.003681"
    },
    "collapsed": false,
    "hidden": true
   },
   "outputs": [],
   "source": [
    "sns.factorplot(y=('rmse','val'), x='lag', hue='boa', data=df[df.line==1])"
   ]
  },
  {
   "cell_type": "markdown",
   "metadata": {
    "heading_collapsed": true,
    "hidden": true
   },
   "source": [
    "#### OLS with interactions\n",
    "\n",
    "It might seem that there is some interaction between boa and lag"
   ]
  },
  {
   "cell_type": "code",
   "execution_count": null,
   "metadata": {
    "ExecuteTime": {
     "end_time": "2016-05-12T12:55:28.562957",
     "start_time": "2016-05-12T12:55:28.560770"
    },
    "collapsed": true,
    "hidden": true
   },
   "outputs": [],
   "source": [
    "import statsmodels.formula.api as smf"
   ]
  },
  {
   "cell_type": "code",
   "execution_count": null,
   "metadata": {
    "ExecuteTime": {
     "end_time": "2016-05-12T13:02:51.575119",
     "start_time": "2016-05-12T13:02:51.280611"
    },
    "collapsed": false,
    "hidden": true
   },
   "outputs": [],
   "source": [
    "x = df[[\n",
    "        'lag', \n",
    "        'rn', \n",
    "        'boa', \n",
    "        'dcw'\n",
    "    ]].copy()\n",
    "\n",
    "x = (x - x.mean()) / x.std()\n",
    "x['intercept'] = 1\n",
    "\n",
    "x['y'] = df[('rmse', 'val')]\n",
    "\n",
    "\n",
    "formula = 'y ~ lag*rn*boa*dcw'\n",
    "while True:\n",
    "    ols = smf.ols(formula, x).fit()\n",
    "    if ols.pvalues.max() > .05:\n",
    "        c = ols.pvalues.argmax()\n",
    "        formula += ' - ' + c\n",
    "    else:\n",
    "        print('Stopping with {} features left'.format(len(ols.pvalues)))\n",
    "        break\n",
    "        \n",
    "# ols = smf.ols('y ~ lag*rn*boa*dcw', x).fit()\n",
    "ols.summary()"
   ]
  },
  {
   "cell_type": "code",
   "execution_count": null,
   "metadata": {
    "ExecuteTime": {
     "end_time": "2016-05-12T13:03:25.888166",
     "start_time": "2016-05-12T13:03:25.544531"
    },
    "collapsed": false,
    "hidden": true
   },
   "outputs": [],
   "source": [
    "x = df[[\n",
    "        'lag', \n",
    "        'rn', \n",
    "        'boa', \n",
    "        'dcw'\n",
    "    ]].copy()\n",
    "\n",
    "x = (x - x.mean()) / x.std()\n",
    "x['intercept'] = 1\n",
    "\n",
    "x['y'] = df[('rmse', 'train')]\n",
    "\n",
    "\n",
    "formula = 'y ~ lag*rn*boa*dcw'\n",
    "while True:\n",
    "    ols = smf.ols(formula, x).fit()\n",
    "    if ols.pvalues.max() > .05:\n",
    "        c = ols.pvalues.argmax()\n",
    "        formula += ' - ' + c\n",
    "    else:\n",
    "        print('Stopping with {} features left'.format(len(ols.pvalues)))\n",
    "        break\n",
    "        \n",
    "# ols = smf.ols('y ~ lag*rn*boa*dcw', x).fit()\n",
    "ols.summary()"
   ]
  },
  {
   "cell_type": "markdown",
   "metadata": {
    "heading_collapsed": true,
    "hidden": true
   },
   "source": [
    "#### Reshape dataframe to be used with sns.factorplot\n",
    "\n",
    "Looong format"
   ]
  },
  {
   "cell_type": "code",
   "execution_count": null,
   "metadata": {
    "ExecuteTime": {
     "end_time": "2016-05-13T10:21:31.127904",
     "start_time": "2016-05-13T10:21:31.083424"
    },
    "collapsed": true,
    "hidden": true
   },
   "outputs": [],
   "source": [
    "df2 = df.drop('within_80%', axis=1)\n",
    "df2.columns = [x[0] if x[0]!='rmse' else x[1] for x in df2.columns.ravel()]\n",
    "df2 = pd.melt(df2, ['lag','dcw','boa','rn','line'], var_name='split', value_name='rmse')\n",
    "df2 = pd.melt(df2, ['line', 'split', 'rmse'], var_name='feature', value_name='feature_value')\n",
    "df2"
   ]
  },
  {
   "cell_type": "markdown",
   "metadata": {
    "heading_collapsed": true,
    "hidden": true
   },
   "source": [
    "### Plots of RMSE vs features\n",
    "\n",
    "- Lag is dominating.\n",
    "- validation has a slightly negative correlation with boa\n",
    "- train has a slightly positive correlation with boa\n",
    "\n",
    "Perhaps we can remove the effect of lag, and study what remains?\n",
    "\n",
    "I did (see below), and found that boa also influences it, but the others do not."
   ]
  },
  {
   "cell_type": "markdown",
   "metadata": {
    "heading_collapsed": true,
    "hidden": true
   },
   "source": [
    "#### rmse over feature for each split, for each feature, line 1"
   ]
  },
  {
   "cell_type": "code",
   "execution_count": null,
   "metadata": {
    "ExecuteTime": {
     "end_time": "2016-05-13T10:21:49.866738",
     "start_time": "2016-05-13T10:21:46.809553"
    },
    "collapsed": false,
    "hidden": true
   },
   "outputs": [],
   "source": [
    "# n=144\n",
    "sns.factorplot(y='rmse',\n",
    "               x='feature_value',\n",
    "               row='split',\n",
    "               col='feature',\n",
    "               data=df2[df2.line==1], \n",
    "       palette='colorblind', kind='box');\n",
    "up.save_fig('w19/rmse_feature_effect_l1.png', target='week')\n",
    "up.save_fig('analysis/rmse_feature_effect_l1.png')"
   ]
  },
  {
   "cell_type": "markdown",
   "metadata": {
    "heading_collapsed": true,
    "hidden": true
   },
   "source": [
    "#### rmse over feature for each split, for each feature, line 2"
   ]
  },
  {
   "cell_type": "code",
   "execution_count": null,
   "metadata": {
    "ExecuteTime": {
     "end_time": "2016-05-12T11:55:51.931494",
     "start_time": "2016-05-12T11:55:49.908592"
    },
    "collapsed": false,
    "hidden": true
   },
   "outputs": [],
   "source": [
    "# n=144\n",
    "sns.factorplot(y='rmse',\n",
    "               x='feature_value',\n",
    "               row='split',\n",
    "               col='feature',\n",
    "               data=df2[df2.line==2], \n",
    "       palette='colorblind', kind='box');\n",
    "fig.tight_layout();"
   ]
  },
  {
   "cell_type": "markdown",
   "metadata": {
    "heading_collapsed": true,
    "hidden": true
   },
   "source": [
    "### Remove lag effect, see what happens then\n",
    "\n",
    "Truly, the importance of BOA seems to be there. Mostly for the training set though. And in opposite directions for training and validation sets."
   ]
  },
  {
   "cell_type": "code",
   "execution_count": null,
   "metadata": {
    "ExecuteTime": {
     "end_time": "2016-05-13T10:23:46.137270",
     "start_time": "2016-05-13T10:23:45.956939"
    },
    "collapsed": false,
    "hidden": true
   },
   "outputs": [],
   "source": [
    "rf = ske.RandomForestRegressor(100, n_jobs=-1)\n",
    "rf = rf.fit(y=df['rmse'], X=df[['lag', 'line']])"
   ]
  },
  {
   "cell_type": "code",
   "execution_count": null,
   "metadata": {
    "ExecuteTime": {
     "end_time": "2016-05-13T10:23:46.953396",
     "start_time": "2016-05-13T10:23:46.841628"
    },
    "collapsed": false,
    "hidden": true
   },
   "outputs": [],
   "source": [
    "df3 = df[['rmse', 'lag', 'dcw', 'boa', 'rn', 'line']].copy()\n",
    "df3['rmse'] = df3['rmse'] - rf.predict(df3[['lag', 'line']])"
   ]
  },
  {
   "cell_type": "code",
   "execution_count": null,
   "metadata": {
    "ExecuteTime": {
     "end_time": "2016-05-13T10:23:47.626310",
     "start_time": "2016-05-13T10:23:47.614390"
    },
    "collapsed": false,
    "hidden": true
   },
   "outputs": [],
   "source": [
    "df4 = df3.copy().drop('lag', axis=1)\n",
    "df4.columns = [x[0] if x[0]!='rmse' else x[1] for x in df4.columns.ravel()]\n",
    "df4 = pd.melt(df4, ['dcw','boa','rn','line'], var_name='split', value_name='rmse')\n",
    "df4 = pd.melt(df4, ['line', 'split', 'rmse'], var_name='feature', value_name='feature_value')\n",
    "# df4"
   ]
  },
  {
   "cell_type": "markdown",
   "metadata": {
    "heading_collapsed": true,
    "hidden": true
   },
   "source": [
    "#### Line 1"
   ]
  },
  {
   "cell_type": "code",
   "execution_count": null,
   "metadata": {
    "ExecuteTime": {
     "end_time": "2016-05-13T10:24:06.702468",
     "start_time": "2016-05-13T10:24:04.422952"
    },
    "collapsed": false,
    "hidden": true
   },
   "outputs": [],
   "source": [
    "# n=144\n",
    "sns.factorplot(y='rmse',\n",
    "               x='feature_value',\n",
    "               row='split',\n",
    "               col='feature',\n",
    "               data=df4[df4.line==1], \n",
    "       palette='colorblind', kind='box');\n",
    "# fig.tight_layout();\n",
    "up.save_fig('w19/rmse_feature_effect_l1_rmlag.png', target='week')\n",
    "up.save_fig('analysis/rmse_feature_effect_l1_rmlag.png')"
   ]
  },
  {
   "cell_type": "markdown",
   "metadata": {
    "heading_collapsed": true,
    "hidden": true
   },
   "source": [
    "#### Line 2"
   ]
  },
  {
   "cell_type": "code",
   "execution_count": null,
   "metadata": {
    "ExecuteTime": {
     "end_time": "2016-05-12T12:48:36.085566",
     "start_time": "2016-05-12T12:48:34.285598"
    },
    "collapsed": false,
    "hidden": true
   },
   "outputs": [],
   "source": [
    "# n=144\n",
    "sns.factorplot(y='rmse',\n",
    "               x='feature_value',\n",
    "               row='split',\n",
    "               col='feature',\n",
    "               data=df4[df4.line==2], \n",
    "       palette='colorblind', kind='box');\n",
    "fig.tight_layout();"
   ]
  },
  {
   "cell_type": "markdown",
   "metadata": {
    "heading_collapsed": true,
    "hidden": true
   },
   "source": [
    "### Remove boa effect, see what rn and dcw tell us\n",
    "\n",
    "They tell us nothing at all."
   ]
  },
  {
   "cell_type": "code",
   "execution_count": null,
   "metadata": {
    "ExecuteTime": {
     "end_time": "2016-05-12T12:48:41.647948",
     "start_time": "2016-05-12T12:48:41.494094"
    },
    "collapsed": true,
    "hidden": true
   },
   "outputs": [],
   "source": [
    "rf = ske.RandomForestRegressor(100, n_jobs=-1)\n",
    "rf = rf.fit(y=df['rmse'], X=df[['boa', 'line']])"
   ]
  },
  {
   "cell_type": "code",
   "execution_count": null,
   "metadata": {
    "ExecuteTime": {
     "end_time": "2016-05-12T12:49:45.149467",
     "start_time": "2016-05-12T12:49:45.035209"
    },
    "collapsed": true,
    "hidden": true
   },
   "outputs": [],
   "source": [
    "df5 = df3[['rmse', 'dcw', 'boa', 'rn', 'line']].copy()\n",
    "df5['rmse'] = df5['rmse'] - rf.predict(df5[['boa', 'line']])"
   ]
  },
  {
   "cell_type": "code",
   "execution_count": null,
   "metadata": {
    "ExecuteTime": {
     "end_time": "2016-05-12T12:49:45.865415",
     "start_time": "2016-05-12T12:49:45.854310"
    },
    "collapsed": false,
    "hidden": true
   },
   "outputs": [],
   "source": [
    "df6 = df5.copy().drop('boa', axis=1)\n",
    "df6.columns = [x[0] if x[0]!='rmse' else x[1] for x in df6.columns.ravel()]\n",
    "df6 = pd.melt(df6, ['dcw','rn','line'], var_name='split', value_name='rmse')\n",
    "df6 = pd.melt(df6, ['line', 'split', 'rmse'], var_name='feature', value_name='feature_value')\n",
    "# df4"
   ]
  },
  {
   "cell_type": "markdown",
   "metadata": {
    "heading_collapsed": true,
    "hidden": true
   },
   "source": [
    "#### Line 1"
   ]
  },
  {
   "cell_type": "code",
   "execution_count": null,
   "metadata": {
    "ExecuteTime": {
     "end_time": "2016-05-12T12:49:48.307793",
     "start_time": "2016-05-12T12:49:47.042425"
    },
    "collapsed": false,
    "hidden": true
   },
   "outputs": [],
   "source": [
    "# n=144\n",
    "sns.factorplot(y='rmse',\n",
    "               x='feature_value',\n",
    "               row='split',\n",
    "               col='feature',\n",
    "               data=df6[df6.line==1], \n",
    "       palette='colorblind', kind='box');\n",
    "fig.tight_layout();"
   ]
  },
  {
   "cell_type": "markdown",
   "metadata": {
    "heading_collapsed": true,
    "hidden": true
   },
   "source": [
    "#### Line 2"
   ]
  },
  {
   "cell_type": "code",
   "execution_count": null,
   "metadata": {
    "ExecuteTime": {
     "end_time": "2016-05-12T12:50:18.250247",
     "start_time": "2016-05-12T12:50:17.226510"
    },
    "collapsed": false,
    "hidden": true
   },
   "outputs": [],
   "source": [
    "# n=144\n",
    "sns.factorplot(y='rmse',\n",
    "               x='feature_value',\n",
    "               row='split',\n",
    "               col='feature',\n",
    "               data=df6[df6.line==2], \n",
    "       palette='colorblind', kind='box');\n",
    "fig.tight_layout();"
   ]
  },
  {
   "cell_type": "markdown",
   "metadata": {},
   "source": [
    "# "
   ]
  },
  {
   "cell_type": "markdown",
   "metadata": {
    "heading_collapsed": true
   },
   "source": [
    "# Get some baselines\n",
    "Predicting the mean, and predicting the last seen C value."
   ]
  },
  {
   "cell_type": "markdown",
   "metadata": {
    "heading_collapsed": true,
    "hidden": true
   },
   "source": [
    "#### Setup"
   ]
  },
  {
   "cell_type": "code",
   "execution_count": null,
   "metadata": {
    "ExecuteTime": {
     "end_time": "2016-05-13T08:55:12.430015",
     "start_time": "2016-05-13T08:55:12.419735"
    },
    "collapsed": true,
    "hidden": true
   },
   "outputs": [],
   "source": [
    "def runforline_baseliner(line, ra, simplemodel, name):\n",
    "    for lag, dcwindow, boawindow, rn in \\\n",
    "    tbiter.IProgressBar(\n",
    "        itertools.product(LAGS, TWINDOWS, TWINDOWS, RN),\n",
    "        len(LAGS)*(len(TWINDOWS)**2)*len(RN)):\n",
    "\n",
    "        with tbstr.silence():\n",
    "            train, val, test = ud.design_matrices.get_by_settings(\n",
    "                sample_step='2 min',\n",
    "                split='all',\n",
    "                line=line,\n",
    "                lag=lag,\n",
    "                dcwindow=dcwindow,\n",
    "                rn=rn,\n",
    "                boawindow=boawindow)\n",
    "\n",
    "            features = [x for x in train if x!='y']\n",
    "            data = {'train':train, 'val':val, 'test':test}\n",
    "            ra.evaluation_sets = data\n",
    "\n",
    "            simplemodel = simplemodel.fit(train[features], train['y'])\n",
    "            ra.append(('{name} Line{line} L={lag} dcw={dcwindow} '\n",
    "                       'boa={boawindow} rn={rn}').format(name=name,\n",
    "                        line=line, lag=lag, dcwindow=dcwindow,\n",
    "                        boawindow=boawindow, rn=rn), simplemodel)"
   ]
  },
  {
   "cell_type": "code",
   "execution_count": null,
   "metadata": {
    "ExecuteTime": {
     "end_time": "2016-05-13T08:46:11.284995",
     "start_time": "2016-05-13T08:46:11.282354"
    },
    "collapsed": true,
    "hidden": true,
    "run_control": {
     "frozen": false,
     "read_only": false
    }
   },
   "outputs": [],
   "source": [
    "LAGS = ('5 min', '10 min', '15 min', '20 min', '30 min', '60 min')\n",
    "TWINDOWS = ('2 min', '3 min', '4 min')\n",
    "RN = (5, 10, 15, 20)"
   ]
  },
  {
   "cell_type": "code",
   "execution_count": null,
   "metadata": {
    "ExecuteTime": {
     "end_time": "2016-05-13T08:53:16.850702",
     "start_time": "2016-05-13T08:53:16.848373"
    },
    "collapsed": true,
    "hidden": true
   },
   "outputs": [],
   "source": [
    "ra = mf.ResultsAggregator(evaluation_sets=None, target_name='y')"
   ]
  },
  {
   "cell_type": "markdown",
   "metadata": {
    "heading_collapsed": true,
    "hidden": true
   },
   "source": [
    "## Predicting the mean"
   ]
  },
  {
   "cell_type": "code",
   "execution_count": null,
   "metadata": {
    "ExecuteTime": {
     "end_time": "2016-05-13T08:57:54.360820",
     "start_time": "2016-05-13T08:57:54.347608"
    },
    "collapsed": true,
    "hidden": true
   },
   "outputs": [],
   "source": [
    "import sklearn.linear_model as skl\n",
    "\n",
    "class MeanPredictor:\n",
    "\n",
    "    def fit(self, x, y):\n",
    "        self.lr = skl.LinearRegression(fit_intercept=False)\n",
    "        self.lr = self.lr.fit(np.ones(y.shape).reshape(-1, 1), y)\n",
    "        return self\n",
    "    \n",
    "    def predict(self, x):\n",
    "        return self.lr.predict(np.ones(x.shape[0]).reshape(-1, 1))"
   ]
  },
  {
   "cell_type": "code",
   "execution_count": null,
   "metadata": {
    "ExecuteTime": {
     "end_time": "2016-05-13T08:59:56.227158",
     "start_time": "2016-05-13T08:57:57.783714"
    },
    "collapsed": false,
    "hidden": true
   },
   "outputs": [],
   "source": [
    "runforline_baseliner(1, ra, MeanPredictor(), 'MeanPredict')"
   ]
  },
  {
   "cell_type": "code",
   "execution_count": null,
   "metadata": {
    "ExecuteTime": {
     "end_time": "2016-05-13T09:02:07.638115",
     "start_time": "2016-05-13T09:00:04.587034"
    },
    "collapsed": false,
    "hidden": true
   },
   "outputs": [],
   "source": [
    "runforline_baseliner(2, ra, MeanPredictor(), 'MeanPredict')"
   ]
  },
  {
   "cell_type": "code",
   "execution_count": null,
   "metadata": {
    "ExecuteTime": {
     "end_time": "2016-05-13T09:27:13.777617",
     "start_time": "2016-05-13T09:27:13.768156"
    },
    "collapsed": false,
    "hidden": true
   },
   "outputs": [],
   "source": [
    "mp = ra.results['MeanPredict Line1 L=30 min dcw=3 min boa=2 min rn=15']['model']\n",
    "mp.lr.coef_"
   ]
  },
  {
   "cell_type": "markdown",
   "metadata": {
    "heading_collapsed": true,
    "hidden": true
   },
   "source": [
    "## Predicting the last seen C value"
   ]
  },
  {
   "cell_type": "code",
   "execution_count": null,
   "metadata": {
    "ExecuteTime": {
     "end_time": "2016-05-13T09:02:07.645465",
     "start_time": "2016-05-13T09:02:07.639845"
    },
    "collapsed": true,
    "hidden": true
   },
   "outputs": [],
   "source": [
    "class LastCPredictor:\n",
    "\n",
    "    def fit(self, x, y):\n",
    "        return self\n",
    "    \n",
    "    def predict(self, x):\n",
    "        cval = [v for v in x if v.startswith('C ')][0]\n",
    "        return x[cval]"
   ]
  },
  {
   "cell_type": "code",
   "execution_count": null,
   "metadata": {
    "ExecuteTime": {
     "end_time": "2016-05-13T09:07:44.144355",
     "start_time": "2016-05-13T09:05:33.858526"
    },
    "collapsed": false,
    "hidden": true
   },
   "outputs": [],
   "source": [
    "runforline_baseliner(1, ra, LastCPredictor(), 'LastC')"
   ]
  },
  {
   "cell_type": "code",
   "execution_count": null,
   "metadata": {
    "ExecuteTime": {
     "end_time": "2016-05-13T09:19:24.014407",
     "start_time": "2016-05-13T09:17:16.702898"
    },
    "collapsed": false,
    "hidden": true
   },
   "outputs": [],
   "source": [
    "runforline_baseliner(2, ra, LastCPredictor(), 'LastC')"
   ]
  },
  {
   "cell_type": "markdown",
   "metadata": {
    "heading_collapsed": true,
    "hidden": true
   },
   "source": [
    "#### Merge"
   ]
  },
  {
   "cell_type": "code",
   "execution_count": null,
   "metadata": {
    "ExecuteTime": {
     "end_time": "2016-05-13T09:19:53.107452",
     "start_time": "2016-05-13T09:19:53.043415"
    },
    "collapsed": false,
    "hidden": true
   },
   "outputs": [],
   "source": [
    "res = ra.to_df()\n",
    "\n",
    "res['lag'] = extract('L', res)\n",
    "res['dcw'] = extract('dcw', res)\n",
    "res['boa'] = extract('boa', res)\n",
    "res['rn'] = extract('rn', res)\n",
    "res['line'] = res.index.str.findall('Line(\\d+)').map(lambda x: x[0]).astype(int)\n",
    "res['model'] = res.index.str.findall('^(\\w+)').map(lambda x: x[0]).astype(str)\n",
    "\n",
    "res = res.reset_index().drop('index', axis=1)"
   ]
  },
  {
   "cell_type": "markdown",
   "metadata": {
    "hidden": true
   },
   "source": [
    "## Display"
   ]
  },
  {
   "cell_type": "code",
   "execution_count": null,
   "metadata": {
    "ExecuteTime": {
     "end_time": "2016-05-13T09:54:01.693065",
     "start_time": "2016-05-13T09:54:01.674738"
    },
    "collapsed": true,
    "hidden": true
   },
   "outputs": [],
   "source": [
    "def plotres(res, title, save=False):\n",
    "    for col, name in (('rmse','RMSE'), ('within_80%', 'RMSE 80th percentile')):\n",
    "        dfy = pd.melt(res2[col].reset_index(), ['lag'], \n",
    "                      var_name='split', value_name=name)\n",
    "        sns.factorplot(y=name, x='lag', hue='split', \n",
    "                       data=dfy, legend_out=True,\n",
    "                       kind='point', size=6)\n",
    "        if col=='rmse':\n",
    "            sns.plt.ylim((0, 6.0))\n",
    "        else:\n",
    "            sns.plt.ylim((0, 8))\n",
    "        if save:\n",
    "            figname = 'lag_effect_{title}_{name}.png'.format(title=title, name=name.replace(' ', '_'))\n",
    "            up.save_fig('analysis/results/'+figname)\n",
    "            up.save_fig('w19/'+figname, target='week')"
   ]
  },
  {
   "cell_type": "code",
   "execution_count": null,
   "metadata": {
    "ExecuteTime": {
     "end_time": "2016-05-13T09:54:04.216808",
     "start_time": "2016-05-13T09:54:02.730889"
    },
    "collapsed": false,
    "hidden": true
   },
   "outputs": [],
   "source": [
    "model = 'LastC'\n",
    "res2 = res[res.model == model].drop(['boa','line','rn','dcw','model'], axis=1).set_index('lag')\n",
    "plotres(res2, model, save=True)"
   ]
  },
  {
   "cell_type": "code",
   "execution_count": null,
   "metadata": {
    "ExecuteTime": {
     "end_time": "2016-05-13T09:54:05.800832",
     "start_time": "2016-05-13T09:54:04.218219"
    },
    "collapsed": false,
    "hidden": true
   },
   "outputs": [],
   "source": [
    "# res = dfx.drop(['boa', 'line'], axis=1).set_index('lag')#.groupby(['lag']).mean()\n",
    "\n",
    "model = 'MeanPredict'\n",
    "res2 = res[res.model == model].drop(['boa','line','rn','dcw','model'], axis=1).set_index('lag')\n",
    "plotres(res2, model, save=True)"
   ]
  }
 ],
 "metadata": {
  "kernelspec": {
   "display_name": "Python 3",
   "language": "python",
   "name": "python3"
  },
  "language_info": {
   "codemirror_mode": {
    "name": "ipython",
    "version": 3
   },
   "file_extension": ".py",
   "mimetype": "text/x-python",
   "name": "python",
   "nbconvert_exporter": "python",
   "pygments_lexer": "ipython3",
   "version": "3.5.1"
  }
 },
 "nbformat": 4,
 "nbformat_minor": 0
}
