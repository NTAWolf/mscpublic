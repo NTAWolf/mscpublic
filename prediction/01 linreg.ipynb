{
 "cells": [
  {
   "cell_type": "code",
   "execution_count": null,
   "metadata": {
    "ExecuteTime": {
     "end_time": "2016-05-22T13:14:21.623030",
     "start_time": "2016-05-22T13:14:21.605717"
    },
    "collapsed": true,
    "run_control": {
     "frozen": false,
     "read_only": false
    }
   },
   "outputs": [],
   "source": [
    "import functools\n",
    "\n",
    "import utils.data as ud\n",
    "import utils.prediction as upr\n",
    "\n",
    "import tbtools.dev as tbdev\n",
    "import tbtools.panda as tbpd\n",
    "import tbtools.iter as tbiter\n",
    "\n",
    "import numpy as np\n",
    "import pandas as pd\n",
    "import statsmodels.api as sm\n",
    "import seaborn as sns\n",
    "%matplotlib inline"
   ]
  },
  {
   "cell_type": "markdown",
   "metadata": {
    "heading_collapsed": true
   },
   "source": [
    "### Setup"
   ]
  },
  {
   "cell_type": "code",
   "execution_count": null,
   "metadata": {
    "ExecuteTime": {
     "end_time": "2016-05-22T13:13:13.782457",
     "start_time": "2016-05-22T13:13:13.779688"
    },
    "collapsed": false,
    "hidden": true
   },
   "outputs": [],
   "source": [
    "results = upr.PersistentResultsAggregator(path=os.path.join(ud.paths.Paths.cache, 'v3results'))"
   ]
  },
  {
   "cell_type": "markdown",
   "metadata": {},
   "source": [
    "## Line 1 "
   ]
  },
  {
   "cell_type": "code",
   "execution_count": null,
   "metadata": {
    "ExecuteTime": {
     "end_time": "2016-05-22T13:13:14.935329",
     "start_time": "2016-05-22T13:13:14.924308"
    },
    "collapsed": true
   },
   "outputs": [],
   "source": [
    "getdata = functools.partial(ud.design_matrices.get_by_settings,\n",
    "                                sample_step='2 min', \n",
    "                                line=1, dcwindow='2 min', \n",
    "                                rn=10, boawindow='2 min',\n",
    "                                add_intercept=True,\n",
    "                                return_dicts=True)"
   ]
  },
  {
   "cell_type": "code",
   "execution_count": null,
   "metadata": {
    "ExecuteTime": {
     "end_time": "2016-05-22T14:23:40.304224",
     "start_time": "2016-05-22T13:14:36.602558"
    },
    "collapsed": false
   },
   "outputs": [],
   "source": [
    "for lag in tbiter.IProgressBar((5, 10, 15, 20, 30, 45, 60)):\n",
    "    lag = '{} min'.format(lag)\n",
    "    print(lag)\n",
    "    data = getdata(lag=lag)\n",
    "    results.update_data(data)\n",
    "    name = 'LR Line1 Lag={}'.format(lag)\n",
    "    results.append(name, \n",
    "               upr.model_builder_builder('lr', data['train']['x'].columns))"
   ]
  },
  {
   "cell_type": "markdown",
   "metadata": {},
   "source": [
    "## Line 2"
   ]
  },
  {
   "cell_type": "code",
   "execution_count": null,
   "metadata": {
    "ExecuteTime": {
     "end_time": "2016-05-22T14:23:55.813153",
     "start_time": "2016-05-22T14:23:55.809255"
    },
    "collapsed": true
   },
   "outputs": [],
   "source": [
    "getdata = functools.partial(ud.design_matrices.get_by_settings,\n",
    "                                sample_step='2 min', \n",
    "                                line=2, dcwindow='2 min', \n",
    "                                rn=10, boawindow='2 min',\n",
    "                                add_intercept=True,\n",
    "                                return_dicts=True)"
   ]
  },
  {
   "cell_type": "code",
   "execution_count": null,
   "metadata": {
    "ExecuteTime": {
     "end_time": "2016-05-22T15:30:55.456211",
     "start_time": "2016-05-22T14:24:03.332028"
    },
    "collapsed": false
   },
   "outputs": [],
   "source": [
    "for lag in tbiter.IProgressBar((5, 10, 15, 20, 30, 45, 60)):\n",
    "    lag = '{} min'.format(lag)\n",
    "    print(lag)\n",
    "    data = getdata(lag=lag)\n",
    "    results.update_data(data)\n",
    "    name = 'LR Line2 Lag={}'.format(lag)\n",
    "    results.append(name, \n",
    "               upr.model_builder_builder('lr', data['train']['x'].columns))"
   ]
  }
 ],
 "metadata": {
  "kernelspec": {
   "display_name": "Python 3",
   "language": "python",
   "name": "python3"
  },
  "language_info": {
   "codemirror_mode": {
    "name": "ipython",
    "version": 3
   },
   "file_extension": ".py",
   "mimetype": "text/x-python",
   "name": "python",
   "nbconvert_exporter": "python",
   "pygments_lexer": "ipython3",
   "version": "3.5.1"
  }
 },
 "nbformat": 4,
 "nbformat_minor": 0
}
