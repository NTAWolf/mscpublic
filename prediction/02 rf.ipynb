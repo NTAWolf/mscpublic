{
 "cells": [
  {
   "cell_type": "code",
   "execution_count": null,
   "metadata": {
    "ExecuteTime": {
     "end_time": "2016-05-22T17:34:00.639531",
     "start_time": "2016-05-22T17:34:00.632022"
    },
    "collapsed": true,
    "run_control": {
     "frozen": false,
     "read_only": false
    }
   },
   "outputs": [],
   "source": [
    "import functools\n",
    "import os\n",
    "\n",
    "import utils.data as ud\n",
    "import utils.prediction as upr\n",
    "\n",
    "import tbtools.dev as tbdev\n",
    "import tbtools.panda as tbpd\n",
    "import tbtools.iter as tbiter\n",
    "\n",
    "import numpy as np\n",
    "import pandas as pd\n",
    "import statsmodels.api as sm\n",
    "import seaborn as sns\n",
    "%matplotlib inline"
   ]
  },
  {
   "cell_type": "markdown",
   "metadata": {},
   "source": [
    "### Setup"
   ]
  },
  {
   "cell_type": "code",
   "execution_count": null,
   "metadata": {
    "ExecuteTime": {
     "end_time": "2016-05-22T17:34:04.708037",
     "start_time": "2016-05-22T17:34:03.043158"
    },
    "collapsed": false,
    "run_control": {
     "frozen": false,
     "read_only": false
    }
   },
   "outputs": [],
   "source": [
    "results = upr.PersistentResultsAggregator(path=os.path.join(ud.paths.Paths.cache, 'v3results'))"
   ]
  },
  {
   "cell_type": "markdown",
   "metadata": {},
   "source": [
    "## Line 1 "
   ]
  },
  {
   "cell_type": "code",
   "execution_count": null,
   "metadata": {
    "ExecuteTime": {
     "end_time": "2016-05-22T17:34:10.305484",
     "start_time": "2016-05-22T17:34:10.302098"
    },
    "collapsed": true,
    "run_control": {
     "frozen": false,
     "read_only": false
    }
   },
   "outputs": [],
   "source": [
    "getdata = functools.partial(ud.design_matrices.get_by_settings,\n",
    "                                sample_step='2 min', \n",
    "                                line=1, dcwindow='2 min', \n",
    "                                rn=10, boawindow='2 min',\n",
    "                                add_intercept=True,\n",
    "                                return_dicts=True)"
   ]
  },
  {
   "cell_type": "code",
   "execution_count": null,
   "metadata": {
    "ExecuteTime": {
     "end_time": "2016-05-22T17:40:46.795156",
     "start_time": "2016-05-22T17:35:19.109077"
    },
    "collapsed": false,
    "run_control": {
     "frozen": false,
     "read_only": false
    }
   },
   "outputs": [],
   "source": [
    "for lag in tbiter.IProgressBar((5, 10, 15, 20, 30, 45, 60)):\n",
    "    lag = '{} min'.format(lag)\n",
    "    print(lag)\n",
    "    data = getdata(lag=lag)\n",
    "    results.update_data(data)\n",
    "    name = 'RF Line1 Lag={}'.format(lag)\n",
    "    results.append(name, \n",
    "               upr.model_builder_builder('rf', data['train']['x'].columns))"
   ]
  },
  {
   "cell_type": "markdown",
   "metadata": {},
   "source": [
    "## Line 2"
   ]
  },
  {
   "cell_type": "code",
   "execution_count": null,
   "metadata": {
    "ExecuteTime": {
     "end_time": "2016-05-22T17:42:43.103574",
     "start_time": "2016-05-22T17:42:43.100518"
    },
    "collapsed": true,
    "run_control": {
     "frozen": false,
     "read_only": false
    }
   },
   "outputs": [],
   "source": [
    "getdata = functools.partial(ud.design_matrices.get_by_settings,\n",
    "                                sample_step='2 min', \n",
    "                                line=2, dcwindow='2 min', \n",
    "                                rn=10, boawindow='2 min',\n",
    "                                add_intercept=True,\n",
    "                                return_dicts=True)"
   ]
  },
  {
   "cell_type": "code",
   "execution_count": null,
   "metadata": {
    "ExecuteTime": {
     "end_time": "2016-05-22T17:49:19.974720",
     "start_time": "2016-05-22T17:42:53.989702"
    },
    "collapsed": false,
    "run_control": {
     "frozen": false,
     "read_only": false
    }
   },
   "outputs": [],
   "source": [
    "for lag in tbiter.IProgressBar((5, 10, 15, 20, 30, 45, 60)):\n",
    "    lag = '{} min'.format(lag)\n",
    "    print(lag)\n",
    "    data = getdata(lag=lag)\n",
    "    results.update_data(data)\n",
    "    name = 'RF Line2 Lag={}'.format(lag)\n",
    "    results.append(name, \n",
    "               upr.model_builder_builder('rf', data['train']['x'].columns))"
   ]
  }
 ],
 "metadata": {
  "kernelspec": {
   "display_name": "Python 3",
   "language": "python",
   "name": "python3"
  },
  "language_info": {
   "codemirror_mode": {
    "name": "ipython",
    "version": 3
   },
   "file_extension": ".py",
   "mimetype": "text/x-python",
   "name": "python",
   "nbconvert_exporter": "python",
   "pygments_lexer": "ipython3",
   "version": "3.5.1"
  }
 },
 "nbformat": 4,
 "nbformat_minor": 0
}
