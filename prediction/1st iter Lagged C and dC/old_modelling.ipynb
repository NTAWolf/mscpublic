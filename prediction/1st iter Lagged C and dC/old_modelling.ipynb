{
 "cells": [
  {
   "cell_type": "code",
   "execution_count": null,
   "metadata": {
    "collapsed": true
   },
   "outputs": [],
   "source": [
    "import utils.data as ud\n",
    "import pandas as pd\n",
    "import numpy as np\n",
    "import seaborn as sns\n",
    "%matplotlib inline"
   ]
  },
  {
   "cell_type": "code",
   "execution_count": null,
   "metadata": {
    "collapsed": true
   },
   "outputs": [],
   "source": [
    "import tbtools.dev as tbdev\n",
    "import tbtools.panda as tbpd"
   ]
  },
  {
   "cell_type": "markdown",
   "metadata": {},
   "source": [
    "## Assign train, validate, test labels"
   ]
  },
  {
   "cell_type": "code",
   "execution_count": null,
   "metadata": {
    "collapsed": true
   },
   "outputs": [],
   "source": [
    "from sklearn.cross_validation import train_test_split\n",
    "\n",
    "import utils.features as uf"
   ]
  },
  {
   "cell_type": "code",
   "execution_count": null,
   "metadata": {
    "collapsed": false
   },
   "outputs": [],
   "source": [
    "%%time\n",
    "x,y = uf.get_x_y( c_lags=('10 min',\n",
    "                          '20 min',\n",
    "                          '30 min'),\n",
    "                  dc_settings=(\n",
    "                    ('10 min', '2 min'),\n",
    "                    ('20 min', '2 min'),\n",
    "                    ('30 min', '2 min'),\n",
    "                    ('10 min', '5 min'),\n",
    "                    ('20 min', '5 min'),\n",
    "                    ('30 min', '5 min'),\n",
    "                ))"
   ]
  },
  {
   "cell_type": "code",
   "execution_count": null,
   "metadata": {
    "collapsed": false
   },
   "outputs": [],
   "source": [
    "fig = sns.plt.figure()\n",
    "sns.plt.plot((x.index - x.index.min()).total_seconds()[::50])"
   ]
  },
  {
   "cell_type": "code",
   "execution_count": null,
   "metadata": {
    "collapsed": true
   },
   "outputs": [],
   "source": [
    "x['C'] = y\n",
    "\n",
    "_train, _test = train_test_split(x, test_size=0.2, random_state=0)\n",
    "_train, _validate = train_test_split(_train, test_size=.25, random_state=1)"
   ]
  },
  {
   "cell_type": "code",
   "execution_count": null,
   "metadata": {
    "collapsed": true
   },
   "outputs": [],
   "source": [
    "def xy(v):\n",
    "    return v.drop('C', axis=1), v['C']\n",
    "\n",
    "x_train, y_train = xy(_train)\n",
    "x_validate, y_validate = xy(_validate)\n",
    "x_test, y_test = xy(_test)"
   ]
  },
  {
   "cell_type": "code",
   "execution_count": null,
   "metadata": {
    "collapsed": false
   },
   "outputs": [],
   "source": [
    "x_train.shape, x_validate.shape, x_test.shape"
   ]
  },
  {
   "cell_type": "markdown",
   "metadata": {},
   "source": [
    "---"
   ]
  },
  {
   "cell_type": "markdown",
   "metadata": {},
   "source": [
    "# Plot variables against target"
   ]
  },
  {
   "cell_type": "code",
   "execution_count": null,
   "metadata": {
    "collapsed": false
   },
   "outputs": [],
   "source": [
    "tbpd.hist2d(x_train.iloc[:,0], y_train, integer_aligned_bins=True, square=True);\n",
    "sns.plt.figure()\n",
    "tbpd.hist2d(x_train.iloc[:,1], y_train, integer_aligned_bins=True, square=True);\n",
    "sns.plt.figure()\n",
    "tbpd.hist2d(x_train.iloc[:,2], y_train, integer_aligned_bins=True, square=True);\n"
   ]
  },
  {
   "cell_type": "markdown",
   "metadata": {},
   "source": [
    "---"
   ]
  },
  {
   "cell_type": "code",
   "execution_count": null,
   "metadata": {
    "collapsed": false
   },
   "outputs": [],
   "source": [
    "perfs = pd.DataFrame()"
   ]
  },
  {
   "cell_type": "code",
   "execution_count": null,
   "metadata": {
    "collapsed": false
   },
   "outputs": [],
   "source": [
    "perfs.sort_values('rmse')"
   ]
  },
  {
   "cell_type": "markdown",
   "metadata": {},
   "source": [
    "## Model validation"
   ]
  },
  {
   "cell_type": "code",
   "execution_count": null,
   "metadata": {
    "collapsed": true
   },
   "outputs": [],
   "source": [
    "import sklearn.metrics as skmet\n",
    "\n",
    "def score(model):\n",
    "    pred = model.predict(x_validate)\n",
    "    \n",
    "    if isinstance(model, Pipeline):\n",
    "        model = model.steps[-1][1]\n",
    "    name = str(model)\n",
    "    \n",
    "    d = {\n",
    "        'rmse': np.sqrt(skmet.mean_squared_error(y_validate, pred)),\n",
    "        'mae': skmet.mean_absolute_error(y_validate, pred),\n",
    "        'evs': skmet.explained_variance_score(y_validate, pred),\n",
    "        'r2': skmet.r2_score(y_validate, pred),\n",
    "    }\n",
    "    s = pd.Series(d, name=name)\n",
    "    \n",
    "    global perfs\n",
    "    perfs.append(s)\n",
    "    \n",
    "    return s"
   ]
  },
  {
   "cell_type": "code",
   "execution_count": null,
   "metadata": {
    "collapsed": true
   },
   "outputs": [],
   "source": [
    "def plot_residuals(model):\n",
    "    res = y_train - model.predict(x_train)\n",
    "    n = x_train.shape[1]\n",
    "    for i in range(n):\n",
    "        sns.plt.figure(figsize=(6,5))\n",
    "        x = x_train.iloc[:,i]\n",
    "        tbpd.hist2d(x, res, \n",
    "                    bins=((max(x) - min(x)), 20),\n",
    "                    vlabel=x_train.columns[i],\n",
    "                    hlabel='Residuals',\n",
    "                   )"
   ]
  },
  {
   "cell_type": "code",
   "execution_count": null,
   "metadata": {
    "collapsed": false
   },
   "outputs": [],
   "source": [
    "import tbtools.dev as tbdev\n",
    "import tbtools.panda as tbpd\n",
    "tbpd = tbdev.reload(tbpd)"
   ]
  },
  {
   "cell_type": "markdown",
   "metadata": {},
   "source": [
    "Consider QQ plot"
   ]
  },
  {
   "cell_type": "code",
   "execution_count": null,
   "metadata": {
    "collapsed": false
   },
   "outputs": [],
   "source": [
    "plot_residuals(p)"
   ]
  },
  {
   "cell_type": "code",
   "execution_count": null,
   "metadata": {
    "collapsed": true
   },
   "outputs": [],
   "source": [
    "from sklearn.preprocessing import "
   ]
  },
  {
   "cell_type": "code",
   "execution_count": null,
   "metadata": {
    "collapsed": false
   },
   "outputs": [],
   "source": [
    "MinMaxScaler??"
   ]
  },
  {
   "cell_type": "code",
   "execution_count": null,
   "metadata": {
    "collapsed": true
   },
   "outputs": [],
   "source": [
    "class FeaturePicker:\n",
    "    def __init__(self, keep):\n",
    "        self.keep = keep\n",
    "        \n",
    "    def transform(self, x):\n",
    "        return x[self.keep]\n",
    "    \n",
    "    def fit(self, *args):\n",
    "        # do nothing\n",
    "        return self\n",
    "    "
   ]
  },
  {
   "cell_type": "markdown",
   "metadata": {},
   "source": [
    "# Models"
   ]
  },
  {
   "cell_type": "code",
   "execution_count": null,
   "metadata": {
    "collapsed": true
   },
   "outputs": [],
   "source": [
    "from sklearn.pipeline import Pipeline\n",
    "from sklearn.preprocessing import MinMaxScaler"
   ]
  },
  {
   "cell_type": "markdown",
   "metadata": {},
   "source": [
    "## Linear regression"
   ]
  },
  {
   "cell_type": "code",
   "execution_count": null,
   "metadata": {
    "collapsed": true
   },
   "outputs": [],
   "source": [
    "from sklearn.linear_model import LinearRegression"
   ]
  },
  {
   "cell_type": "code",
   "execution_count": null,
   "metadata": {
    "collapsed": true
   },
   "outputs": [],
   "source": [
    "lr = LinearRegression()\n",
    "mms = MinMaxScaler()"
   ]
  },
  {
   "cell_type": "code",
   "execution_count": null,
   "metadata": {
    "collapsed": false
   },
   "outputs": [],
   "source": [
    "p = Pipeline( (('MinMaxScaler', mms), ('LinearRegression', lr)) )\n",
    "p.fit(x_train, y_train)\n",
    "score(p)"
   ]
  },
  {
   "cell_type": "code",
   "execution_count": null,
   "metadata": {
    "collapsed": false
   },
   "outputs": [],
   "source": [
    "name = x_train.columns[0]\n",
    "a = x_train[name].resample('H').mean()\n",
    "b = y_train.resample('H').mean()\n",
    "\n",
    "sns.plt.figure(figsize=(15,8))\n",
    "sns.plt.scatter(a, b)\n",
    "sns.plt.ylabel('y')"
   ]
  },
  {
   "cell_type": "code",
   "execution_count": null,
   "metadata": {
    "collapsed": true
   },
   "outputs": [],
   "source": [
    "name = x_train.columns[1]\n",
    "a = x_train[name].resample('H').mean()\n",
    "b = y_train.resample('H').mean()\n",
    "\n",
    "sns.plt.figure(figsize=(15,8))\n",
    "sns.plt.scatter(a, b)\n",
    "sns.plt.ylabel('y')\n",
    "sns.plt.xlabel(name)"
   ]
  },
  {
   "cell_type": "code",
   "execution_count": null,
   "metadata": {
    "collapsed": false
   },
   "outputs": [],
   "source": [
    "name = x_train.columns[2]\n",
    "a = x_train[name].resample('H').mean()\n",
    "b = y_train.resample('H').mean()\n",
    "\n",
    "sns.plt.figure(figsize=(15,8))\n",
    "sns.plt.scatter(a, b)\n",
    "sns.plt.ylabel('y')\n",
    "sns.plt.xlabel(name)"
   ]
  },
  {
   "cell_type": "code",
   "execution_count": null,
   "metadata": {
    "collapsed": false
   },
   "outputs": [],
   "source": [
    "sns.plt.figure(figsize=(15,8))\n",
    "y_train.resample('H').mean().plot(linewidth=0.5)\n",
    "sns.plt.ylabel('Reinspection count')"
   ]
  },
  {
   "cell_type": "code",
   "execution_count": null,
   "metadata": {
    "collapsed": false
   },
   "outputs": [],
   "source": [
    "sns.plt.figure(figsize=(15,8))\n",
    "name = x_train.columns[0]\n",
    "x_train[name].resample('H').mean().plot(linewidth=0.5)\n",
    "sns.plt.ylabel(name)"
   ]
  },
  {
   "cell_type": "code",
   "execution_count": null,
   "metadata": {
    "collapsed": false
   },
   "outputs": [],
   "source": [
    "p = Pipeline((\n",
    "        ('Only 5 min', FeaturePicker(['ΔC L=5 min W=2 min', 'C L=5 min'])), \n",
    "        ('MinMaxScaler', mms), \n",
    "        ('LinearRegression', lr)) )\n",
    "p.fit(x_train, y_train)\n",
    "score(p)"
   ]
  },
  {
   "cell_type": "markdown",
   "metadata": {},
   "source": [
    "## Elastic net"
   ]
  },
  {
   "cell_type": "code",
   "execution_count": null,
   "metadata": {
    "collapsed": true
   },
   "outputs": [],
   "source": [
    "from sklearn.linear_model import ElasticNetCV"
   ]
  },
  {
   "cell_type": "code",
   "execution_count": null,
   "metadata": {
    "collapsed": false
   },
   "outputs": [],
   "source": [
    "en = ElasticNetCV(l1_ratio=(0.1, 0.3, 0.5, 0.7, 0.8, 0.9, 0.95, 0.99))\n",
    "mms = MinMaxScaler()\n",
    "p = Pipeline( (('MinMaxScaler', mms), ('ElasticNetCV', en)) )\n",
    "p.fit(x_train, y_train)\n",
    "score(p)"
   ]
  },
  {
   "cell_type": "markdown",
   "metadata": {},
   "source": [
    "## Decision tree"
   ]
  },
  {
   "cell_type": "code",
   "execution_count": null,
   "metadata": {
    "collapsed": true
   },
   "outputs": [],
   "source": [
    "from sklearn.tree import DecisionTreeRegressor"
   ]
  },
  {
   "cell_type": "code",
   "execution_count": null,
   "metadata": {
    "collapsed": true
   },
   "outputs": [],
   "source": [
    "DecisionTreeRegressor?"
   ]
  },
  {
   "cell_type": "code",
   "execution_count": null,
   "metadata": {
    "collapsed": false
   },
   "outputs": [],
   "source": [
    "p = Pipeline((\n",
    "#         ('Only 5 min', FeaturePicker(['ΔC L=5 min W=2 min', 'C L=5 min'])), \n",
    "#         ('MinMaxScaler', mms), \n",
    "        ('DT', DecisionTreeRegressor()),\n",
    "    ))\n",
    "p.fit(x_train, y_train)\n",
    "score(p)"
   ]
  },
  {
   "cell_type": "markdown",
   "metadata": {},
   "source": [
    "## RF"
   ]
  },
  {
   "cell_type": "code",
   "execution_count": null,
   "metadata": {
    "collapsed": true
   },
   "outputs": [],
   "source": [
    "from sklearn.ensemble import RandomForestRegressor"
   ]
  },
  {
   "cell_type": "code",
   "execution_count": null,
   "metadata": {
    "collapsed": false
   },
   "outputs": [],
   "source": [
    "p = Pipeline((\n",
    "#         ('Only 5 min', FeaturePicker(['ΔC L=5 min W=2 min', 'C L=5 min'])), \n",
    "#         ('MinMaxScaler', mms), \n",
    "        ('RF', RandomForestRegressor()),\n",
    "    ))\n",
    "p.fit(x_train, y_train)\n",
    "score(p)"
   ]
  },
  {
   "cell_type": "code",
   "execution_count": null,
   "metadata": {
    "collapsed": false
   },
   "outputs": [],
   "source": [
    "x_train.columns"
   ]
  },
  {
   "cell_type": "markdown",
   "metadata": {},
   "source": [
    "Sure looks like the most important feature is C 5 minutes ago..."
   ]
  },
  {
   "cell_type": "code",
   "execution_count": null,
   "metadata": {
    "collapsed": false
   },
   "outputs": [],
   "source": [
    "en.coef_"
   ]
  },
  {
   "cell_type": "code",
   "execution_count": null,
   "metadata": {
    "collapsed": false
   },
   "outputs": [],
   "source": [
    "rf = p.steps[-1][1]\n",
    "rf.feature_importances_"
   ]
  },
  {
   "cell_type": "markdown",
   "metadata": {},
   "source": [
    "---"
   ]
  },
  {
   "cell_type": "markdown",
   "metadata": {},
   "source": [
    "## Straight analysis stuff"
   ]
  },
  {
   "cell_type": "markdown",
   "metadata": {},
   "source": [
    "The following figure depicts the autocorrelation for C, excluding nights and weekends. It is not impressive."
   ]
  },
  {
   "cell_type": "code",
   "execution_count": null,
   "metadata": {
    "collapsed": false
   },
   "outputs": [],
   "source": [
    "sns.plt.figure(figsize=(15,8))\n",
    "res = c.resample('H').mean().fillna(0)\n",
    "res = res[res.index.dayofweek < 5]\n",
    "res = res[res.index.hour > 5]\n",
    "res = res[res.index.hour < 20]\n",
    "pd.tools.plotting.autocorrelation_plot(\n",
    "# c[(c.index.hour>6) & (c.index.hour<20) & (c.index.dayofweek < 5)].resample('B').mean().fillna(0).values\n",
    "    res.values\n",
    ")\n",
    "sns.plt.vlines(np.arange(0,sns.plt.xlim()[1], 24), -1, 1, color='w', alpha=0.75)\n",
    "sns.plt.vlines(np.arange(0,sns.plt.xlim()[1], 5*24), -1, 1, color='k', alpha=0.75)\n"
   ]
  }
 ],
 "metadata": {
  "kernelspec": {
   "display_name": "Python 3",
   "language": "python",
   "name": "python3"
  },
  "language_info": {
   "codemirror_mode": {
    "name": "ipython",
    "version": 3
   },
   "file_extension": ".py",
   "mimetype": "text/x-python",
   "name": "python",
   "nbconvert_exporter": "python",
   "pygments_lexer": "ipython3",
   "version": "3.5.1"
  }
 },
 "nbformat": 4,
 "nbformat_minor": 0
}
