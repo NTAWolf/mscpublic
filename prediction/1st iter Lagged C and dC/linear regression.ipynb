{
 "cells": [
  {
   "cell_type": "code",
   "execution_count": null,
   "metadata": {
    "collapsed": false
   },
   "outputs": [],
   "source": [
    "import utils.data as ud\n",
    "import pandas as pd\n",
    "import numpy as np\n",
    "import seaborn as sns\n",
    "%matplotlib inline"
   ]
  },
  {
   "cell_type": "code",
   "execution_count": null,
   "metadata": {
    "collapsed": true
   },
   "outputs": [],
   "source": [
    "import statsmodels.api as sm"
   ]
  },
  {
   "cell_type": "code",
   "execution_count": null,
   "metadata": {
    "collapsed": true
   },
   "outputs": [],
   "source": [
    "import tbtools.dev as tbdev\n",
    "import tbtools.panda as tbpd\n",
    "import tbtools.iter as tbiter\n",
    "import tbtools.strings as tbstr"
   ]
  },
  {
   "cell_type": "code",
   "execution_count": null,
   "metadata": {
    "collapsed": true
   },
   "outputs": [],
   "source": [
    "import utils.evaluation.modelling as uem"
   ]
  },
  {
   "cell_type": "markdown",
   "metadata": {},
   "source": [
    "## Assign train, validate, test labels"
   ]
  },
  {
   "cell_type": "code",
   "execution_count": null,
   "metadata": {
    "collapsed": false
   },
   "outputs": [],
   "source": [
    "from sklearn.cross_validation import train_test_split\n",
    "\n",
    "import utils.features as uf"
   ]
  },
  {
   "cell_type": "code",
   "execution_count": null,
   "metadata": {
    "collapsed": true
   },
   "outputs": [],
   "source": [
    "uf = tbdev.reload(uf)"
   ]
  },
  {
   "cell_type": "code",
   "execution_count": null,
   "metadata": {
    "collapsed": false
   },
   "outputs": [],
   "source": [
    "# %%time\n",
    "# x,y = uf.get_x_y( c_lags=['{} min'.format(L) \\\n",
    "#                           for L in (\n",
    "#                                         5,\n",
    "#                                         10,\n",
    "#                                         20,\n",
    "#                                         30,\n",
    "#                                     )\n",
    "#                           ],\n",
    "#                   dc_settings=[\n",
    "#                     ('{} min'.format(L), '{} min'.format(W), sign) \\\n",
    "#                         for L in (\n",
    "#                                     5,\n",
    "#                                     10,\n",
    "#                                     20,\n",
    "#                                     30,\n",
    "#                                  ) \\\n",
    "#                         for W in (\n",
    "#                                     1,\n",
    "#                                     2,\n",
    "#                                     5,\n",
    "#                                     10,de\n",
    "#                                  ) \\\n",
    "#                         for sign in (\n",
    "#                                     '+',\n",
    "#                                     '-',\n",
    "#                                     '',\n",
    "#                                     )\n",
    "#                                 ]\n",
    "#                 )\n",
    "\n",
    "# tbdev.notify('Finished fetching features')"
   ]
  },
  {
   "cell_type": "code",
   "execution_count": null,
   "metadata": {
    "collapsed": true
   },
   "outputs": [],
   "source": [
    "# x['C'] = y\n",
    "\n",
    "# _train, _test = train_test_split(x, test_size=0.2, random_state=0)\n",
    "# _train, _validate = train_test_split(_train, test_size=.25, random_state=1)"
   ]
  },
  {
   "cell_type": "code",
   "execution_count": null,
   "metadata": {
    "collapsed": true
   },
   "outputs": [],
   "source": [
    "# def xy(v):\n",
    "#     return v.drop('C', axis=1), v['C']\n",
    "\n",
    "# x_train, y_train = xy(_train)\n",
    "# x_validate, y_validate = xy(_validate)\n",
    "# x_test, y_test = xy(_test)"
   ]
  },
  {
   "cell_type": "code",
   "execution_count": null,
   "metadata": {
    "collapsed": false
   },
   "outputs": [],
   "source": [
    "# def store_designmatrices():\n",
    "#     import os\n",
    "#     p = ud.paths.Paths.design_matrices\n",
    "#     dmpath = lambda x: os.path.join(p, 'c_dc_' + x)\n",
    "\n",
    "#     x_train.to_pickle(dmpath('x_train.pickle'))\n",
    "#     y_train.to_pickle(dmpath('y_train.pickle'))\n",
    "#     x_validate.to_pickle(dmpath('x_validate.pickle'))\n",
    "#     y_validate.to_pickle(dmpath('y_validate.pickle'))\n",
    "#     x_test.to_pickle(dmpath('x_test.pickle'))\n",
    "#     y_test.to_pickle(dmpath('y_test.pickle'))"
   ]
  },
  {
   "cell_type": "code",
   "execution_count": null,
   "metadata": {
    "collapsed": false
   },
   "outputs": [],
   "source": [
    "def dmpath(p):\n",
    "    import os\n",
    "    dm = ud.Paths.design_matrices\n",
    "    return os.path.join(dm, 'c_dc_' + p)\n",
    "\n",
    "x_train = pd.read_pickle(dmpath('x_train.pickle'))\n",
    "y_train = pd.read_pickle(dmpath('y_train.pickle'))\n",
    "# x_validate = pd.read_pickle(dmpath('x_validate.pickle'))\n",
    "# y_validate = pd.read_pickle(dmpath('y_validate.pickle'))\n",
    "# x_test = pd.read_pickle(dmpath('x_test.pickle'))\n",
    "# y_test = pd.read_pickle(dmpath('y_test.pickle'))"
   ]
  },
  {
   "cell_type": "code",
   "execution_count": null,
   "metadata": {
    "collapsed": false
   },
   "outputs": [],
   "source": [
    "fig = sns.plt.figure()\n",
    "sns.plt.plot((x.index - x.index.min()).total_seconds()[::50])"
   ]
  },
  {
   "cell_type": "code",
   "execution_count": null,
   "metadata": {
    "collapsed": false
   },
   "outputs": [],
   "source": [
    "x_train.shape#, x_validate.shape, x_test.shape"
   ]
  },
  {
   "cell_type": "markdown",
   "metadata": {},
   "source": [
    "---"
   ]
  },
  {
   "cell_type": "markdown",
   "metadata": {},
   "source": [
    "My target variable is definitely not normal."
   ]
  },
  {
   "cell_type": "code",
   "execution_count": null,
   "metadata": {
    "collapsed": false
   },
   "outputs": [],
   "source": [
    "sm.qqplot(y_train, line='q');"
   ]
  },
  {
   "cell_type": "code",
   "execution_count": null,
   "metadata": {
    "collapsed": true
   },
   "outputs": [],
   "source": [
    "# No boxcox can fix this target :-/\n",
    "from scipy.stats import boxcox\n",
    "sm.qqplot(boxcox(y_train+2)[0], line='q');"
   ]
  },
  {
   "cell_type": "markdown",
   "metadata": {},
   "source": [
    "# Plot variables against target"
   ]
  },
  {
   "cell_type": "code",
   "execution_count": null,
   "metadata": {
    "collapsed": false
   },
   "outputs": [],
   "source": [
    "# Sort first by feature name, then window size, and the lag length\n",
    "cols = tbstr.sort_strings(x_train.columns, ['^\\S+', 'W=(\\d+)', 'L=(\\d+)'])"
   ]
  },
  {
   "cell_type": "code",
   "execution_count": null,
   "metadata": {
    "collapsed": false,
    "scrolled": false
   },
   "outputs": [],
   "source": [
    "n_cols = 4\n",
    "n_rows = (x_train.shape[1] + 1) // n_cols\n",
    "fig, axs = sns.plt.subplots(n_rows, n_cols, figsize=(15, n_rows*3.5))\n",
    "axs = axs.flatten()\n",
    "    \n",
    "for ax, c in zip(axs, cols):\n",
    "    tbpd.hist2d(y_train, x_train[c], ax=ax,\n",
    "                integer_aligned_bins=True, sqrt=True);\n",
    "fig.tight_layout()\n",
    "tbdev.notify('Finished drawing variables')"
   ]
  },
  {
   "cell_type": "markdown",
   "metadata": {},
   "source": [
    "---"
   ]
  },
  {
   "cell_type": "markdown",
   "metadata": {},
   "source": [
    "anova to compare models?"
   ]
  },
  {
   "cell_type": "markdown",
   "metadata": {},
   "source": [
    "F-test to compare models?"
   ]
  },
  {
   "cell_type": "markdown",
   "metadata": {},
   "source": [
    "log-likelihood"
   ]
  },
  {
   "cell_type": "code",
   "execution_count": null,
   "metadata": {
    "collapsed": true
   },
   "outputs": [],
   "source": [
    "import utils.evaluation.modelling as uem"
   ]
  },
  {
   "cell_type": "code",
   "execution_count": null,
   "metadata": {
    "collapsed": true
   },
   "outputs": [],
   "source": [
    "# TIMES = ('day', 'hour', 'minute')\n",
    "\n",
    "# def rmse(resid):\n",
    "#     return np.sqrt(np.mean(np.square(resid)))\n",
    "\n",
    "# def score_model(model, y, x):\n",
    "#     pred = model.predict(x)\n",
    "#     resid = pd.Series(y - pred, index=y.index, name='Residuals')\n",
    "    \n",
    "#     print('RMSE: {:.3f}'.format(rmse(resid)))\n",
    "#     print('RMSE: {:.2f} for target > 0'.format(rmse(resid[y != 0])))\n",
    "#     for p in (50, 70, 80, 90, 95, 99):\n",
    "#         v = np.percentile(y, p)\n",
    "#         print('RMSE: {:.3f} for target > {} (top {} percentile)'.format(rmse(resid[y>v]), v, 100-p))\n",
    "\n",
    "# def plot_model(model, y=None, x=None):\n",
    "        \n",
    "#     if x is None:\n",
    "#         x = x_train\n",
    "#     if y is None:\n",
    "#         y = y_train\n",
    "        \n",
    "#     fig, axs = sns.plt.subplots(2, 2, figsize=(14, 10))\n",
    "#     axs = axs.flatten()\n",
    "    \n",
    "#     pred = model.predict(x)\n",
    "#     resid = pd.Series(y - pred, index=y.index, name='Residuals')\n",
    "    \n",
    "#     resid.hist(bins=40, ax=axs[0]); axs[0].set_xlabel('Residuals')\n",
    "#     sm.qqplot(resid, line='q', ax=axs[1]);  axs[1].set_xlabel('Residuals')\n",
    "#     tbpd.hist2d(resid, pred, ax=axs[2],\n",
    "#                 vlabel='Residuals', hlabel='Predicted value', \n",
    "#                 integer_aligned_bins=True)\n",
    "#     tbpd.hist2d(y, pred, ax=axs[3],\n",
    "#                 vlabel='True value', hlabel='Predicted value', \n",
    "#                 integer_aligned_bins=True, sqrt=True)\n",
    "#     fig.tight_layout()"
   ]
  },
  {
   "cell_type": "markdown",
   "metadata": {},
   "source": [
    "# Models"
   ]
  },
  {
   "cell_type": "code",
   "execution_count": null,
   "metadata": {
    "collapsed": true
   },
   "outputs": [],
   "source": [
    "def reduce_until_significant(y, x):\n",
    "    drops = []\n",
    "    rmses = []\n",
    "    pb = tbiter.IProgressBar(range(len(x.columns)))\n",
    "    for i in pb:\n",
    "        res = sm.OLS(y, x).fit()\n",
    "        e = uem.rmse(res.resid)\n",
    "        rmses.append(e)\n",
    "        if res.pvalues.max() > .05:\n",
    "            c = res.pvalues.argmax()\n",
    "            pb.set_state('RMSE={:.2f} p={:.2f} \"{}\"'.format(e, res.pvalues[c], c))\n",
    "            drops.append(c)\n",
    "            x = x.drop(c, axis=1)\n",
    "        else:\n",
    "            pb.set_state('Finished.')\n",
    "            pb.finish()\n",
    "            print('Stopping at {} drops'.format(len(drops)))\n",
    "            break\n",
    "    print(res.summary())\n",
    "    return res, x"
   ]
  },
  {
   "cell_type": "code",
   "execution_count": null,
   "metadata": {
    "collapsed": true
   },
   "outputs": [],
   "source": [
    "def reduce_eval(cols=None, add_intercept=True, remove_mean=True, divide_std=True, x=None):\n",
    "    with tbdev.Notify('Reduction done'):\n",
    "        if x is None:\n",
    "            x = x_train[cols]\n",
    "        if remove_mean:\n",
    "            x = x - x.mean()\n",
    "        if divide_std:\n",
    "            x = x/x.std()\n",
    "        if add_intercept:\n",
    "            x['intercept'] = 1\n",
    "\n",
    "        model, x = reduce_until_significant(y_train, x)\n",
    "        print('\\n\\n\\n')\n",
    "        uem.score_model(model, y_train, x)\n",
    "        uem.plot_model(model, y_train, x)"
   ]
  },
  {
   "cell_type": "markdown",
   "metadata": {},
   "source": [
    "### Full model \n",
    "\n",
    "Reduced until no insignificant terms remain"
   ]
  },
  {
   "cell_type": "code",
   "execution_count": null,
   "metadata": {
    "collapsed": false
   },
   "outputs": [],
   "source": [
    "reduce_eval(x_train.columns)"
   ]
  },
  {
   "cell_type": "markdown",
   "metadata": {},
   "source": [
    "# L=5 min"
   ]
  },
  {
   "cell_type": "code",
   "execution_count": null,
   "metadata": {
    "collapsed": false
   },
   "outputs": [],
   "source": [
    "reduce_eval([c for c in x_train if 'L=5 min' in c])"
   ]
  },
  {
   "cell_type": "markdown",
   "metadata": {},
   "source": [
    "## L=10 min"
   ]
  },
  {
   "cell_type": "code",
   "execution_count": null,
   "metadata": {
    "collapsed": false
   },
   "outputs": [],
   "source": [
    "reduce_eval([c for c in x_train if 'L=10 min' in c])"
   ]
  },
  {
   "cell_type": "markdown",
   "metadata": {},
   "source": [
    "## L=20 min"
   ]
  },
  {
   "cell_type": "code",
   "execution_count": null,
   "metadata": {
    "collapsed": false
   },
   "outputs": [],
   "source": [
    "reduce_eval([c for c in x_train if 'L=20 min' in c])"
   ]
  },
  {
   "cell_type": "markdown",
   "metadata": {},
   "source": [
    "## L=30 min"
   ]
  },
  {
   "cell_type": "code",
   "execution_count": null,
   "metadata": {
    "collapsed": false
   },
   "outputs": [],
   "source": [
    "reduce_eval([c for c in x_train if 'L=30 min' in c])"
   ]
  },
  {
   "cell_type": "markdown",
   "metadata": {},
   "source": [
    "# L$\\ge$20 min"
   ]
  },
  {
   "cell_type": "code",
   "execution_count": null,
   "metadata": {
    "collapsed": false
   },
   "outputs": [],
   "source": [
    "reduce_eval([c for c in x_train if 'L=30 min' in c or 'L=20 min' in c])"
   ]
  },
  {
   "cell_type": "markdown",
   "metadata": {},
   "source": [
    "# L$\\ge$10 min"
   ]
  },
  {
   "cell_type": "code",
   "execution_count": null,
   "metadata": {
    "collapsed": false,
    "scrolled": false
   },
   "outputs": [],
   "source": [
    "reduce_eval([c for c in x_train if 'L=30 min' in c or 'L=20 min' in c or 'L=10 min' in c])"
   ]
  },
  {
   "cell_type": "markdown",
   "metadata": {},
   "source": [
    "Try with squares and stuff?"
   ]
  },
  {
   "cell_type": "markdown",
   "metadata": {},
   "source": [
    "# L=5, squares"
   ]
  },
  {
   "cell_type": "code",
   "execution_count": null,
   "metadata": {
    "collapsed": false
   },
   "outputs": [],
   "source": [
    "tmpx = x_train[[c for c in x_train if 'L=5' in c]].copy()\n",
    "\n",
    "tmpx[[c+'**2' for c in tmpx]] = np.square(tmpx)"
   ]
  },
  {
   "cell_type": "code",
   "execution_count": null,
   "metadata": {
    "collapsed": false,
    "scrolled": false
   },
   "outputs": [],
   "source": [
    "reduce_eval(x=tmpx)"
   ]
  },
  {
   "cell_type": "markdown",
   "metadata": {},
   "source": [
    "# L=5, squares, no -deltaC, deltaC"
   ]
  },
  {
   "cell_type": "code",
   "execution_count": null,
   "metadata": {
    "collapsed": false
   },
   "outputs": [],
   "source": [
    "tmpx = x_train[[c for c in x_train if 'L=5' in c and 'Δ-C' not in c and 'ΔC' not in c]].copy()\n",
    "tmpx[[c+'**2' for c in tmpx]] = np.square(tmpx)\n",
    "\n",
    "reduce_eval(x=tmpx)"
   ]
  },
  {
   "cell_type": "markdown",
   "metadata": {},
   "source": [
    "# L=5, sqrt + standard, no -deltaC, deltaC, no w=1, no w=10"
   ]
  },
  {
   "cell_type": "code",
   "execution_count": null,
   "metadata": {
    "collapsed": false
   },
   "outputs": [],
   "source": [
    "tmpx = x_train[[c for c in x_train if 'L=5' in c and 'Δ-C' not in c and 'ΔC' not in c\\\n",
    "                and not 'W=1' in c]].copy()\n",
    "tmpx[['sqrt({})'.format(c) for c in tmpx]] = np.sqrt(tmpx)\n",
    "\n",
    "# R2 = .643\n",
    "# RMSE 2.532\n",
    "reduce_eval(x=tmpx)"
   ]
  },
  {
   "cell_type": "code",
   "execution_count": null,
   "metadata": {
    "collapsed": false
   },
   "outputs": [],
   "source": [
    "tbpd = tbdev.reload(tbpd)\n",
    "\n",
    "ax = tbpd.hist2d([1,2,3,3], [-1, 1,2,7], hlabel='h', vlabel='v', integer_aligned_bins=True, edgecolors='k')\n"
   ]
  },
  {
   "cell_type": "markdown",
   "metadata": {},
   "source": [
    "# Plan\n",
    "\n",
    "1. Done: Built and reduced full model for all lag >= unique(lag) \n",
    "    - Reduce it until no more insigificant terms remain. Expect it to be the 5-min terms.\n",
    "2. Build models (and reduce them) using larger and larger minimum lags."
   ]
  },
  {
   "cell_type": "markdown",
   "metadata": {},
   "source": [
    "## History\n",
    "\n",
    "- Tried with variables up to 5 minutes before. Looked good.\n",
    "- Tried with 30 minutes before only. Looked really bad. Made an attempt with ANOVA. Still bad.\n",
    "- Tried 30 min with RF. Even worse."
   ]
  },
  {
   "cell_type": "code",
   "execution_count": null,
   "metadata": {
    "collapsed": true
   },
   "outputs": [],
   "source": [
    "TIMES = ('day', 'hour', 'minute')\n",
    "\n",
    "def rmse(residuals):\n",
    "    return np.sqrt(np.mean(np.square(residuals)))\n",
    "\n",
    "def score_model(model, y, x):\n",
    "    pred = model.predict(x)\n",
    "    resid = pd.Series(y - pred, index=y.index, name='Residuals')\n",
    "    \n",
    "    print('RMSE: {:.2f}'.format(rmse(resid)))\n",
    "    print('Non-zero RMSE: {:.2f}'.format(rmse(resid[y != 0])))\n",
    "\n",
    "def plot_model(model, y, x):\n",
    "    if hasattr(model, 'params'):\n",
    "        n_features = len(model.params)\n",
    "    else:\n",
    "        n_features = model.n_features_\n",
    "        \n",
    "    n_rows = (len(TIMES) + 3 + n_features + 1) // 2 \n",
    "    fig, axs = sns.plt.subplots(n_rows,2, figsize=(14, n_rows*3.5))\n",
    "    axs = axs.flatten()\n",
    "    \n",
    "    pred = model.predict(x)\n",
    "    resid = pd.Series(y - pred, index=y.index, name='Residuals')\n",
    "    \n",
    "    resid.hist(bins=40, ax=axs[0]); axs[0].set_xlabel('Residuals')\n",
    "    sm.qqplot(resid, line='q', ax=axs[1]);  axs[1].set_xlabel('Residuals')\n",
    "    tbpd.hist2d(resid, pred, ax=axs[2],\n",
    "                vlabel='Residuals', hlabel='Predicted value', \n",
    "                integer_aligned_bins=True)\n",
    "\n",
    "    N = 3\n",
    "    for c in x:\n",
    "        tbpd.hist2d(resid, x[c], ax=axs[N], \n",
    "                    vlabel='Residuals', integer_aligned_bins=True)\n",
    "        N += 1\n",
    "\n",
    "    for v in TIMES:\n",
    "        tbpd.hist2d(resid, getattr(resid.index, v), \n",
    "                    ax=axs[N], vlabel='Residuals', \n",
    "                    hlabel=v, integer_aligned_bins=True)\n",
    "        N += 1\n",
    "        \n",
    "    fig.tight_layout()"
   ]
  }
 ],
 "metadata": {
  "kernelspec": {
   "display_name": "Python 3",
   "language": "python",
   "name": "python3"
  },
  "language_info": {
   "codemirror_mode": {
    "name": "ipython",
    "version": 3
   },
   "file_extension": ".py",
   "mimetype": "text/x-python",
   "name": "python",
   "nbconvert_exporter": "python",
   "pygments_lexer": "ipython3",
   "version": "3.5.1"
  }
 },
 "nbformat": 4,
 "nbformat_minor": 0
}
