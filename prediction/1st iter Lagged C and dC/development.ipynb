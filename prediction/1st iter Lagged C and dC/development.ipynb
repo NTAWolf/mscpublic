{
 "cells": [
  {
   "cell_type": "code",
   "execution_count": null,
   "metadata": {
    "collapsed": false
   },
   "outputs": [],
   "source": [
    "import utils.features as uf\n",
    "import seaborn as sns\n",
    "import pandas as pd\n",
    "import numpy as np\n",
    "%matplotlib inline\n",
    "\n",
    "import tbtools.dev as tbdev\n",
    "\n",
    "import utils.plotting.maps.simple_trace as st\n",
    "import utils.plotting as up"
   ]
  },
  {
   "cell_type": "code",
   "execution_count": null,
   "metadata": {
    "collapsed": true
   },
   "outputs": [],
   "source": [
    "import tbtools.panda as tbpd"
   ]
  },
  {
   "cell_type": "code",
   "execution_count": null,
   "metadata": {
    "collapsed": true
   },
   "outputs": [],
   "source": [
    "uf = tbdev.reload(uf)"
   ]
  },
  {
   "cell_type": "code",
   "execution_count": null,
   "metadata": {
    "collapsed": false
   },
   "outputs": [],
   "source": [
    "window = '1 min'\n",
    "dc = uf.delta_C_inferred(1, window=window)\n",
    "c1 = C.resample(window).max()\n",
    "\n",
    "c1 = c1[dc.index.min():dc.index.max()]"
   ]
  },
  {
   "cell_type": "code",
   "execution_count": null,
   "metadata": {
    "collapsed": false
   },
   "outputs": [],
   "source": [
    "dc.hist()"
   ]
  },
  {
   "cell_type": "code",
   "execution_count": null,
   "metadata": {
    "collapsed": false,
    "scrolled": true
   },
   "outputs": [],
   "source": [
    "df = pd.DataFrame({'C':c1, 'Delta C':dc})\n",
    "df.plot.scatter(y='C', x='Delta C')"
   ]
  },
  {
   "cell_type": "code",
   "execution_count": null,
   "metadata": {
    "collapsed": false
   },
   "outputs": [],
   "source": [
    "print('0 minutes offset')\n",
    "sns.boxplot(y='C', x='Delta C', data=df)"
   ]
  },
  {
   "cell_type": "code",
   "execution_count": null,
   "metadata": {
    "collapsed": false
   },
   "outputs": [],
   "source": [
    "df.columns"
   ]
  },
  {
   "cell_type": "code",
   "execution_count": null,
   "metadata": {
    "collapsed": false
   },
   "outputs": [],
   "source": [
    "sns.jointplot(y='C', x='DC+10m', data=df)"
   ]
  },
  {
   "cell_type": "code",
   "execution_count": null,
   "metadata": {
    "collapsed": false
   },
   "outputs": [],
   "source": [
    "print('Delta C from 10 minutes ago')\n",
    "sns.boxplot(y='C', x='DC+10m', data=df)\n",
    "sns.plt.figure()"
   ]
  },
  {
   "cell_type": "code",
   "execution_count": null,
   "metadata": {
    "collapsed": false
   },
   "outputs": [],
   "source": [
    "i = 0\n",
    "pal = sns.palettes.cycle(sns.palettes.SEABORN_PALETTES['bright'])\n",
    "for c in df:\n",
    "    if c[:2] == 'DC':\n",
    "        i+=1\n",
    "        if i > 3: \n",
    "            break\n",
    "        col = next(pal)\n",
    "        print(col, c)\n",
    "        fig = sns.pointplot(x=c, y='C', data=df, color=col, label=c, legend=True)"
   ]
  },
  {
   "cell_type": "code",
   "execution_count": null,
   "metadata": {
    "collapsed": true
   },
   "outputs": [],
   "source": [
    "# uf = tbdev.reload(uf)\n",
    "\n",
    "def show_window(size, r=range(-20,25,2)):\n",
    "    df2 = []\n",
    "    df3 = []\n",
    "    window = '{} min'.format(size)\n",
    "    for offset in r:\n",
    "        dc = uf.delta_C_inferred(line=1, window=window)\n",
    "        s = df.C.groupby(dc.shift(offset, freq='min').astype(int))#.median()\n",
    "        v = s.median()\n",
    "        v.name = '{} min'.format(offset)\n",
    "        c = s.count()\n",
    "        c.name = v.name\n",
    "        df2.append(v)\n",
    "        df3.append(c)\n",
    "\n",
    "    df2 = pd.DataFrame(df2)\n",
    "    sns.plt.figure(figsize=(15,8))\n",
    "    ax = sns.heatmap(df2)\n",
    "    ax.set_ylabel('Delta C earlier than C, window of {}'.format(window))\n",
    "    df3 = pd.DataFrame(df3)\n",
    "    sns.plt.figure(figsize=(15,8))\n",
    "    ax = sns.heatmap(df3, annot=True, fmt=',')\n",
    "    ax.set_ylabel('Counts'.format(window))\n"
   ]
  },
  {
   "cell_type": "code",
   "execution_count": null,
   "metadata": {
    "collapsed": false,
    "scrolled": false
   },
   "outputs": [],
   "source": [
    "show_window(5, range(-40,40,3))"
   ]
  },
  {
   "cell_type": "code",
   "execution_count": null,
   "metadata": {
    "collapsed": false
   },
   "outputs": [],
   "source": [
    "show_window(10, range(-40,41,10))"
   ]
  },
  {
   "cell_type": "code",
   "execution_count": null,
   "metadata": {
    "collapsed": false
   },
   "outputs": [],
   "source": [
    "# uf = tbdev.reload(uf)\n",
    "\n",
    "df2 = []\n",
    "window = '10 min'\n",
    "for offset in range(-20,25,2):\n",
    "    dc = uf.delta_C_inferred(line=1, window=window)\n",
    "    s = df.C.groupby(dc.shift(offset, freq='min').astype(int)).median()\n",
    "    s.name = '{} min'.format(offset)\n",
    "    df2.append(s)\n",
    "    \n",
    "df2 = pd.DataFrame(df2)\n",
    "sns.plt.figure(figsize=(15,8))\n",
    "ax = sns.heatmap(df2)\n",
    "ax.set_ylabel('Delta C earlier than C, window of {}'.format(window))\n",
    "# up.save_fig('w15/delta_c_prelim.png', target='week')"
   ]
  },
  {
   "cell_type": "code",
   "execution_count": null,
   "metadata": {
    "collapsed": false
   },
   "outputs": [],
   "source": [
    "df2 = []\n",
    "\n",
    "for offset in range(-10,25):\n",
    "    \n",
    "    s = df.C.groupby(df['Delta C'].shift(offset, freq='min')).median()\n",
    "    s.name = '{} min'.format(offset)\n",
    "    df2.append(s)\n",
    "    \n",
    "df2 = pd.DataFrame(df2)\n",
    "\n",
    "sns.plt.figure(figsize=(12,8))\n",
    "ax = sns.heatmap(df2)\n",
    "ax.set_ylabel('Minutes DC offset from C, window of 1 minute')\n",
    "up.save_fig('w15/delta_c_prelim.png', target='week')"
   ]
  },
  {
   "cell_type": "code",
   "execution_count": null,
   "metadata": {
    "collapsed": false
   },
   "outputs": [],
   "source": [
    "sns.boxplot(x='Delta C', y='C', data=df)\n",
    "sns.plt.figure()\n",
    "sns.boxplot(x='Delta C t-5min', y='C', data=df)\n",
    "sns.plt.figure()\n",
    "sns.boxplot(x='Delta C t-10min', y='C', data=df)"
   ]
  },
  {
   "cell_type": "code",
   "execution_count": null,
   "metadata": {
    "collapsed": false
   },
   "outputs": [],
   "source": [
    "\n",
    "\n",
    "sns.plt.figure(figsize=(14,20))\n",
    "for k,i in enumerate([-10, 0, 10, -5,0,5]):\n",
    "    ax = sns.plt.subplot(5,3,1+k)\n",
    "    tar = 'DC{:+d}m'.format(i)\n",
    "    df[tar] = df['Delta C'].shift(freq='{} min'.format(i))\n",
    "    sns.boxplot(x=tar, y='C', data=df, ax=ax)"
   ]
  },
  {
   "cell_type": "code",
   "execution_count": null,
   "metadata": {
    "collapsed": false
   },
   "outputs": [],
   "source": [
    "sns.boxplot(x='DC+5m', y='C', data=df)"
   ]
  },
  {
   "cell_type": "code",
   "execution_count": null,
   "metadata": {
    "collapsed": true
   },
   "outputs": [],
   "source": [
    "window = '1 min'\n",
    "tp = uf.throughput(tx=14, window=window)\n",
    "running = uf.line_running(tx=14, window=window)\n",
    "df = pd.DataFrame({'C':C.resample(window).max(), 'throughput_14':tp, 'running':running}).fillna(0)"
   ]
  },
  {
   "cell_type": "code",
   "execution_count": null,
   "metadata": {
    "collapsed": false
   },
   "outputs": [],
   "source": [
    "df['2012-09-04 14:00:00':'2012-09-04 16:00:00'].plot()"
   ]
  },
  {
   "cell_type": "code",
   "execution_count": null,
   "metadata": {
    "collapsed": false
   },
   "outputs": [],
   "source": [
    "pd.DataFrame({'tp':tp, 'linestop':tp < 7})['2012-09-04 014:00:00':'2012-09-04 16:00:00'].plot()"
   ]
  },
  {
   "cell_type": "code",
   "execution_count": null,
   "metadata": {
    "collapsed": false
   },
   "outputs": [],
   "source": [
    "df['2012-09-04 06:00:00':'2012-09-04 16:00:00'].plot(figsize=(14,8))"
   ]
  },
  {
   "cell_type": "code",
   "execution_count": null,
   "metadata": {
    "collapsed": false,
    "scrolled": true
   },
   "outputs": [],
   "source": [
    "df.rolling(window=500).corr().iloc[:,1,0].plot(figsize=(14,8))"
   ]
  },
  {
   "cell_type": "code",
   "execution_count": null,
   "metadata": {
    "collapsed": false
   },
   "outputs": [],
   "source": [
    "df.cov()"
   ]
  },
  {
   "cell_type": "code",
   "execution_count": null,
   "metadata": {
    "collapsed": false
   },
   "outputs": [],
   "source": [
    "sela, selb = '2012-09-05','2012-09-05'\n",
    "df[sela:selb]['throughput_14'].plot(linewidth=.5, secondary_y=True, legend=True)\n",
    "df[sela:selb]['C'].plot(figsize=(14,8), linewidth=.5, legend=True)\n"
   ]
  },
  {
   "cell_type": "code",
   "execution_count": null,
   "metadata": {
    "collapsed": false
   },
   "outputs": [],
   "source": [
    "C.resample('H').max().plot()"
   ]
  },
  {
   "cell_type": "markdown",
   "metadata": {},
   "source": [
    "## What is causing the zeros in C.hist?"
   ]
  },
  {
   "cell_type": "code",
   "execution_count": null,
   "metadata": {
    "collapsed": false
   },
   "outputs": [],
   "source": [
    "uf = tbdev.reload(uf)\n",
    "C = uf.C()\n",
    "C.hist(bins=C.nunique())"
   ]
  },
  {
   "cell_type": "code",
   "execution_count": null,
   "metadata": {
    "collapsed": false
   },
   "outputs": [],
   "source": [
    "C.hist(bins=C.nunique())"
   ]
  },
  {
   "cell_type": "code",
   "execution_count": null,
   "metadata": {
    "collapsed": false
   },
   "outputs": [],
   "source": [
    "C.nunique()"
   ]
  },
  {
   "cell_type": "code",
   "execution_count": null,
   "metadata": {
    "collapsed": false
   },
   "outputs": [],
   "source": [
    "v = C.rolling(lambda x: x.value_counts())#.reset_index(level=1)\n",
    "v.name = 'histcount'\n",
    "v = v.reset_index(level=1)\n",
    "tbpd.rename_col(v, level_1='reinspection_count')\n",
    "v = v.reset_index()\n",
    "tbpd.rename_col(v, index='hour')\n",
    "\n",
    "v = v.pivot(index='hour', columns='reinspection_count', values='histcount').fillna(0)\n",
    "sns.plt.figure(figsize=(10,10))\n",
    "sns.heatmap(v)"
   ]
  },
  {
   "cell_type": "markdown",
   "metadata": {},
   "source": [
    "TODO make this plot for a rolling window instead of whole hours\n",
    "\n",
    "TODO consider whether duplicates need special handling"
   ]
  },
  {
   "cell_type": "code",
   "execution_count": null,
   "metadata": {
    "collapsed": false
   },
   "outputs": [],
   "source": [
    "v = C.groupby(C.index.hour).value_counts()#.reset_index(level=1)\n",
    "v.name = 'histcount'\n",
    "v = v.reset_index(level=1)\n",
    "tbpd.rename_col(v, level_1='reinspection_count')\n",
    "v = v.reset_index()\n",
    "tbpd.rename_col(v, index='hour')\n",
    "\n",
    "v = v.pivot(index='hour', columns='reinspection_count', values='histcount').fillna(0)\n",
    "sns.plt.figure(figsize=(10,10))\n",
    "sns.heatmap(v)\n",
    "\n",
    "# Make it with continuous time instead of per hours"
   ]
  },
  {
   "cell_type": "markdown",
   "metadata": {},
   "source": [
    "# See what we can do with linear regression\n",
    "\n",
    "Moved to nb Delta C modelling"
   ]
  },
  {
   "cell_type": "markdown",
   "metadata": {},
   "source": [
    "Try with \n",
    "\n",
    "Y: \n",
    "\n",
    "    reinspection count at time T\n",
    "\n",
    "X:\n",
    "\n",
    "    reinspection count at time T-L\n",
    "    reinspection delta for time [T-L-W:T-L]"
   ]
  },
  {
   "cell_type": "code",
   "execution_count": null,
   "metadata": {
    "collapsed": true
   },
   "outputs": [],
   "source": [
    "uf = tbdev.reload(uf)"
   ]
  },
  {
   "cell_type": "code",
   "execution_count": null,
   "metadata": {
    "collapsed": true
   },
   "outputs": [],
   "source": [
    "import utils.data as ud"
   ]
  },
  {
   "cell_type": "code",
   "execution_count": null,
   "metadata": {
    "collapsed": true
   },
   "outputs": [],
   "source": [
    "import tbtools.func as tbf\n",
    "\n",
    "import utils.data as ud"
   ]
  },
  {
   "cell_type": "code",
   "execution_count": null,
   "metadata": {
    "collapsed": false
   },
   "outputs": [],
   "source": [
    "# uf = tbdev.reload(uf)\n",
    "# x,y = uf.get_full_x_y(('5 min',), (('5 min', '2 min'), ('10 min', '2 min')))"
   ]
  },
  {
   "cell_type": "code",
   "execution_count": null,
   "metadata": {
    "collapsed": false
   },
   "outputs": [],
   "source": [
    "# ud.design_matrices.set('delta_c_5_min_line12.pickle', v)"
   ]
  },
  {
   "cell_type": "code",
   "execution_count": null,
   "metadata": {
    "collapsed": false
   },
   "outputs": [],
   "source": [
    "v = ud.design_matrices.get('5_min')"
   ]
  },
  {
   "cell_type": "code",
   "execution_count": null,
   "metadata": {
    "collapsed": false
   },
   "outputs": [],
   "source": [
    "y = v['C']\n",
    "x = v.drop('C', axis=1)"
   ]
  },
  {
   "cell_type": "code",
   "execution_count": null,
   "metadata": {
    "collapsed": true
   },
   "outputs": [],
   "source": [
    "import sklearn.linear_model as sklin"
   ]
  },
  {
   "cell_type": "code",
   "execution_count": null,
   "metadata": {
    "collapsed": true
   },
   "outputs": [],
   "source": [
    "lr = sklin.LinearRegression()"
   ]
  },
  {
   "cell_type": "code",
   "execution_count": null,
   "metadata": {
    "collapsed": false
   },
   "outputs": [],
   "source": [
    "X = x[[c for c in x if '5 min' in c]]\n",
    "mask = ~X.isnull().any(axis=1)\n",
    "X = X[mask]\n",
    "Y = y[mask]\n",
    "lr.fit(X, Y)"
   ]
  },
  {
   "cell_type": "code",
   "execution_count": null,
   "metadata": {
    "collapsed": false
   },
   "outputs": [],
   "source": [
    "((Y - lr.predict(X))/(Y.median())).hist(bins=40)"
   ]
  },
  {
   "cell_type": "code",
   "execution_count": null,
   "metadata": {
    "collapsed": false
   },
   "outputs": [],
   "source": [
    "sns.plt.figure(figsize=(14,6))\n",
    "Y.resample('H').max().plot(linewidth=.5, marker='.')\n",
    "pd.Series(lr.predict(X), index=Y.index).resample('H').max().plot(linewidth=.5, marker='.')"
   ]
  },
  {
   "cell_type": "code",
   "execution_count": null,
   "metadata": {
    "collapsed": true
   },
   "outputs": [],
   "source": []
  },
  {
   "cell_type": "code",
   "execution_count": null,
   "metadata": {
    "collapsed": true
   },
   "outputs": [],
   "source": [
    "import tbtools.ml as tbml"
   ]
  },
  {
   "cell_type": "code",
   "execution_count": null,
   "metadata": {
    "collapsed": false
   },
   "outputs": [],
   "source": [
    "lr.coef_"
   ]
  },
  {
   "cell_type": "code",
   "execution_count": null,
   "metadata": {
    "collapsed": false
   },
   "outputs": [],
   "source": [
    "lr.intercept_"
   ]
  },
  {
   "cell_type": "code",
   "execution_count": null,
   "metadata": {
    "collapsed": false
   },
   "outputs": [],
   "source": [
    "lr.residues_"
   ]
  },
  {
   "cell_type": "code",
   "execution_count": null,
   "metadata": {
    "collapsed": false
   },
   "outputs": [],
   "source": [
    "sns.plt.plot(x,y, '.')\n",
    "tbml.abline(lr.coef_[0], lr.intercept_)"
   ]
  },
  {
   "cell_type": "code",
   "execution_count": null,
   "metadata": {
    "collapsed": false
   },
   "outputs": [],
   "source": [
    "df = pd.DataFrame({'x':x, 'y':y })#, 'vals':1})"
   ]
  },
  {
   "cell_type": "code",
   "execution_count": null,
   "metadata": {
    "collapsed": true
   },
   "outputs": [],
   "source": [
    "import tbtools.panda as tbpd"
   ]
  },
  {
   "cell_type": "code",
   "execution_count": null,
   "metadata": {
    "collapsed": false,
    "scrolled": false
   },
   "outputs": [],
   "source": [
    "v = df.y.groupby(df.x).value_counts()\n",
    "v.name = 'histcount'\n",
    "v = v.reset_index(level=1)\n",
    "tbpd.rename_col(v, level_1='reinspection_count')\n",
    "v = v.reset_index()\n",
    "tbpd.rename_col(v, x='delta_c')\n",
    "\n",
    "v = v.pivot(index='delta_c', columns='reinspection_count', values='histcount')#.fillna(0)\n",
    "sns.plt.figure(figsize=(10,10))\n",
    "sns.heatmap(v)\n"
   ]
  },
  {
   "cell_type": "code",
   "execution_count": null,
   "metadata": {
    "collapsed": false
   },
   "outputs": [],
   "source": [
    "v = df.groupby().value_counts()#.reset_index(level=1)\n",
    "v.name = 'histcount'\n",
    "v = v.reset_index(level=1)\n",
    "tbpd.rename_col(v, level_1='reinspection_count')\n",
    "v = v.reset_index()\n",
    "tbpd.rename_col(v, index='hour')\n",
    "\n",
    "v = v.pivot(index='hour', columns='reinspection_count', values='histcount').fillna(0)\n",
    "sns.plt.figure(figsize=(10,10))\n",
    "sns.heatmap(v)\n",
    "\n",
    "# Make it with continuous time instead of per hours"
   ]
  },
  {
   "cell_type": "code",
   "execution_count": null,
   "metadata": {
    "collapsed": false,
    "scrolled": false
   },
   "outputs": [],
   "source": [
    "sns.plt.figure(figsize=(14, 5))\n",
    "a = sns.plt.gca()\n",
    "a.plot(x, linewidth=0.5, alpha=0.5)\n",
    "a.plot(y.values, linewidth=0.5)"
   ]
  }
 ],
 "metadata": {
  "kernelspec": {
   "display_name": "Python 3",
   "language": "python",
   "name": "python3"
  },
  "language_info": {
   "codemirror_mode": {
    "name": "ipython",
    "version": 3
   },
   "file_extension": ".py",
   "mimetype": "text/x-python",
   "name": "python",
   "nbconvert_exporter": "python",
   "pygments_lexer": "ipython3",
   "version": "3.5.1"
  }
 },
 "nbformat": 4,
 "nbformat_minor": 0
}
