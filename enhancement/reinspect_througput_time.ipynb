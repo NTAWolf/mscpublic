{
 "cells": [
  {
   "cell_type": "code",
   "execution_count": null,
   "metadata": {
    "collapsed": true
   },
   "outputs": [],
   "source": [
    "import utils.data as ud\n",
    "import pandas as pd\n",
    "import numpy as np\n",
    "import seaborn as sns\n",
    "%matplotlib inline"
   ]
  },
  {
   "cell_type": "code",
   "execution_count": null,
   "metadata": {
    "collapsed": true
   },
   "outputs": [],
   "source": [
    "import tbtools.dev as tbdev\n",
    "import tbtools.panda as tbpd\n",
    "import tbtools.iter as tbiter\n",
    "import tbtools.strings as tbstr"
   ]
  },
  {
   "cell_type": "code",
   "execution_count": null,
   "metadata": {
    "collapsed": true
   },
   "outputs": [],
   "source": [
    "import multiprocessing\n",
    "import tbtools.func as tbf"
   ]
  },
  {
   "cell_type": "code",
   "execution_count": null,
   "metadata": {
    "collapsed": false
   },
   "outputs": [],
   "source": [
    "df = ud.enhanced.get('bitbushist')"
   ]
  },
  {
   "cell_type": "markdown",
   "metadata": {},
   "source": [
    "## At each exit from reinspection, note how much time it took the carcass to pass through."
   ]
  },
  {
   "cell_type": "code",
   "execution_count": null,
   "metadata": {
    "collapsed": true
   },
   "outputs": [],
   "source": [
    "@tbf.unpack_args_tuple\n",
    "def time_worker(uid, gr):\n",
    "    output = pd.Series(np.nan, index=gr.index)\n",
    "    \n",
    "    for i in gr.index[gr.reinspection_change == 1]:\n",
    "        k = gr.reinspection_change.loc[i:].argmin()\n",
    "        t = (gr.Timestamp[k]-gr.Timestamp[i]).total_seconds()\n",
    "        output[k] = t\n",
    "        \n",
    "    return output\n",
    "\n",
    "def time_leader(bbh):\n",
    "    with multiprocessing.Pool() as p:\n",
    "        res = p.map(time_worker, bbh.reset_index().groupby('uid'))\n",
    "    try:\n",
    "        res = pd.concat(res, axis=0).sort_index()\n",
    "    except:\n",
    "        print('Error while concating!')\n",
    "    return res"
   ]
  },
  {
   "cell_type": "code",
   "execution_count": null,
   "metadata": {
    "collapsed": false
   },
   "outputs": [],
   "source": [
    "res = time_leader(df)"
   ]
  },
  {
   "cell_type": "code",
   "execution_count": null,
   "metadata": {
    "collapsed": true
   },
   "outputs": [],
   "source": [
    "df['ri_s'] = res.values"
   ]
  },
  {
   "cell_type": "code",
   "execution_count": null,
   "metadata": {
    "collapsed": true
   },
   "outputs": [],
   "source": [
    "df2 = df[(df.reinspection_change_line == 1) & (df.reinspection_change == -1)]"
   ]
  },
  {
   "cell_type": "code",
   "execution_count": null,
   "metadata": {
    "collapsed": false
   },
   "outputs": [],
   "source": [
    "df2.reset_index().ri_s.argmax()"
   ]
  },
  {
   "cell_type": "code",
   "execution_count": null,
   "metadata": {
    "collapsed": true
   },
   "outputs": [],
   "source": [
    "df3.rolling?"
   ]
  },
  {
   "cell_type": "code",
   "execution_count": null,
   "metadata": {
    "collapsed": false
   },
   "outputs": [],
   "source": [
    "df3 = df2['2012-09-03']"
   ]
  },
  {
   "cell_type": "code",
   "execution_count": null,
   "metadata": {
    "collapsed": true
   },
   "outputs": [],
   "source": [
    "import utils.features as uf\n",
    "c = uf.C(line=1)\n",
    "dc = uf.delta_C_window(line=1, window='1 min', mode='+')"
   ]
  },
  {
   "cell_type": "code",
   "execution_count": null,
   "metadata": {
    "collapsed": true
   },
   "outputs": [],
   "source": [
    "uf.delta_C_window?"
   ]
  },
  {
   "cell_type": "code",
   "execution_count": null,
   "metadata": {
    "collapsed": true
   },
   "outputs": [],
   "source": [
    "morning_team = df2.index[(df2.index.hour >= 5) & (df2.index.hour <= 13)]\n",
    "afternoon_team = df2.index[(df2.index.hour >= 14) & (df2.index.hour <= 22)]"
   ]
  },
  {
   "cell_type": "code",
   "execution_count": null,
   "metadata": {
    "collapsed": false
   },
   "outputs": [],
   "source": [
    "c[morning_team].hist(bins=25)\n",
    "c[afternoon_team].hist(alpha=.7, bins=25)"
   ]
  },
  {
   "cell_type": "code",
   "execution_count": null,
   "metadata": {
    "collapsed": false
   },
   "outputs": [],
   "source": [
    "tbpd.hist2d(dc10[df2.index], np.sqrt(df2.ri_s), sqrt=False, np_kwargs={'bins':(15,40)})\n"
   ]
  },
  {
   "cell_type": "code",
   "execution_count": null,
   "metadata": {
    "collapsed": false
   },
   "outputs": [],
   "source": [
    "tbpd.hist2d(c10[df2.index], df2.ri_s, sqrt=True, np_kwargs=np_kwargs)\n",
    "sns.plt.figure()\n",
    "tbpd.hist2d(c30[df2.index], df2.ri_s, sqrt=True, np_kwargs=np_kwargs)\n"
   ]
  },
  {
   "cell_type": "markdown",
   "metadata": {},
   "source": [
    "### Plot of C and log(median seconds per carcass in reinspection) \n",
    "\n",
    "Counts are sqrt"
   ]
  },
  {
   "cell_type": "code",
   "execution_count": null,
   "metadata": {
    "collapsed": true
   },
   "outputs": [],
   "source": [
    "tbpd = tbdev.reload(tbpd)"
   ]
  },
  {
   "cell_type": "code",
   "execution_count": null,
   "metadata": {
    "collapsed": false
   },
   "outputs": [],
   "source": [
    "sns.plt.figure( figsize=(12,10))\n",
    "tbpd.hist2d(c[df2.index], np.log(df2.ri_s), sqrt=True,\n",
    "                       np_kwargs={'bins':(25,130)})"
   ]
  },
  {
   "cell_type": "code",
   "execution_count": null,
   "metadata": {
    "collapsed": false
   },
   "outputs": [],
   "source": [
    "np_kwargs = {'bins':(22,30), 'range':((0,7),(0,2500))}\n",
    "fig, axs = sns.plt.subplots(1,2, figsize=(10,5))\n",
    "axs = axs.flatten()\n",
    "for ax, team in zip(axs, (morning_team, afternoon_team)):\n",
    "    tbpd.hist2d(np.sqrt(c[team]), df2.ri_s[team], sqrt=True,\n",
    "                ax=ax, np_kwargs=np_kwargs)"
   ]
  },
  {
   "cell_type": "code",
   "execution_count": null,
   "metadata": {
    "collapsed": true
   },
   "outputs": [],
   "source": [
    "from scipy.stats import boxcox"
   ]
  },
  {
   "cell_type": "code",
   "execution_count": null,
   "metadata": {
    "collapsed": false
   },
   "outputs": [],
   "source": [
    "df2.ri_s.hist(bins=30)"
   ]
  },
  {
   "cell_type": "code",
   "execution_count": null,
   "metadata": {
    "collapsed": false
   },
   "outputs": [],
   "source": [
    "pd.Series(boxcox(df2.ri_s)[0]).hist(bins=30)"
   ]
  },
  {
   "cell_type": "code",
   "execution_count": null,
   "metadata": {
    "collapsed": true
   },
   "outputs": [],
   "source": [
    "tbpd = tbdev.reload(tbpd)"
   ]
  },
  {
   "cell_type": "code",
   "execution_count": null,
   "metadata": {
    "collapsed": false
   },
   "outputs": [],
   "source": [
    "tbpd.hist2d(c[afternoon_team], df2.ri_s[afternoon_team], \n",
    "            np_kwargs={'bins':(27,30), 'range':((0,27),(0,10000))})"
   ]
  },
  {
   "cell_type": "code",
   "execution_count": null,
   "metadata": {
    "collapsed": false
   },
   "outputs": [],
   "source": [
    "df2.ri_s[(df2.index.hour > 5) & (df2.index.hour <= 14)].hist(bins=40)"
   ]
  },
  {
   "cell_type": "code",
   "execution_count": null,
   "metadata": {
    "collapsed": false
   },
   "outputs": [],
   "source": [
    "df2.ri_s[(df2.index.hour > 14) & (df2.index.hour <= 22)].hist(bins=40)"
   ]
  },
  {
   "cell_type": "code",
   "execution_count": null,
   "metadata": {
    "collapsed": false
   },
   "outputs": [],
   "source": [
    "sel = slice('2012-09-26', '2012-09-28')\n",
    "sns.plt.figure(figsize=(15,6))\n",
    "(df2[sel].rolling(100, min_periods=10).min().ri_s/60).plot(marker='.')\n",
    "c[sel].resample('10 min').mean().plot()\n",
    "dc[sel].resample('10 min').median().plot()"
   ]
  }
 ],
 "metadata": {
  "kernelspec": {
   "display_name": "Python 3",
   "language": "python",
   "name": "python3"
  },
  "language_info": {
   "codemirror_mode": {
    "name": "ipython",
    "version": 3
   },
   "file_extension": ".py",
   "mimetype": "text/x-python",
   "name": "python",
   "nbconvert_exporter": "python",
   "pygments_lexer": "ipython3",
   "version": "3.5.1"
  }
 },
 "nbformat": 4,
 "nbformat_minor": 0
}
