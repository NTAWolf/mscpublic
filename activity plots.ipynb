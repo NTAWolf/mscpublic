{
 "cells": [
  {
   "cell_type": "code",
   "execution_count": null,
   "metadata": {
    "ExecuteTime": {
     "end_time": "2016-06-02T21:44:12.836110",
     "start_time": "2016-06-02T21:44:12.123667"
    },
    "collapsed": true,
    "run_control": {
     "frozen": false,
     "read_only": false
    }
   },
   "outputs": [],
   "source": [
    "import pandas as pd\n",
    "import numpy as np\n",
    "\n",
    "import utils.data as ud\n",
    "import utils.plotting as up\n",
    "import utils.features as uf\n",
    "\n",
    "import tbtools.dev as tbdev\n",
    "\n",
    "import seaborn as sns\n",
    "%matplotlib inline"
   ]
  },
  {
   "cell_type": "code",
   "execution_count": null,
   "metadata": {
    "ExecuteTime": {
     "end_time": "2016-06-02T21:44:15.257592",
     "start_time": "2016-06-02T21:44:12.837701"
    },
    "collapsed": false,
    "run_control": {
     "frozen": false,
     "read_only": false
    }
   },
   "outputs": [],
   "source": [
    "bbh = ud.enhanced.get('bbh')"
   ]
  },
  {
   "cell_type": "markdown",
   "metadata": {},
   "source": [
    "#### code for heatmap, half_hourly"
   ]
  },
  {
   "cell_type": "code",
   "execution_count": null,
   "metadata": {
    "ExecuteTime": {
     "end_time": "2016-06-02T21:55:33.129100",
     "start_time": "2016-06-02T21:55:33.094200"
    },
    "collapsed": true,
    "run_control": {
     "frozen": false,
     "read_only": false
    }
   },
   "outputs": [],
   "source": [
    "def heatmap(df, cmap=None, nancolor=None, **kwargs):\n",
    "    cmap = sns.mpl.cm.get_cmap(cmap or 'hot')\n",
    "    cmap.set_bad(nancolor or '#444455')\n",
    "\n",
    "    sns.plt.figure(figsize=(10,10))\n",
    "    return sns.heatmap(df.replace(0, np.nan), cmap=cmap, \n",
    "                linewidths=1, linecolor='#333344',\n",
    "                **kwargs)\n",
    "    \n",
    "def hourfloat2str(hf):\n",
    "    h = int(hf)\n",
    "    m = int(np.round((hf % 1)*60))\n",
    "    return '{:02}:{:02}'.format(h,m)\n",
    "    if int(hf) < hf:\n",
    "        return '{}:30'.format(int(hf))\n",
    "    return '{}:00'.format(int(hf))\n",
    "\n",
    "def half_hourly_summary_per_day(df, force_september=True, summary='count'):\n",
    "    col = df.columns[0]\n",
    "    df = df[col].resample('30 min')\n",
    "    if summary == 'count':\n",
    "        df = df.count()\n",
    "    elif summary == 'mean':\n",
    "        df = df.mean()\n",
    "    elif summary == 'sum':\n",
    "        df = df.sum()\n",
    "    else:\n",
    "        raise NotImplementedError()\n",
    "    df = df.to_frame()\n",
    "    df['Date'] = df.index.date\n",
    "    df['hour'] = df.index.hour\n",
    "    df['hour'] += df.index.minute / 60\n",
    "    df = df.pivot(index='hour', columns='Date', values=col)\n",
    "    df.index = df.index.map(hourfloat2str)\n",
    "    df.index.name = 'Time of day'\n",
    "    df = df.iloc[::-1]\n",
    "    if force_september:\n",
    "        enforce = [x.date() for x in pd.date_range('2012-09-01', '2012-10-01', freq='D')]\n",
    "        for e in enforce:\n",
    "            if not e in df.columns:\n",
    "                df[e] = np.nan\n",
    "    df = df.sort_index(axis=1)\n",
    "    return df"
   ]
  },
  {
   "cell_type": "code",
   "execution_count": null,
   "metadata": {
    "ExecuteTime": {
     "end_time": "2016-06-02T21:59:19.114049",
     "start_time": "2016-06-02T21:59:19.111940"
    },
    "collapsed": true,
    "run_control": {
     "frozen": false,
     "read_only": false
    }
   },
   "outputs": [],
   "source": [
    "mi, ma = 0, 90"
   ]
  },
  {
   "cell_type": "markdown",
   "metadata": {},
   "source": [
    "# BBH"
   ]
  },
  {
   "cell_type": "markdown",
   "metadata": {},
   "source": [
    "### Line 1\n",
    "\n"
   ]
  },
  {
   "cell_type": "markdown",
   "metadata": {},
   "source": [
    "#### Input line 1"
   ]
  },
  {
   "cell_type": "code",
   "execution_count": null,
   "metadata": {
    "ExecuteTime": {
     "end_time": "2016-06-02T21:59:21.877003",
     "start_time": "2016-06-02T21:59:20.771903"
    },
    "collapsed": false,
    "run_control": {
     "frozen": false,
     "read_only": false
    }
   },
   "outputs": [],
   "source": [
    "b = half_hourly_summary_per_day(bbh[(bbh.reinspection_change == 1) & (bbh.reinspection_change_line == 1)])\n",
    "heatmap(b, vmin=mi, vmax=ma)\n",
    "up.save_fig('data/bbh/activity_l1_in.png')"
   ]
  },
  {
   "cell_type": "markdown",
   "metadata": {},
   "source": [
    "#### Output line 1"
   ]
  },
  {
   "cell_type": "code",
   "execution_count": null,
   "metadata": {
    "ExecuteTime": {
     "end_time": "2016-06-02T21:59:45.844689",
     "start_time": "2016-06-02T21:59:44.742595"
    },
    "collapsed": false,
    "run_control": {
     "frozen": false,
     "read_only": false
    }
   },
   "outputs": [],
   "source": [
    "b = half_hourly_summary_per_day(bbh[(bbh.reinspection_change == -1) & (bbh.reinspection_change_line == 1)])\n",
    "heatmap(b, vmin=mi, vmax=ma)\n",
    "up.save_fig('data/bbh/activity_l1_out.png')"
   ]
  },
  {
   "cell_type": "markdown",
   "metadata": {},
   "source": [
    "### Line 2\n",
    "\n"
   ]
  },
  {
   "cell_type": "markdown",
   "metadata": {},
   "source": [
    "#### Input line 2"
   ]
  },
  {
   "cell_type": "code",
   "execution_count": null,
   "metadata": {
    "ExecuteTime": {
     "end_time": "2016-06-02T21:59:50.174450",
     "start_time": "2016-06-02T21:59:49.090483"
    },
    "collapsed": false,
    "run_control": {
     "frozen": false,
     "read_only": false
    }
   },
   "outputs": [],
   "source": [
    "b = half_hourly_summary_per_day(bbh[(bbh.reinspection_change == 1) & (bbh.reinspection_change_line == 2)])\n",
    "heatmap(b, vmin=mi, vmax=ma)\n",
    "up.save_fig('data/bbh/activity_l2_in.png')"
   ]
  },
  {
   "cell_type": "markdown",
   "metadata": {},
   "source": [
    "#### Output line "
   ]
  },
  {
   "cell_type": "code",
   "execution_count": null,
   "metadata": {
    "ExecuteTime": {
     "end_time": "2016-06-02T21:59:53.726065",
     "start_time": "2016-06-02T21:59:52.649622"
    },
    "collapsed": false,
    "run_control": {
     "frozen": false,
     "read_only": false
    }
   },
   "outputs": [],
   "source": [
    "b = half_hourly_summary_per_day(bbh[(bbh.reinspection_change == -1) & (bbh.reinspection_change_line == 2)])\n",
    "heatmap(b, vmin=mi, vmax=ma)\n",
    "up.save_fig('data/bbh/activity_l2_out.png')"
   ]
  },
  {
   "cell_type": "markdown",
   "metadata": {},
   "source": [
    "### BBH activity overall"
   ]
  },
  {
   "cell_type": "code",
   "execution_count": null,
   "metadata": {
    "ExecuteTime": {
     "end_time": "2016-06-02T22:00:01.645878",
     "start_time": "2016-06-02T22:00:00.557692"
    },
    "collapsed": false,
    "run_control": {
     "frozen": false,
     "read_only": false
    }
   },
   "outputs": [],
   "source": [
    "b = half_hourly_summary_per_day(bbh)\n",
    "heatmap(b)\n",
    "up.save_fig('data/bbh/activity_full.png')"
   ]
  },
  {
   "cell_type": "markdown",
   "metadata": {},
   "source": [
    "# Almhist"
   ]
  },
  {
   "cell_type": "code",
   "execution_count": null,
   "metadata": {
    "ExecuteTime": {
     "end_time": "2016-06-02T22:00:18.804940",
     "start_time": "2016-06-02T22:00:14.207879"
    },
    "collapsed": false,
    "run_control": {
     "frozen": false,
     "read_only": false
    }
   },
   "outputs": [],
   "source": [
    "alm = ud.raw.get('almhist')"
   ]
  },
  {
   "cell_type": "code",
   "execution_count": null,
   "metadata": {
    "ExecuteTime": {
     "end_time": "2016-06-02T22:00:07.536114",
     "start_time": "2016-06-02T22:00:07.533980"
    },
    "collapsed": true,
    "run_control": {
     "frozen": false,
     "read_only": false
    }
   },
   "outputs": [],
   "source": [
    "mi, ma = None, None"
   ]
  },
  {
   "cell_type": "code",
   "execution_count": null,
   "metadata": {
    "ExecuteTime": {
     "end_time": "2016-06-02T22:00:24.130809",
     "start_time": "2016-06-02T22:00:23.088326"
    },
    "collapsed": false,
    "run_control": {
     "frozen": false,
     "read_only": false
    }
   },
   "outputs": [],
   "source": [
    "b = half_hourly_summary_per_day(alm[alm.AlmState==1])\n",
    "heatmap(b, vmin=mi, vmax=ma)\n",
    "up.save_fig('data/alm/activity_raised.png')"
   ]
  },
  {
   "cell_type": "code",
   "execution_count": null,
   "metadata": {
    "ExecuteTime": {
     "end_time": "2016-06-02T22:00:28.245780",
     "start_time": "2016-06-02T22:00:27.174053"
    },
    "collapsed": false,
    "run_control": {
     "frozen": false,
     "read_only": false
    }
   },
   "outputs": [],
   "source": [
    "b = half_hourly_summary_per_day(alm[alm.AlmState==2])\n",
    "heatmap(b, vmin=mi, vmax=ma)\n",
    "up.save_fig('data/alm/activity_ack.png')"
   ]
  },
  {
   "cell_type": "code",
   "execution_count": null,
   "metadata": {
    "ExecuteTime": {
     "end_time": "2016-06-02T22:00:30.716679",
     "start_time": "2016-06-02T22:00:29.600614"
    },
    "collapsed": false,
    "run_control": {
     "frozen": false,
     "read_only": false
    }
   },
   "outputs": [],
   "source": [
    "b = half_hourly_summary_per_day(alm)\n",
    "heatmap(b, vmin=mi, vmax=ma)\n",
    "up.save_fig('data/alm/activity_full.png')"
   ]
  },
  {
   "cell_type": "markdown",
   "metadata": {},
   "source": [
    "# OrganData\n",
    "Intestine remover data"
   ]
  },
  {
   "cell_type": "code",
   "execution_count": null,
   "metadata": {
    "ExecuteTime": {
     "end_time": "2016-06-02T22:00:34.080468",
     "start_time": "2016-06-02T22:00:33.625707"
    },
    "collapsed": false,
    "run_control": {
     "frozen": false,
     "read_only": false
    }
   },
   "outputs": [],
   "source": [
    "od = ud.raw.get('organdata')"
   ]
  },
  {
   "cell_type": "code",
   "execution_count": null,
   "metadata": {
    "ExecuteTime": {
     "end_time": "2016-05-27T20:52:58.434255",
     "start_time": "2016-05-27T20:52:58.409998"
    },
    "collapsed": false,
    "run_control": {
     "frozen": false,
     "read_only": false
    }
   },
   "outputs": [],
   "source": [
    "od.groupby(['Behandlet', 'Orientering']).size().unstack()"
   ]
  },
  {
   "cell_type": "code",
   "execution_count": null,
   "metadata": {
    "ExecuteTime": {
     "end_time": "2016-05-27T20:58:33.100837",
     "start_time": "2016-05-27T20:58:33.084008"
    },
    "collapsed": false,
    "run_control": {
     "frozen": false,
     "read_only": false
    }
   },
   "outputs": [],
   "source": [
    "od.Laengdemaal.head()"
   ]
  },
  {
   "cell_type": "code",
   "execution_count": null,
   "metadata": {
    "ExecuteTime": {
     "end_time": "2016-05-27T20:57:26.036093",
     "start_time": "2016-05-27T20:57:26.031107"
    },
    "collapsed": false,
    "run_control": {
     "frozen": false,
     "read_only": false
    }
   },
   "outputs": [],
   "source": [
    "(od.Laengdemaal > od.Albuemaal).sum()"
   ]
  },
  {
   "cell_type": "code",
   "execution_count": null,
   "metadata": {
    "ExecuteTime": {
     "end_time": "2016-05-27T19:58:00.867926",
     "start_time": "2016-05-27T19:58:00.861320"
    },
    "collapsed": false,
    "run_control": {
     "frozen": false,
     "read_only": false
    }
   },
   "outputs": [],
   "source": [
    "od.columns"
   ]
  },
  {
   "cell_type": "code",
   "execution_count": null,
   "metadata": {
    "ExecuteTime": {
     "end_time": "2016-06-02T22:00:41.951312",
     "start_time": "2016-06-02T22:00:40.861686"
    },
    "collapsed": false,
    "run_control": {
     "frozen": false,
     "read_only": false
    }
   },
   "outputs": [],
   "source": [
    "b = half_hourly_summary_per_day(od)\n",
    "heatmap(b, vmin=mi, vmax=ma)\n",
    "up.save_fig('data/od/activity.png')"
   ]
  },
  {
   "cell_type": "markdown",
   "metadata": {},
   "source": [
    "# Raavaredb"
   ]
  },
  {
   "cell_type": "code",
   "execution_count": null,
   "metadata": {
    "ExecuteTime": {
     "end_time": "2016-06-02T22:00:47.414591",
     "start_time": "2016-06-02T22:00:46.072864"
    },
    "collapsed": false,
    "run_control": {
     "frozen": false,
     "read_only": false
    }
   },
   "outputs": [],
   "source": [
    "rvd = ud.raw.get('raavaredb')"
   ]
  },
  {
   "cell_type": "code",
   "execution_count": null,
   "metadata": {
    "ExecuteTime": {
     "end_time": "2016-05-27T21:32:00.157939",
     "start_time": "2016-05-27T21:32:00.147037"
    },
    "collapsed": false,
    "run_control": {
     "frozen": false,
     "read_only": false
    }
   },
   "outputs": [],
   "source": [
    "rvd.columns"
   ]
  },
  {
   "cell_type": "code",
   "execution_count": null,
   "metadata": {
    "ExecuteTime": {
     "end_time": "2016-05-27T21:32:56.245670",
     "start_time": "2016-05-27T21:32:56.232599"
    },
    "collapsed": false,
    "run_control": {
     "frozen": false,
     "read_only": false
    }
   },
   "outputs": [],
   "source": [
    "rvd.LeverandorNr.value_counts().head()"
   ]
  },
  {
   "cell_type": "code",
   "execution_count": null,
   "metadata": {
    "ExecuteTime": {
     "end_time": "2016-05-27T21:37:00.630450",
     "start_time": "2016-05-27T21:37:00.620949"
    },
    "collapsed": false,
    "run_control": {
     "frozen": false,
     "read_only": false
    }
   },
   "outputs": [],
   "source": [
    "rvd.Koen.value_counts()"
   ]
  },
  {
   "cell_type": "code",
   "execution_count": null,
   "metadata": {
    "ExecuteTime": {
     "end_time": "2016-05-27T21:30:05.273672",
     "start_time": "2016-05-27T21:30:04.979032"
    },
    "collapsed": false,
    "run_control": {
     "frozen": false,
     "read_only": false
    }
   },
   "outputs": [],
   "source": [
    "(rvd.Vaegt_Ukorr - rvd.Vaegt_Afregning).hist(bins=50jk)"
   ]
  },
  {
   "cell_type": "code",
   "execution_count": null,
   "metadata": {
    "ExecuteTime": {
     "end_time": "2016-06-02T22:00:52.486231",
     "start_time": "2016-06-02T22:00:51.382506"
    },
    "collapsed": false,
    "run_control": {
     "frozen": false,
     "read_only": false
    }
   },
   "outputs": [],
   "source": [
    "b = half_hourly_summary_per_day(rvd)\n",
    "heatmap(b, vmin=mi, vmax=ma)\n",
    "up.save_fig('data/rvd/activity.png')"
   ]
  },
  {
   "cell_type": "markdown",
   "metadata": {},
   "source": [
    "# Bemaerkningkode"
   ]
  },
  {
   "cell_type": "code",
   "execution_count": null,
   "metadata": {
    "ExecuteTime": {
     "end_time": "2016-06-02T22:00:56.486517",
     "start_time": "2016-06-02T22:00:56.120280"
    },
    "collapsed": false,
    "run_control": {
     "frozen": false,
     "read_only": false
    }
   },
   "outputs": [],
   "source": [
    "bmk = ud.raw.get('bemaerk')"
   ]
  },
  {
   "cell_type": "code",
   "execution_count": null,
   "metadata": {
    "ExecuteTime": {
     "end_time": "2016-06-02T22:00:58.465611",
     "start_time": "2016-06-02T22:00:57.393200"
    },
    "collapsed": false,
    "run_control": {
     "frozen": false,
     "read_only": false
    }
   },
   "outputs": [],
   "source": [
    "b = half_hourly_summary_per_day(bmk)\n",
    "heatmap(b, vmin=mi, vmax=ma)\n",
    "up.save_fig('data/bmk/activity.png')"
   ]
  },
  {
   "cell_type": "markdown",
   "metadata": {},
   "source": [
    "# all together now! "
   ]
  },
  {
   "cell_type": "code",
   "execution_count": null,
   "metadata": {
    "ExecuteTime": {
     "end_time": "2016-06-02T22:01:07.059767",
     "start_time": "2016-06-02T22:01:02.353789"
    },
    "collapsed": false,
    "run_control": {
     "frozen": false,
     "read_only": false
    }
   },
   "outputs": [],
   "source": [
    "import functools\n",
    "b = functools.reduce(lambda x,y: x+y, \n",
    "                     map(lambda x: x.fillna(0).clip_upper(1), \n",
    "                         map(half_hourly_summary_per_day, \n",
    "                             (bbh, od, bmk, rvd, alm))))\n",
    "heatmap(b, cmap=None, annot=True, cbar=False)\n",
    "up.save_fig('data/activity_raw5_overlap.png')"
   ]
  },
  {
   "cell_type": "markdown",
   "metadata": {},
   "source": [
    "# almhist AND bbh reinspection"
   ]
  },
  {
   "cell_type": "code",
   "execution_count": null,
   "metadata": {
    "ExecuteTime": {
     "end_time": "2016-06-02T22:01:15.856369",
     "start_time": "2016-06-02T22:01:13.326912"
    },
    "collapsed": false,
    "run_control": {
     "frozen": false,
     "read_only": false
    }
   },
   "outputs": [],
   "source": [
    "import functools\n",
    "b = functools.reduce(lambda x,y: (x+y)==2, \n",
    "                     map(lambda x: x.fillna(0).clip_upper(1),\n",
    "                         map(half_hourly_summary_per_day, \n",
    "                             (bbh[bbh.reinspection_change_line==1], alm))))\n",
    "\n",
    "b += 2*functools.reduce(lambda x,y: (x+y)==2, \n",
    "                     map(lambda x: x.fillna(0).clip_upper(1),\n",
    "                         map(half_hourly_summary_per_day, \n",
    "                             (bbh[bbh.reinspection_change_line==2], alm))))\n",
    "heatmap(b, cmap=None, annot=True, cbar=False)\n",
    "up.save_fig('sampling/activity_bbh_alm_overlap.png')"
   ]
  },
  {
   "cell_type": "code",
   "execution_count": null,
   "metadata": {
    "collapsed": true,
    "run_control": {
     "frozen": false,
     "read_only": false
    }
   },
   "outputs": [],
   "source": []
  },
  {
   "cell_type": "markdown",
   "metadata": {},
   "source": [
    "# Preconsolidated data"
   ]
  },
  {
   "cell_type": "code",
   "execution_count": null,
   "metadata": {
    "ExecuteTime": {
     "end_time": "2016-06-02T22:01:54.521970",
     "start_time": "2016-06-02T22:01:41.362550"
    },
    "collapsed": false,
    "run_control": {
     "frozen": false,
     "read_only": false
    }
   },
   "outputs": [],
   "source": [
    "pc = ud.preconsolidated.get('2012-01-01', '2012-12-31', db=1)"
   ]
  },
  {
   "cell_type": "code",
   "execution_count": null,
   "metadata": {
    "ExecuteTime": {
     "end_time": "2016-06-02T22:02:09.702827",
     "start_time": "2016-06-02T22:01:54.523555"
    },
    "collapsed": false,
    "run_control": {
     "frozen": false,
     "read_only": false
    }
   },
   "outputs": [],
   "source": [
    "pc2 = ud.preconsolidated.get('2012-01-01', '2012-12-31', db=2)"
   ]
  },
  {
   "cell_type": "code",
   "execution_count": null,
   "metadata": {
    "ExecuteTime": {
     "end_time": "2016-06-02T22:02:09.756795",
     "start_time": "2016-06-02T22:02:09.704700"
    },
    "collapsed": true,
    "run_control": {
     "frozen": false,
     "read_only": false
    }
   },
   "outputs": [],
   "source": [
    "pc = pc.set_index('Timestamp')"
   ]
  },
  {
   "cell_type": "code",
   "execution_count": null,
   "metadata": {
    "ExecuteTime": {
     "end_time": "2016-06-02T22:02:09.832513",
     "start_time": "2016-06-02T22:02:09.758276"
    },
    "collapsed": false,
    "run_control": {
     "frozen": false,
     "read_only": false
    }
   },
   "outputs": [],
   "source": [
    "pc2 = pc2.set_index('Timestamp')"
   ]
  },
  {
   "cell_type": "code",
   "execution_count": null,
   "metadata": {
    "ExecuteTime": {
     "end_time": "2016-06-02T22:02:11.066615",
     "start_time": "2016-06-02T22:02:09.833812"
    },
    "collapsed": false,
    "run_control": {
     "frozen": false,
     "read_only": false
    }
   },
   "outputs": [],
   "source": [
    "b = half_hourly_summary_per_day(pc)\n",
    "ax = heatmap(b, vmin=0, vmax=450)\n",
    "xtl = ax.get_xticklabels()\n",
    "ax.set_xticklabels([xtl[i].get_text()[5:] if i%2==0 else '' for i in range(0,len(xtl))]);\n",
    "up.save_fig('data/precons/activity_sepoct.png')"
   ]
  },
  {
   "cell_type": "code",
   "execution_count": null,
   "metadata": {
    "ExecuteTime": {
     "end_time": "2016-06-02T22:02:12.113088",
     "start_time": "2016-06-02T22:02:11.068017"
    },
    "collapsed": false,
    "run_control": {
     "frozen": false,
     "read_only": false
    }
   },
   "outputs": [],
   "source": [
    "b = half_hourly_summary_per_day(pc2, force_september=False)\n",
    "ax = heatmap(b, vmin=0, vmax=450)\n",
    "xtl = ax.get_xticklabels()\n",
    "ax.set_xticklabels([xtl[i].get_text()[5:] if i%2==0 else '' for i in range(0,len(xtl))]);\n",
    "up.save_fig('data/precons/activity_novdec.png')"
   ]
  },
  {
   "cell_type": "code",
   "execution_count": null,
   "metadata": {
    "ExecuteTime": {
     "end_time": "2016-05-28T09:21:46.230235",
     "start_time": "2016-05-28T09:21:46.223212"
    },
    "collapsed": false,
    "run_control": {
     "frozen": false,
     "read_only": false
    }
   },
   "outputs": [],
   "source": [
    "bmk.Kode.nunique()"
   ]
  },
  {
   "cell_type": "code",
   "execution_count": null,
   "metadata": {
    "ExecuteTime": {
     "end_time": "2016-05-28T09:12:35.139505",
     "start_time": "2016-05-28T09:12:35.097667"
    },
    "collapsed": false,
    "run_control": {
     "frozen": false,
     "read_only": false
    }
   },
   "outputs": [],
   "source": [
    "pc.head()"
   ]
  },
  {
   "cell_type": "markdown",
   "metadata": {},
   "source": [
    "# Features"
   ]
  },
  {
   "cell_type": "markdown",
   "metadata": {},
   "source": [
    "## $\\Delta_{+} C$ and $\\Delta_{-} C$, both lines"
   ]
  },
  {
   "cell_type": "code",
   "execution_count": null,
   "metadata": {
    "ExecuteTime": {
     "end_time": "2016-06-02T22:03:37.034854",
     "start_time": "2016-06-02T22:03:32.609634"
    },
    "collapsed": false
   },
   "outputs": [],
   "source": [
    "import itertools\n",
    "for line, d in itertools.product((1,2), (-1,1)):\n",
    "    print(line, d)\n",
    "    f = half_hourly_summary_per_day(\n",
    "            bbh[  (bbh.reinspection_change == d) \n",
    "                & (bbh.reinspection_change_line==line)],\n",
    "                              summary='count')\n",
    "    heatmap(f, vmin=0, vmax=90)\n",
    "    name = 'features/activity_dc_line{}_{}.png'.format(line, 'in' if d>0 else 'out')\n",
    "    up.save_fig(name)\n"
   ]
  },
  {
   "cell_type": "markdown",
   "metadata": {},
   "source": [
    "## $C$, mean per half hour"
   ]
  },
  {
   "cell_type": "code",
   "execution_count": null,
   "metadata": {
    "ExecuteTime": {
     "end_time": "2016-06-02T22:03:49.171494",
     "start_time": "2016-06-02T22:03:42.423871"
    },
    "collapsed": false
   },
   "outputs": [],
   "source": [
    "for line in (1,2):\n",
    "    f = half_hourly_summary_per_day(uf.C(line=line).to_frame(), summary='mean')\n",
    "    heatmap(f, vmin=0, vmax=23)\n",
    "    name = 'features/activity_c_line{}.png'.format(line)\n",
    "    up.save_fig(name)"
   ]
  },
  {
   "cell_type": "markdown",
   "metadata": {},
   "source": [
    "## $R$"
   ]
  },
  {
   "cell_type": "code",
   "execution_count": null,
   "metadata": {
    "ExecuteTime": {
     "end_time": "2016-06-02T22:04:20.515120",
     "start_time": "2016-06-02T22:03:53.973027"
    },
    "collapsed": false
   },
   "outputs": [],
   "source": [
    "for line in (1,2):\n",
    "    f = half_hourly_summary_per_day(uf.R(1, 10).to_frame(), summary='mean')\n",
    "    heatmap(f)#, vmin=0, vmax=23)\n",
    "    name = 'features/activity_r_line{}.png'.format(line)\n",
    "    up.save_fig(name)"
   ]
  },
  {
   "cell_type": "code",
   "execution_count": null,
   "metadata": {
    "ExecuteTime": {
     "end_time": "2016-06-02T22:04:23.877692",
     "start_time": "2016-06-02T22:04:23.806563"
    },
    "collapsed": false,
    "run_control": {
     "frozen": false,
     "read_only": false
    }
   },
   "outputs": [],
   "source": [
    "df1 = ud.design_matrices.get_by_settings(sample_step='30 min', lag='0 min', dcwindow='30 min', rn=30, boawindow='30 min',\n",
    "                                        line=1)"
   ]
  },
  {
   "cell_type": "code",
   "execution_count": null,
   "metadata": {
    "ExecuteTime": {
     "end_time": "2016-06-02T22:04:27.574182",
     "start_time": "2016-06-02T22:04:27.565392"
    },
    "collapsed": false,
    "run_control": {
     "frozen": false,
     "read_only": false
    }
   },
   "outputs": [],
   "source": [
    "df1 = pd.concat([x['x'] for x in df1.values()]).sort_index()"
   ]
  },
  {
   "cell_type": "code",
   "execution_count": null,
   "metadata": {
    "ExecuteTime": {
     "end_time": "2016-05-30T22:01:04.993164",
     "start_time": "2016-05-30T22:01:04.987455"
    },
    "collapsed": false,
    "run_control": {
     "frozen": false,
     "read_only": false
    }
   },
   "outputs": [],
   "source": [
    "df1.columns"
   ]
  },
  {
   "cell_type": "code",
   "execution_count": null,
   "metadata": {
    "ExecuteTime": {
     "end_time": "2016-06-02T22:04:33.238878",
     "start_time": "2016-06-02T22:04:32.357665"
    },
    "collapsed": false,
    "run_control": {
     "frozen": false,
     "read_only": false
    }
   },
   "outputs": [],
   "source": [
    "f = half_hourly_summary_per_day(df1[[\n",
    "                                'Δ+C W=30 min L=0 min',\n",
    "#                                 'R N=30 L=0 min',\n",
    "#                                 'Alarm count',\n",
    "                                ]],\n",
    "                          summary='mean')\n",
    "\n",
    "heatmap(f)"
   ]
  },
  {
   "cell_type": "markdown",
   "metadata": {
    "heading_collapsed": true
   },
   "source": [
    "#### What the ...???"
   ]
  },
  {
   "cell_type": "code",
   "execution_count": null,
   "metadata": {
    "ExecuteTime": {
     "end_time": "2016-06-02T10:35:43.973799",
     "start_time": "2016-06-02T10:35:43.850590"
    },
    "collapsed": false,
    "hidden": true,
    "run_control": {
     "frozen": false,
     "read_only": false
    }
   },
   "outputs": [],
   "source": [
    "all(f == half_hourly_summary_per_day(\n",
    "        bbh[  (bbh.reinspection_change == 1) \n",
    "            & (bbh.reinspection_change_line==1)],\n",
    "                          summary='count'))\n",
    "# heatmap(f, annot=True)"
   ]
  },
  {
   "cell_type": "code",
   "execution_count": null,
   "metadata": {
    "ExecuteTime": {
     "end_time": "2016-06-02T10:34:28.908089",
     "start_time": "2016-06-02T10:34:28.831134"
    },
    "collapsed": false,
    "hidden": true
   },
   "outputs": [],
   "source": [
    "line = 2\n",
    "# (half_hourly_summary_per_day(\n",
    "#         bbh[  (bbh.reinspection_change == 1) \n",
    "#             & (bbh.reinspection_change_line==line)],\n",
    "#                           summary='count')\n",
    "# - \n",
    "half_hourly_summary_per_day(\n",
    "        bbh[  (bbh.reinspection_change == -1) \n",
    "            & (bbh.reinspection_change_line==line)],\n",
    "                          summary='count').max() #).sum()"
   ]
  },
  {
   "cell_type": "markdown",
   "metadata": {},
   "source": [
    "## Throughput"
   ]
  },
  {
   "cell_type": "code",
   "execution_count": null,
   "metadata": {
    "ExecuteTime": {
     "end_time": "2016-06-02T22:10:41.785668",
     "start_time": "2016-06-02T22:10:38.405839"
    },
    "collapsed": false,
    "scrolled": false
   },
   "outputs": [],
   "source": [
    "for tx, vmin, vmax in ((12,30,209),(13,30,209),(17,None,None)):\n",
    "    f = half_hourly_summary_per_day(\n",
    "        (bbh.Tx == tx).to_frame(), summary='sum')\n",
    "    heatmap(f, vmin=vmin, vmax=vmax)\n",
    "    up.save_fig('data/throughput_calendar_tx{}.png'.format(tx))"
   ]
  },
  {
   "cell_type": "markdown",
   "metadata": {},
   "source": [
    "# "
   ]
  }
 ],
 "metadata": {
  "kernelspec": {
   "display_name": "Python 3",
   "language": "python",
   "name": "python3"
  },
  "language_info": {
   "codemirror_mode": {
    "name": "ipython",
    "version": 3
   },
   "file_extension": ".py",
   "mimetype": "text/x-python",
   "name": "python",
   "nbconvert_exporter": "python",
   "pygments_lexer": "ipython3",
   "version": "3.5.1"
  }
 },
 "nbformat": 4,
 "nbformat_minor": 0
}
