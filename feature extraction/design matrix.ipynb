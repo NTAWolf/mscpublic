{
 "cells": [
  {
   "cell_type": "code",
   "execution_count": null,
   "metadata": {
    "ExecuteTime": {
     "end_time": "2016-05-05T13:35:41.961140",
     "start_time": "2016-05-05T13:35:41.939924"
    },
    "collapsed": false,
    "run_control": {
     "frozen": false,
     "read_only": false
    }
   },
   "outputs": [],
   "source": [
    "import tbtools.dev as tbdev\n",
    "import utils.data.design_matrices as dm\n",
    "import utils.data as ud\n",
    "import utils.features as uf\n",
    "\n",
    "import pandas as pd\n",
    "import numpy as np\n",
    "import seaborn as sns\n",
    "%matplotlib inline"
   ]
  },
  {
   "cell_type": "markdown",
   "metadata": {},
   "source": [
    "#### Gets a memoryerror"
   ]
  },
  {
   "cell_type": "code",
   "execution_count": null,
   "metadata": {
    "ExecuteTime": {
     "end_time": "2016-05-05T12:03:01.701989",
     "start_time": "2016-05-05T12:01:38.818309"
    },
    "collapsed": false
   },
   "outputs": [],
   "source": [
    "boa = uf.bag_of_alarms([1,2], '5 min', '5 min')"
   ]
  },
  {
   "cell_type": "markdown",
   "metadata": {},
   "source": [
    "# Design matrices"
   ]
  },
  {
   "cell_type": "markdown",
   "metadata": {
    "heading_collapsed": true
   },
   "source": [
    "## The issue of sample rate\n",
    "\n",
    "Try 2 minutes, between 0600 and 2310."
   ]
  },
  {
   "cell_type": "markdown",
   "metadata": {
    "heading_collapsed": true,
    "hidden": true
   },
   "source": [
    "#### Discussion\n",
    "C, dC, R, bag-of-alarms are all sampled at a frequency of 4 seconds - but only if new that sample contains info.\n",
    "Due to memory limitations, we cannot resample bag-of-alarms to full 4 seconds over the whole period (September 2012).\n",
    "\n",
    "But some things can help us:\n",
    "1. The slaughterhouse is inactive at nighttime\n",
    "    - Restrict sampling to work hours (approx 0600-2315\n",
    "2. The data is highly autocorrelated\n",
    "    - So we can take reasonably distant samples and use them, dropping the samples lying in-between, as they are already really correlated with the surrounding samples.\n",
    "    \n",
    "So, using uniformly distributed samples over the whole day, we can get a reasonably good representation of each day.\n",
    "\n",
    "Depending on the window sizes and lags used, we can then ensure that the samples don't overlap: So for instance, for \n",
    "Since we're looking to predict 5 minutes ahead (at first), I think that the frequency should be <= 5 minutes.\n",
    "\n",
    "But given the following example, where C goes from very little to a lot in 5 minutes, perhaps it should be more often. Let's try 2 minutes?"
   ]
  },
  {
   "cell_type": "markdown",
   "metadata": {
    "heading_collapsed": true,
    "hidden": true
   },
   "source": [
    "#### An example of quick change over 5 minutes"
   ]
  },
  {
   "cell_type": "code",
   "execution_count": null,
   "metadata": {
    "ExecuteTime": {
     "end_time": "2016-05-05T13:58:36.393527",
     "start_time": "2016-05-05T13:58:31.816713"
    },
    "collapsed": false,
    "hidden": true
   },
   "outputs": [],
   "source": [
    "c = uf.C(1)"
   ]
  },
  {
   "cell_type": "code",
   "execution_count": null,
   "metadata": {
    "ExecuteTime": {
     "end_time": "2016-05-05T14:16:15.142751",
     "start_time": "2016-05-05T14:16:14.922661"
    },
    "collapsed": false,
    "hidden": true
   },
   "outputs": [],
   "source": [
    "c['2012-09-07 15:50':'2012-09-07 16:10'].plot()"
   ]
  },
  {
   "cell_type": "markdown",
   "metadata": {
    "heading_collapsed": true,
    "hidden": true
   },
   "source": [
    "#### What are the working hours?\n",
    "\n",
    "First C: 0609\n",
    "Latest C: 2301"
   ]
  },
  {
   "cell_type": "code",
   "execution_count": null,
   "metadata": {
    "ExecuteTime": {
     "end_time": "2016-05-05T14:22:06.803663",
     "start_time": "2016-05-05T14:22:06.457704"
    },
    "collapsed": false,
    "hidden": true
   },
   "outputs": [],
   "source": [
    "df = c.groupby(c.index.date).agg({'min':lambda x: x.index.time.min(), 'max':lambda x: x.index.time.max()})\n",
    "print('minimum:\\n', df.min())\n",
    "print('maximum:\\n', df.max())"
   ]
  },
  {
   "cell_type": "markdown",
   "metadata": {},
   "source": [
    "## Do it "
   ]
  },
  {
   "cell_type": "code",
   "execution_count": null,
   "metadata": {
    "ExecuteTime": {
     "end_time": "2016-05-05T14:40:33.594172",
     "start_time": "2016-05-05T14:40:33.567137"
    },
    "collapsed": true
   },
   "outputs": [],
   "source": [
    "ud = tbdev.reload(ud)"
   ]
  },
  {
   "cell_type": "markdown",
   "metadata": {},
   "source": [
    "#### Overall settings"
   ]
  },
  {
   "cell_type": "code",
   "execution_count": null,
   "metadata": {
    "ExecuteTime": {
     "end_time": "2016-05-05T18:28:50.170711",
     "start_time": "2016-05-05T18:28:50.166310"
    },
    "collapsed": true
   },
   "outputs": [],
   "source": [
    "daily_start = '06:00'\n",
    "daily_end = '23:10'"
   ]
  },
  {
   "cell_type": "markdown",
   "metadata": {
    "heading_collapsed": true
   },
   "source": [
    "#### Code stuff"
   ]
  },
  {
   "cell_type": "code",
   "execution_count": null,
   "metadata": {
    "ExecuteTime": {
     "end_time": "2016-05-05T18:28:50.465004",
     "start_time": "2016-05-05T18:28:50.456176"
    },
    "collapsed": false,
    "hidden": true
   },
   "outputs": [],
   "source": [
    "uf = tbdev.reload(uf)"
   ]
  },
  {
   "cell_type": "code",
   "execution_count": null,
   "metadata": {
    "ExecuteTime": {
     "end_time": "2016-05-05T18:28:50.891735",
     "start_time": "2016-05-05T18:28:50.888659"
    },
    "collapsed": true,
    "hidden": true
   },
   "outputs": [],
   "source": [
    "def get_name(sample_step, split, lag, dcwindow, rn, boawindow):\n",
    "    return '  '.join(['ss {}', 'L {}', 'dcw {}', \n",
    "                      'rn {}', 'bw {}', 'split {}']\n",
    "                    ).format(sample_step, lag, dcwindow, \n",
    "                             rn, boawindow, split)"
   ]
  },
  {
   "cell_type": "code",
   "execution_count": null,
   "metadata": {
    "ExecuteTime": {
     "end_time": "2016-05-05T18:28:51.441397",
     "start_time": "2016-05-05T18:28:51.431066"
    },
    "collapsed": true,
    "hidden": true
   },
   "outputs": [],
   "source": [
    "def get_indices(sample_step, version='16', \n",
    "                day_start=daily_start, day_end=daily_end):\n",
    "    \"\"\"\n",
    "    Returns train, validation, test indices as a tuple\n",
    "    \n",
    "    sample_step is like '2 min', indicating the time between each index\n",
    "    version is 16 or 20, telling how many days to take into account.\n",
    "        Use only 16 if you intend to use bag-of-alarms.\n",
    "    day_start is the time of day where we start sampling\n",
    "    day_end is the time of day where we stop sampling\n",
    "    \"\"\"\n",
    "    days = list(map(lambda x: ud.design_matrices.get_split_days(version, x), \n",
    "                    ('train', 'val', 'test')))\n",
    "    \n",
    "    def convert(day):\n",
    "        return pd.date_range('{} {}'.format(day, day_start), \n",
    "                             '{} {}'.format(day, day_end), \n",
    "                             freq=sample_step)\n",
    "    \n",
    "    for i in range(len(days)):\n",
    "        splitdays = days[i]\n",
    "        v = convert(splitdays[0])\n",
    "        for d in splitdays[1:]:\n",
    "            v = v.union(convert(d))\n",
    "        v = v.sort_values()\n",
    "        days[i] = v\n",
    "    \n",
    "    return tuple(days)"
   ]
  },
  {
   "cell_type": "code",
   "execution_count": null,
   "metadata": {
    "ExecuteTime": {
     "end_time": "2016-05-05T18:29:42.688617",
     "start_time": "2016-05-05T18:29:42.664950"
    },
    "collapsed": false,
    "hidden": true
   },
   "outputs": [],
   "source": [
    "import os\n",
    "\n",
    "def construct(sample_step, lag, dcwindow, rn, boawindow):\n",
    "    names = list(map(\n",
    "                lambda x: get_name(sample_step=sample_step, \n",
    "                                   split=x, \n",
    "                                   lag=lag, \n",
    "                                   dcwindow=dcwindow, \n",
    "                                   rn=rn, \n",
    "                                   boawindow=boawindow), \n",
    "                ('train', 'test', 'val')))\n",
    "    \n",
    "    basepath = ud.paths.Paths.design_matrices\n",
    "    \n",
    "    if all((os.path.isfile(os.path.join(basepath, n)) for n in names)):\n",
    "        print('Dumps with settings ({}) already exist'.format(names[0]))\n",
    "        if input('Proceed anyway? y/n > ') != 'y':\n",
    "            print('Aborting...')\n",
    "            return\n",
    "        else:\n",
    "            print('Proceeding, overwriting old files')\n",
    "\n",
    "    def _construct(sampleidx):\n",
    "        return uf.sample_all(sampleidx,\n",
    "                        lag=lag,\n",
    "                        delta_c_kwargs={'window':dcwindow},\n",
    "                        r_kwargs={'n':rn},\n",
    "                        bag_of_alarms_kwargs={'window':boawindow})\n",
    "    \n",
    "    for name, idx in zip(names, get_indices(sample_step)):\n",
    "        path = os.path.join(basepath, name)\n",
    "        df = _construct(idx)\n",
    "        df.to_pickle(path)\n",
    "        print(name, 'stored in', path)    "
   ]
  },
  {
   "cell_type": "markdown",
   "metadata": {},
   "source": [
    "#### Run it!"
   ]
  },
  {
   "cell_type": "code",
   "execution_count": null,
   "metadata": {
    "ExecuteTime": {
     "end_time": "2016-05-05T18:31:43.678148",
     "start_time": "2016-05-05T18:31:26.604578"
    },
    "collapsed": false
   },
   "outputs": [],
   "source": [
    "construct(sample_step='2 min', lag='10 min', dcwindow='2 min', rn=10, boawindow='2 min')"
   ]
  }
 ],
 "metadata": {
  "kernelspec": {
   "display_name": "Python 3",
   "language": "python",
   "name": "python3"
  },
  "language_info": {
   "codemirror_mode": {
    "name": "ipython",
    "version": 3
   },
   "file_extension": ".py",
   "mimetype": "text/x-python",
   "name": "python",
   "nbconvert_exporter": "python",
   "pygments_lexer": "ipython3",
   "version": "3.5.1"
  },
  "notify_time": "30"
 },
 "nbformat": 4,
 "nbformat_minor": 0
}
