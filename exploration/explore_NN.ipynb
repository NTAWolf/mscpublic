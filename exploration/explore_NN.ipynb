{
 "cells": [
  {
   "cell_type": "code",
   "execution_count": null,
   "metadata": {
    "collapsed": false
   },
   "outputs": [],
   "source": [
    "import os\n",
    "\n",
    "import numpy as np\n",
    "import pandas as pd\n",
    "import seaborn as sns\n",
    "%matplotlib notebook\n",
    "\n",
    "from util import DataFrameBase, xlim_expand\n",
    "from tbtools.dev import IProgressBar, ProgressBar, subreload\n",
    "from tbtools.filewrangling import find_beginning_of_end, header_matches\n",
    "from tbtools.iter import impatient_search"
   ]
  },
  {
   "cell_type": "code",
   "execution_count": null,
   "metadata": {
    "collapsed": true
   },
   "outputs": [],
   "source": [
    "IProgressBar = subreload(IProgressBar)"
   ]
  },
  {
   "cell_type": "code",
   "execution_count": null,
   "metadata": {
    "collapsed": true
   },
   "outputs": [],
   "source": [
    "path = os.environ['HOME'] + \"/Speciale/data/NN/\""
   ]
  },
  {
   "cell_type": "code",
   "execution_count": null,
   "metadata": {
    "collapsed": true
   },
   "outputs": [],
   "source": [
    "def time_to_timedelta_pass_nans(val):\n",
    "    if type(val) is float and np.isnan(val):\n",
    "        return np.nan\n",
    "    if type(val) is datetime.time:\n",
    "        val = val.isoformat()\n",
    "    return pd.to_timedelta(val)\n",
    "\n",
    "def is_datetime_col(x):\n",
    "    return 'time' in x.lower() or \\\n",
    "           'dato' in x.lower() or \\\n",
    "           'date' in x.lower()\n",
    "        \n",
    "def convert_timedelta(df):\n",
    "    cols = [x for x in df if 'diff' in x.lower()]\n",
    "    df[cols] = df[cols].applymap(time_to_timedelta_pass_nans)\n",
    "    return df\n",
    "\n",
    "def read_csv(name):\n",
    "    p = path + name\n",
    "    parse_dates = header_matches(p, ';', is_datetime_col)\n",
    "    skip_footer = find_beginning_of_end(p, lambda x: x.startswith('EOF')) \n",
    "    df = pd.read_csv(p, sep=';', parse_dates=parse_dates, skip_footer=skip_footer)\n",
    "    df = convert_timedelta(df)\n",
    "    return df\n",
    "\n",
    "def read_excel(name):\n",
    "    p = path + name\n",
    "    df = pd.read_excel(p)\n",
    "    # Remove extraneous footer\n",
    "    rem = impatient_search(df.iloc[::-1, 0], lambda x: isinstance(x, str) and x.startswith('EOF'))\n",
    "    if rem is None: \n",
    "        rem = 0\n",
    "    else:\n",
    "        rem += 1        \n",
    "    df = df[:-rem]\n",
    "    df.replace('nan', np.nan)\n",
    "    # Convert datecols\n",
    "    parse_dates = list(filter(is_datetime_col, df.columns))\n",
    "    df[parse_dates] = df[parse_dates].applymap(pd.to_datetime)\n",
    "    df = convert_timedelta(df)\n",
    "    return df"
   ]
  },
  {
   "cell_type": "code",
   "execution_count": null,
   "metadata": {
    "collapsed": false,
    "scrolled": true
   },
   "outputs": [],
   "source": [
    "df = read_csv('NN.20. september.txt')"
   ]
  },
  {
   "cell_type": "code",
   "execution_count": null,
   "metadata": {
    "collapsed": false,
    "scrolled": true
   },
   "outputs": [],
   "source": [
    "df2 = read_excel('NN.20. september.xlsx')"
   ]
  },
  {
   "cell_type": "code",
   "execution_count": null,
   "metadata": {
    "collapsed": false
   },
   "outputs": [],
   "source": [
    "(df.fillna(0) == df2.fillna(0)).all().all()"
   ]
  },
  {
   "cell_type": "markdown",
   "metadata": {},
   "source": [
    "## Are all the excel files completely equivalent to the csv files?\n",
    "\n",
    "The following comparison shows that yes, yes they are. So we can ignore the excel files, as they are a subset of the data in the csv files."
   ]
  },
  {
   "cell_type": "code",
   "execution_count": null,
   "metadata": {
    "collapsed": true
   },
   "outputs": [],
   "source": [
    "ls = os.listdir(path)\n",
    "exc = [f for f in ls if f.endswith('.xlsx')]\n",
    "print('{} of {} files are excel format.'.format(len(exc), len(ls)))\n",
    "csvpartners = [f[:-4]+'txt' for f in exc]\n",
    "assert all([c in ls for c in csvpartners])\n",
    "pairs = list(zip(exc, csvpartners))\n",
    "\n",
    "equi = 0\n",
    "for x, c in IProgressBar(pairs):\n",
    "    dfx = read_excel(x)\n",
    "    dfc = read_csv(c)\n",
    "    if (df.fillna(0) == df2.fillna(0)).all().all():\n",
    "#         print('√')\n",
    "        equi += 1\n",
    "    else:\n",
    "        print('!! {} and {} are NOT equivalent.'.format(x, c))\n",
    "        \n",
    "print('{} of {} possible pairs are equivalent.'.format(equi, len(pairs)))"
   ]
  },
  {
   "cell_type": "markdown",
   "metadata": {},
   "source": [
    "Output:\n",
    "\n",
    "    14 of 44 files are excel format.\n",
    "     [                  0%                  ]  0 of 14 complete['Timestamp', 'OrganTimestamp']\n",
    "     [###               7%                  ]  1 of 14 complete['Timestamp', 'OrganTimestamp']\n",
    "     [#####            14%                  ]  2 of 14 complete['Timestamp', 'OrganTimestamp']\n",
    "     [########         21%                  ]  3 of 14 complete['Timestamp', 'OrganTimestamp']\n",
    "     [###########      29%                  ]  4 of 14 complete['Timestamp', 'OrganTimestamp']\n",
    "     [##############   36%                  ]  5 of 14 complete['Timestamp', 'OrganTimestamp']\n",
    "     [################ 43%                  ]  6 of 14 complete['Timestamp', 'OrganTimestamp']\n",
    "     [#################50%                  ]  7 of 14 complete['Timestamp', 'OrganTimestamp']\n",
    "     [#################57%##                ]  8 of 14 complete['Timestamp', 'OrganTimestamp']\n",
    "     [#################64%####              ]  9 of 14 complete['Timestamp', 'OrganTimestamp']\n",
    "     [#################71%#######           ]  10 of 14 complete['Timestamp', 'OrganTimestamp']\n",
    "     [#################79%##########        ]  11 of 14 complete['Timestamp', 'OrganTimestamp']\n",
    "     [#################86%#############     ]  12 of 14 complete['Timestamp', 'OrganTimestamp']\n",
    "     [#################93%###############   ]  13 of 14 complete['Timestamp', 'OrganTimestamp']\n",
    "     [################100%##################]  14 of 14 complete\n",
    "    Elapsed time: 0:04:43.405428\n",
    "    14 of 14 possible pairs are equivalent."
   ]
  },
  {
   "cell_type": "markdown",
   "metadata": {},
   "source": [
    "## Reorder with correctly sorting date names"
   ]
  },
  {
   "cell_type": "code",
   "execution_count": null,
   "metadata": {
    "collapsed": true
   },
   "outputs": [],
   "source": [
    "import re\n",
    "import shutil"
   ]
  },
  {
   "cell_type": "markdown",
   "metadata": {},
   "source": [
    "    ls = os.listdir(path)\n",
    "    cs = [f for f in ls if f.endswith('.txt')]\n",
    "\n",
    "    def extract_date(f):\n",
    "        year = 2012\n",
    "        murica = False\n",
    "        if 'oktober' in f:\n",
    "            month = 10\n",
    "        elif 'september' in f:\n",
    "            month = 9\n",
    "        elif '.9-' in f:\n",
    "            murica = True\n",
    "            month = 9\n",
    "        if not murica:\n",
    "            day = re.findall('\\d+', f)[0]\n",
    "        else:\n",
    "            day = re.findall('(?<=-)\\d+(?=-)', f)[0]\n",
    "        return datetime.date(year=int(year), month=int(month), day=int(day))\n",
    "\n",
    "    originalsdir = os.path.join(path, 'original')\n",
    "    os.makedirs(originalsdir)\n",
    "\n",
    "    for orig in cs:\n",
    "        n = extract_date(orig)\n",
    "        newname = 'B{}'.format(n)\n",
    "        shutil.copyfile(path+orig, path+newname)\n",
    "\n",
    "    #     print('{}: {}'.format(f, extract_date(f)))\n",
    "\n",
    "    for old in ls:\n",
    "        shutil.move(path+old, os.path.join(originalsdir, old))"
   ]
  },
  {
   "cell_type": "markdown",
   "metadata": {},
   "source": [
    "    # Append .csv to all files\n",
    "    ls = os.listdir(path)\n",
    "    for f in ls:\n",
    "        if f.startswith('B') and not f.endswith('.csv'):\n",
    "            os.rename(path+f, path+f+'.csv')\n"
   ]
  },
  {
   "cell_type": "code",
   "execution_count": null,
   "metadata": {
    "collapsed": false
   },
   "outputs": [],
   "source": [
    "df = read_csv('B2012-09-20.csv')"
   ]
  },
  {
   "cell_type": "code",
   "execution_count": null,
   "metadata": {
    "collapsed": false
   },
   "outputs": [],
   "source": [
    "print([x for x in df.columns])"
   ]
  }
 ],
 "metadata": {
  "kernelspec": {
   "display_name": "Python 3",
   "language": "python",
   "name": "python3"
  },
  "language_info": {
   "codemirror_mode": {
    "name": "ipython",
    "version": 3
   },
   "file_extension": ".py",
   "mimetype": "text/x-python",
   "name": "python",
   "nbconvert_exporter": "python",
   "pygments_lexer": "ipython3",
   "version": "3.5.1"
  }
 },
 "nbformat": 4,
 "nbformat_minor": 0
}
