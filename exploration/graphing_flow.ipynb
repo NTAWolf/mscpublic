{
 "cells": [
  {
   "cell_type": "code",
   "execution_count": null,
   "metadata": {
    "collapsed": true
   },
   "outputs": [],
   "source": [
    "import utils.data as ud\n",
    "import utils.plotting as up"
   ]
  },
  {
   "cell_type": "code",
   "execution_count": null,
   "metadata": {
    "collapsed": true
   },
   "outputs": [],
   "source": [
    "import tbtools.dev as tbdev"
   ]
  },
  {
   "cell_type": "code",
   "execution_count": null,
   "metadata": {
    "collapsed": true
   },
   "outputs": [],
   "source": [
    "import numpy as np\n",
    "import pandas as pd"
   ]
  },
  {
   "cell_type": "code",
   "execution_count": null,
   "metadata": {
    "collapsed": true
   },
   "outputs": [],
   "source": [
    "import matplotlib.pylab as plt\n",
    "import matplotlib as mpl\n",
    "import seaborn as sns\n",
    "%matplotlib inline"
   ]
  },
  {
   "cell_type": "code",
   "execution_count": null,
   "metadata": {
    "collapsed": true
   },
   "outputs": [],
   "source": [
    "import utils.plotting.sankeylike as ups"
   ]
  },
  {
   "cell_type": "markdown",
   "metadata": {},
   "source": [
    "## Demonstrate beautiful flowmap"
   ]
  },
  {
   "cell_type": "code",
   "execution_count": null,
   "metadata": {
    "collapsed": false
   },
   "outputs": [],
   "source": [
    "bbh = ud.enhanced.get('bbh')"
   ]
  },
  {
   "cell_type": "code",
   "execution_count": null,
   "metadata": {
    "collapsed": false
   },
   "outputs": [],
   "source": [
    "bbh.uid.value_counts().head(100).index"
   ]
  },
  {
   "cell_type": "code",
   "execution_count": null,
   "metadata": {
    "collapsed": false
   },
   "outputs": [],
   "source": [
    "for uid, vals in bbh.groupby('uid'):\n",
    "    if (vals.Tx == 17).sum() == 2:\n",
    "        print(uid)\n",
    "        break"
   ]
  },
  {
   "cell_type": "code",
   "execution_count": null,
   "metadata": {
    "collapsed": false
   },
   "outputs": [],
   "source": [
    "trouble = bbh[bbh.uid == 37]"
   ]
  },
  {
   "cell_type": "code",
   "execution_count": null,
   "metadata": {
    "collapsed": false
   },
   "outputs": [],
   "source": [
    "diffs = pd.Series(trouble.index.values[1:] - trouble.index.values[:-1])"
   ]
  },
  {
   "cell_type": "code",
   "execution_count": null,
   "metadata": {
    "collapsed": true
   },
   "outputs": [],
   "source": [
    "max_interval = pd.to_timedelta('7 hours')"
   ]
  },
  {
   "cell_type": "code",
   "execution_count": null,
   "metadata": {
    "collapsed": false
   },
   "outputs": [],
   "source": [
    "trouble"
   ]
  },
  {
   "cell_type": "code",
   "execution_count": null,
   "metadata": {
    "collapsed": false
   },
   "outputs": [],
   "source": [
    "import utils.enhancement as ue"
   ]
  },
  {
   "cell_type": "code",
   "execution_count": null,
   "metadata": {
    "collapsed": false
   },
   "outputs": [],
   "source": [
    "rbbh = ud.raw.get('bbh', '2012-09-20 14:14:15', '2012-09-28 13:30:00')"
   ]
  },
  {
   "cell_type": "code",
   "execution_count": null,
   "metadata": {
    "collapsed": false,
    "scrolled": true
   },
   "outputs": [],
   "source": [
    "tr1 = rbbh[rbbh.HangerID.isin((60012, 60011))]"
   ]
  },
  {
   "cell_type": "code",
   "execution_count": null,
   "metadata": {
    "collapsed": true
   },
   "outputs": [],
   "source": [
    "tooactive = bbh.uid.value_counts()\n",
    "tooactive = tooactive[tooactive > 10].index\n",
    "bbh[bbh.uid.isin(tooactive)]"
   ]
  },
  {
   "cell_type": "code",
   "execution_count": null,
   "metadata": {
    "collapsed": false
   },
   "outputs": [],
   "source": [
    "bbh[bbh.uid == tooactive[0]]"
   ]
  },
  {
   "cell_type": "code",
   "execution_count": null,
   "metadata": {
    "collapsed": false
   },
   "outputs": [],
   "source": [
    "bbh[bbh.HangerID.isin((60012, 60011))].uid.value_counts()"
   ]
  },
  {
   "cell_type": "code",
   "execution_count": null,
   "metadata": {
    "collapsed": false
   },
   "outputs": [],
   "source": [
    "ue = tbdev.reload(ue)\n",
    "ue.bbh_assign_uids.assign_uids(rbbh[rbbh.HangerID.isin((60012, 60011))])"
   ]
  },
  {
   "cell_type": "code",
   "execution_count": null,
   "metadata": {
    "collapsed": false
   },
   "outputs": [],
   "source": [
    "diffs"
   ]
  },
  {
   "cell_type": "code",
   "execution_count": null,
   "metadata": {
    "collapsed": true
   },
   "outputs": [],
   "source": [
    "s = pd.Series(0, index=trouble.index)"
   ]
  },
  {
   "cell_type": "code",
   "execution_count": null,
   "metadata": {
    "collapsed": true
   },
   "outputs": [],
   "source": [
    "s.iloc[1:] = (diffs > max_interval).cumsum().values"
   ]
  },
  {
   "cell_type": "code",
   "execution_count": null,
   "metadata": {
    "collapsed": false
   },
   "outputs": [],
   "source": [
    "s"
   ]
  },
  {
   "cell_type": "code",
   "execution_count": null,
   "metadata": {
    "collapsed": false
   },
   "outputs": [],
   "source": [
    "(diffs > max_interval).shift(1)"
   ]
  },
  {
   "cell_type": "code",
   "execution_count": null,
   "metadata": {
    "collapsed": false
   },
   "outputs": [],
   "source": [
    "len(diffs)"
   ]
  },
  {
   "cell_type": "code",
   "execution_count": null,
   "metadata": {
    "collapsed": false,
    "scrolled": true
   },
   "outputs": [],
   "source": [
    "(diffs > max_interval).cumsum()"
   ]
  },
  {
   "cell_type": "code",
   "execution_count": null,
   "metadata": {
    "collapsed": false
   },
   "outputs": [],
   "source": [
    "ups = tbdev.reload(ups)\n",
    "ups.draw(bbh[bbh.uid.isin(bbh.uid.value_counts().head(1000).index)])\n",
    "up.save_fig('w13/flow_map.png', target='weekly')"
   ]
  },
  {
   "cell_type": "markdown",
   "metadata": {},
   "source": [
    "---"
   ]
  },
  {
   "cell_type": "code",
   "execution_count": null,
   "metadata": {
    "collapsed": true
   },
   "outputs": [],
   "source": [
    "from matplotlib.sankey import Sankey"
   ]
  },
  {
   "cell_type": "code",
   "execution_count": null,
   "metadata": {
    "collapsed": false
   },
   "outputs": [],
   "source": [
    "edges = {\n",
    "     1: [3, 15],\n",
    "     2: [3, 15],\n",
    "     4: [5],\n",
    "     5: [2, 6, 17],\n",
    "     6: [2, 17],\n",
    "     7: [3, 16],\n",
    "     8: [3, 16],\n",
    "     9: [10],\n",
    "    10: [8, 11, 17],\n",
    "    11: [8, 17],\n",
    "    12: [7, 8, 9],\n",
    "    13: [14],\n",
    "    14: [1, 2, 4],\n",
    "    15: [2, 4],\n",
    "    16: [8, 9],\n",
    "    21: [23],\n",
    "    22: [23],\n",
    "    23: [12, 13],\n",
    "}\n",
    "\n",
    "edges_list = [(x,z) for x in edges for z in edges[x]]"
   ]
  },
  {
   "cell_type": "code",
   "execution_count": null,
   "metadata": {
    "collapsed": false
   },
   "outputs": [],
   "source": [
    "flows=       [0.25 , 0.15 , 0.60 , -0.20  , -0.15   , -0.05  , -0.50   , -0.10]\n",
    "labels=      ['a'  , 'b'  , 'c'  , 'First', 'Second', 'Third', 'Fourth', 'Fifth']\n",
    "orientations=[-1  , 1   , 0   , 1      , 1       , 1      , 0       , -1]\n",
    "\n",
    "\n",
    "flows=       [0.5 ,     0.5 , 0.60 , -0.20  , -0.15   , -0.05  , -0.50   , -0.10]\n",
    "labels=      ['tx21', 'tx22', 'c'  , 'First', 'Second', 'Third', 'Fourth', 'Fifth']\n",
    "orientations=[-1  , 1   , 0   , 1      , 1       , 1      , 0       , -1]\n",
    "\n",
    "scale = 1/sum([f for f in flows if f>0])\n",
    "\n",
    "Sankey(flows=flows,\n",
    "       labels=labels,\n",
    "       orientations=orientations,\n",
    "       scale=scale).finish()\n",
    "plt.title(\"The default settings produce a diagram like this.\")"
   ]
  },
  {
   "cell_type": "code",
   "execution_count": null,
   "metadata": {
    "collapsed": false,
    "scrolled": true
   },
   "outputs": [],
   "source": [
    "bbh = ud.enhanced.get('bbh', '2012-09-28')"
   ]
  },
  {
   "cell_type": "code",
   "execution_count": null,
   "metadata": {
    "collapsed": false
   },
   "outputs": [],
   "source": [
    "sk.txgraph = tbdev.reload(sk.txgraph)\n",
    "sk = tbdev.reload(sk)\n",
    "\n",
    "sk.draw(bbh.iloc[:len(bbh)])"
   ]
  },
  {
   "cell_type": "markdown",
   "metadata": {},
   "source": [
    "---"
   ]
  },
  {
   "cell_type": "markdown",
   "metadata": {},
   "source": [
    "# What are the typical endpoints?"
   ]
  },
  {
   "cell_type": "code",
   "execution_count": null,
   "metadata": {
    "collapsed": true
   },
   "outputs": [],
   "source": [
    "bbh = ud.enhanced.get('bbh')"
   ]
  },
  {
   "cell_type": "code",
   "execution_count": null,
   "metadata": {
    "collapsed": true
   },
   "outputs": [],
   "source": [
    "endpoints = pd.Series(0, index=bbh.uid.unique())\n",
    "for uid, vals in bbh.groupby('uid'):\n",
    "    endpoints[uid] = vals.sort_index().Tx.iloc[-1]"
   ]
  },
  {
   "cell_type": "code",
   "execution_count": null,
   "metadata": {
    "collapsed": false
   },
   "outputs": [],
   "source": [
    "endpoints.value_counts()"
   ]
  },
  {
   "cell_type": "markdown",
   "metadata": {},
   "source": [
    "# Work on binary comparisons"
   ]
  },
  {
   "cell_type": "code",
   "execution_count": null,
   "metadata": {
    "collapsed": true
   },
   "outputs": [],
   "source": [
    "from utils.plotting import primitives as upp\n",
    "upp = tbdev.reload(upp)"
   ]
  },
  {
   "cell_type": "code",
   "execution_count": null,
   "metadata": {
    "collapsed": false
   },
   "outputs": [],
   "source": [
    "upp = tbdev.reload(upp)\n",
    "\n",
    "ax = upp.plot_squares([[1,2], [2,2], [3,-1]], [10, 10, 50])\n",
    "_ = upp.plot_squares([[0,1], [1,3], [3,1]], [20, 20, 30], colors='r', ax=ax)\n",
    "_ = upp.plot_squares([[0,2], [1,1], [2,0]], 10, colors='g', ax=ax)\n",
    "_ = upp.plot_poly(3, [[0.5,2], [1,1.8], [2,0.2]], 10, colors='g', ax=ax)"
   ]
  },
  {
   "cell_type": "code",
   "execution_count": null,
   "metadata": {
    "collapsed": true
   },
   "outputs": [],
   "source": [
    "df = pd.DataFrame({'a':[1,0,1,0,1,0], 'b':[0,0,1,1,0,1], 'c':[1,0,0,0,0,0]}, index=list('654321'))"
   ]
  },
  {
   "cell_type": "code",
   "execution_count": null,
   "metadata": {
    "collapsed": true
   },
   "outputs": [],
   "source": [
    "import utils.plotting.activity as upa"
   ]
  },
  {
   "cell_type": "code",
   "execution_count": null,
   "metadata": {
    "collapsed": false
   },
   "outputs": [],
   "source": [
    "upa = tbdev.reload(upa)\n",
    "upa.prim = tbdev.reload(upa.prim)\n",
    "# upa.plot(pd.concat(2*[pd.concat([df,df])], axis=1), figsize=(4,None))\n",
    "upa.compare(df, df-1, figsize=(None,5))"
   ]
  }
 ],
 "metadata": {
  "kernelspec": {
   "display_name": "Python 3",
   "language": "python",
   "name": "python3"
  },
  "language_info": {
   "codemirror_mode": {
    "name": "ipython",
    "version": 3
   },
   "file_extension": ".py",
   "mimetype": "text/x-python",
   "name": "python",
   "nbconvert_exporter": "python",
   "pygments_lexer": "ipython3",
   "version": "3.5.1"
  }
 },
 "nbformat": 4,
 "nbformat_minor": 0
}
